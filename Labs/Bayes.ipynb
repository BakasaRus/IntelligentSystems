{
 "cells": [
  {
   "cell_type": "markdown",
   "source": [
    "# ЛР 4. Наивный байесовский классификатор\n",
    "\n",
    "## Подготовка\n",
    "\n",
    "Импортируем нужные нам модули"
   ],
   "metadata": {
    "collapsed": false,
    "pycharm": {
     "name": "#%% md\n"
    }
   }
  },
  {
   "cell_type": "code",
   "execution_count": 1,
   "metadata": {
    "collapsed": true,
    "pycharm": {
     "is_executing": false
    }
   },
   "outputs": [
    {
     "name": "stdout",
     "text": [
      "Populating the interactive namespace from numpy and matplotlib\n"
     ],
     "output_type": "stream"
    }
   ],
   "source": [
    "from os import walk\n",
    "import re\n",
    "\n",
    "from sklearn.naive_bayes import BernoulliNB\n",
    "from sklearn.model_selection import cross_validate, train_test_split\n",
    "from sklearn.metrics import roc_curve, precision_score, accuracy_score, plot_confusion_matrix\n",
    "from sklearn.feature_extraction.text import CountVectorizer\n",
    "\n",
    "import matplotlib.pyplot as plt\n",
    "import pandas as pd\n",
    "import numpy as np\n",
    "import warnings\n",
    "\n",
    "warnings.filterwarnings('ignore')\n",
    "%matplotlib inline"
   ]
  },
  {
   "cell_type": "markdown",
   "source": [
    "Пройдёмся по всем файлам и импортируем из них данные (формат очень удобный, да)"
   ],
   "metadata": {
    "collapsed": false,
    "pycharm": {
     "name": "#%% md\n"
    }
   }
  },
  {
   "cell_type": "code",
   "execution_count": 2,
   "outputs": [
    {
     "name": "stdout",
     "text": [
      "./messages/ [] ['9546legit21.txt', '4589spmsg100.txt', '41074legit30.txt', '9975legit14.txt', '6111legit39.txt', '2181spmsg66.txt', '7550legit10.txt', '917spmsg96.txt', '646legit14.txt', '9794legit54.txt', '6144legit30.txt', '0873legit53.txt', '8771spmsg71.txt', '7823legit60.txt', '9911legit41.txt', '2931legit0.txt', '9613legit33.txt', '0885spmsg84.txt', '5968spmsg98.txt', '6820spmsg96.txt', '091legit34.txt', '5709spmsg76.txt', '416legit6.txt', '2502spmsg81.txt', '61072legit53.txt', '1617legit43.txt', '0439spmsg89.txt', '3295legit7.txt', '6586legit47.txt', '6546legit54.txt', '077spmsg105.txt', '5726legit35.txt', '9994legit44.txt', '7791legit30.txt', '5890legit29.txt', '81086legit13.txt', '9863legit32.txt', '9482spmsg63.txt', '9613spmsg68.txt', '3464legit0.txt', '0661spmsg76.txt', '7416legit7.txt', '0170legit58.txt', '8916legit14.txt', '3601spmsg88.txt', '1396legit12.txt', '71050legit29.txt', '8830legit39.txt', '5242spmsg91.txt', '8353spmsg92.txt', '5535spmsg92.txt', '8430legit4.txt', '9940legit39.txt', '1675legit22.txt', '6556legit43.txt', '2709legit14.txt', '1351legit46.txt', '9757legit40.txt', '2882legit13.txt', '1104spmsg86.txt', '61020legit36.txt', '9678legit26.txt', '6514legit20.txt', '0522spmsg100.txt', '1366legit6.txt', '414legit25.txt', '3589legit49.txt', '9437spmsg88.txt', '81087spmsg88.txt', '8101legit52.txt', '9296spmsg94.txt', '5667legit42.txt', '6370legit21.txt', '3762legit23.txt', '2892spmsg96.txt', '21023legit1.txt', '8309spmsg98.txt', '8629legit43.txt', '3987legit52.txt', '4687spmsg77.txt', '31024legit30.txt', '6176spmsg89.txt', '0754legit54.txt', '6726legit48.txt', '81049legit34.txt', '9176spmsg81.txt', '0439legit24.txt', '0511legit56.txt', '8571spmsg97.txt', '4257legit50.txt', '1129legit35.txt', '01035spmsg107.txt', '5171spmsg95.txt', '0999spmsg66.txt', '71043legit52.txt', '0614legit40.txt', '7542legit39.txt', '4540legit47.txt', '3772spmsg62.txt', '2829legit42.txt', '1693legit30.txt', '1457legit19.txt', '4852spmsg88.txt', '5145legit33.txt', '8443spmsg72.txt', '6361legit26.txt', '751legit46.txt', '4776spmsg107.txt', '8884legit35.txt', '3921spmsg90.txt', '4499legit33.txt', '8122legit60.txt', '6261legit52.txt', '9478legit15.txt', '4728spmsg71.txt', '51065legit18.txt', '8979legit3.txt', '9808spmsg67.txt', '0739spmsg77.txt', '5961spmsg74.txt', '7851legit13.txt', '8134legit22.txt', '3536spmsg92.txt', '3305spmsg87.txt', '5260legit6.txt', '4749spmsg103.txt', '3166legit21.txt', '91098spmsg108.txt', '575legit45.txt', '9605legit47.txt', '5718legit28.txt', '7875spmsg95.txt', '2986legit51.txt', '6782spmsg100.txt', '3673legit55.txt', '1748legit18.txt', '0601legit35.txt', '6371spmsg66.txt', '3201spmsg99.txt', '9972legit55.txt', '4207legit56.txt', '0231legit1.txt', '1198legit14.txt', '1623legit37.txt', '7903legit14.txt', '9332legit46.txt', '9824spmsg69.txt', '992spmsg101.txt', '7607spmsg81.txt', '0710legit59.txt', '3594legit34.txt', '6490legit51.txt', '398spmsg82.txt', '8649spmsg70.txt', '4567spmsg62.txt', '6942legit50.txt', '0679legit17.txt', '41091spmsg79.txt', '0524legit33.txt', '9951legit7.txt', '5247spmsg69.txt', '91060legit11.txt', '9540spmsg70.txt', '6668spmsg75.txt', '6338legit32.txt', '1585spmsg78.txt', '0528spmsg81.txt', '964legit17.txt', '8242spmsg105.txt', '8123legit36.txt', '8689legit46.txt', '4531legit7.txt', '0634legit26.txt', '4826spmsg104.txt', '0865spmsg68.txt', '4994legit2.txt', '4372legit54.txt', '2397spmsg108.txt', '7899legit17.txt', '7589legit24.txt', '3480spmsg75.txt', '1121legit53.txt', '6410legit46.txt', '5216spmsg66.txt', '9502spmsg82.txt', '5785legit57.txt', '8167legit25.txt', '2917spmsg64.txt', '8775legit2.txt', '31019legit8.txt', '7129legit0.txt', '0705legit14.txt', '166spmsg84.txt', '4292legit46.txt', '0259spmsg67.txt', '596spmsg100.txt', '2642legit32.txt', '31057legit54.txt', '3254legit41.txt', '6164legit35.txt', '6288legit40.txt', '7504spmsg96.txt', '4930legit41.txt', '3749spmsg94.txt', '0725legit46.txt', '2366legit46.txt', '3967spmsg104.txt', '5997spmsg64.txt', '8233spmsg100.txt', '5632legit49.txt', '9596spmsg77.txt', '1739spmsg105.txt', '8296legit57.txt', '1791legit39.txt', '4704spmsg106.txt', '9904legit19.txt', '3888legit12.txt', '2538legit39.txt', '4940spmsg96.txt', '5798spmsg77.txt', '9444spmsg62.txt', '4294spmsg86.txt', '94spmsg66.txt', '2854spmsg89.txt', '8769spmsg76.txt', '1472legit40.txt', '1926spmsg88.txt', '8947legit48.txt', '0205spmsg73.txt', '6362legit2.txt', '31029legit36.txt', '6397legit60.txt', '11042legit26.txt', '2129legit33.txt', '4774legit1.txt', '6350spmsg92.txt', '623legit0.txt', '3736legit37.txt', '0594legit27.txt', '4347spmsg69.txt', '291spmsg67.txt', '3861legit26.txt', '2482legit59.txt', '8280legit9.txt', '1801legit50.txt', '4830spmsg102.txt', '3897spmsg61.txt', '5424legit15.txt', '2685spmsg91.txt', '1298legit31.txt', '7620spmsg104.txt', '1403legit29.txt', '9606legit30.txt', '1351spmsg94.txt', '5360spmsg102.txt', '377spmsg102.txt', '2836legit37.txt', '3499legit18.txt', '7504spmsg97.txt', '9527legit57.txt', '0258spmsg97.txt', '6635legit41.txt', '8752spmsg102.txt', '0771legit16.txt', '7230spmsg101.txt', '8259spmsg106.txt', '0776legit30.txt', '7486spmsg69.txt', '81055legit0.txt', '71019spmsg83.txt', '5777spmsg65.txt', '1104legit55.txt', '7257legit20.txt', '7897legit26.txt', '0471spmsg106.txt', '1101spmsg96.txt', '7692spmsg70.txt', '0631spmsg86.txt', '71090legit31.txt', '2875spmsg105.txt', '0313spmsg95.txt', '5751spmsg93.txt', '6760spmsg106.txt', '3379legit10.txt', '6956spmsg98.txt', '9946legit45.txt', '5629spmsg84.txt', '47legit15.txt', '8183spmsg61.txt', '8168spmsg73.txt', '7786legit49.txt', '7218legit3.txt', '2890spmsg77.txt', '6779spmsg81.txt', '4998legit18.txt', '1685spmsg64.txt', '9384legit35.txt', '9661spmsg71.txt', '1442legit34.txt', '9953spmsg65.txt', '8669spmsg81.txt', '2125legit34.txt', '0337legit39.txt', '2464legit45.txt', '01086spmsg101.txt', '7546spmsg74.txt', '9269legit51.txt', '4463legit29.txt', '4697spmsg72.txt', '3347legit1.txt', '6812spmsg83.txt', '31017spmsg80.txt', '2648legit23.txt', '3160spmsg71.txt', '2473spmsg73.txt', '6234spmsg61.txt', '4213legit44.txt', '3617spmsg96.txt', '021spmsg80.txt', '0990legit55.txt', '3545spmsg83.txt', '8905legit40.txt', '01035spmsg69.txt', '1110legit57.txt', '5301legit51.txt', '0773spmsg92.txt', '9288legit18.txt', '01058spmsg72.txt', '3832spmsg76.txt', '2515spmsg75.txt', '0661spmsg71.txt', '7645spmsg88.txt', '537legit31.txt', '7173legit36.txt', '4448spmsg66.txt', '94legit2.txt', '7687spmsg63.txt', '6431legit19.txt', '6989legit58.txt', '2155legit53.txt', '1227legit60.txt', '5548spmsg85.txt', '6143legit42.txt', '0607legit4.txt', '2459legit26.txt', '5820legit8.txt', '3448spmsg73.txt', '6992spmsg84.txt', '0570legit22.txt', '61054legit15.txt', '9856spmsg73.txt', '6794legit25.txt', '1889legit5.txt', '51074spmsg72.txt', '0677spmsg85.txt', '3524legit53.txt', '5595legit50.txt', '8828legit10.txt', '9473legit56.txt', '8923legit56.txt', '9787spmsg91.txt', '31038legit19.txt', '3977spmsg100.txt', '8150legit44.txt', '1118spmsg100.txt', '3646spmsg85.txt', '5531spmsg88.txt', '5870legit53.txt', '7523legit47.txt', '2744spmsg72.txt', '743legit51.txt', '0210spmsg93.txt', '4857legit53.txt', '8416spmsg79.txt', '1584legit41.txt', '9924spmsg76.txt', '3645spmsg89.txt', '7995spmsg71.txt', '5826spmsg63.txt', '9195spmsg61.txt', '8725legit15.txt', '644spmsg62.txt', '6880legit6.txt', '5601legit47.txt', '9295legit22.txt', '7813legit16.txt', '0184spmsg61.txt', '1835spmsg82.txt', '0300legit6.txt', '0755legit20.txt', '8103spmsg64.txt', '3613spmsg107.txt', '9116spmsg79.txt', '9903spmsg93.txt', '6689legit12.txt', '7390spmsg82.txt', '9617spmsg64.txt', '9157legit24.txt', '1949legit7.txt', '6507legit23.txt', '427spmsg87.txt', '7976spmsg67.txt', '253spmsg84.txt', '5697legit60.txt', '4609spmsg70.txt', '5564spmsg107.txt', '2431spmsg99.txt', '4865spmsg83.txt', '3952spmsg101.txt', '2382spmsg68.txt', '0953spmsg102.txt', '41017spmsg73.txt', '7623legit1.txt', '5478spmsg94.txt', '134spmsg72.txt', '4392legit34.txt', '5508legit25.txt', '4820spmsg81.txt', '813spmsg84.txt', '7244legit44.txt', '01076legit21.txt', '9825spmsg83.txt', '2617spmsg94.txt', '9334spmsg104.txt', '5209legit14.txt', '1340legit36.txt', '235spmsg90.txt', '7207spmsg73.txt', '8209legit42.txt', '4769legit40.txt', '5234spmsg75.txt', '7385legit18.txt', '4263legit26.txt', '2728legit48.txt', '3732legit45.txt', '7332spmsg91.txt', '81053spmsg93.txt', '11006spmsg75.txt', '1312spmsg77.txt', '0520legit38.txt', '0149spmsg79.txt', '1808spmsg93.txt', '2839legit54.txt', '81058spmsg77.txt', '334spmsg79.txt', '84spmsg87.txt', '6934legit44.txt', '5378legit12.txt', '5422legit52.txt', '6503legit59.txt', '2431spmsg79.txt', '6921legit55.txt', '4947spmsg98.txt', '2339spmsg93.txt', '5426legit26.txt', '00legit29.txt', '5315spmsg61.txt', '841spmsg103.txt', '4104spmsg99.txt', '8442legit20.txt', '6222spmsg105.txt', '9342legit38.txt', '0405legit42.txt', '240legit60.txt', '0923legit13.txt', '8207legit24.txt', '2657spmsg82.txt', '2450spmsg76.txt', '2493legit27.txt', '7779spmsg66.txt', '177spmsg68.txt', '8319spmsg86.txt', '7981spmsg108.txt', '3528spmsg108.txt', '8927spmsg80.txt', '539legit48.txt', '3407legit60.txt', '8887legit30.txt', '9554spmsg75.txt', '9956legit60.txt', '8253legit1.txt', '8838legit26.txt', '5641spmsg68.txt', '641spmsg103.txt', '3526legit33.txt', '3483legit59.txt', '6993legit17.txt', '0678legit57.txt', '8791legit37.txt', '71020legit50.txt', '9603legit53.txt', '0364legit15.txt', '121spmsg62.txt', '51088legit34.txt', '0227legit48.txt', '6999legit31.txt', '5138spmsg86.txt', '61049legit37.txt', '462spmsg97.txt', '8822legit49.txt', '1217legit1.txt', '1221legit54.txt', '51080legit13.txt', '6756legit38.txt', '7452legit6.txt', '4859legit9.txt', '919spmsg106.txt', '6339legit28.txt', '1452spmsg107.txt', '7836spmsg94.txt', '3938legit35.txt', '8509spmsg75.txt', '5252spmsg106.txt', '0452legit44.txt', '7685legit9.txt', '2486legit5.txt', '5324legit40.txt', '8858spmsg108.txt', '0810spmsg96.txt', '2178legit57.txt', '0337spmsg75.txt', '51081spmsg82.txt', '3371legit13.txt', '7617legit45.txt', '7883spmsg86.txt', '9614spmsg92.txt', '4780spmsg91.txt', '6720spmsg93.txt', '4148spmsg95.txt', '4288legit27.txt', '4454legit58.txt', '8778spmsg69.txt', '0170legit9.txt', '0157legit50.txt', '1380spmsg74.txt', '812legit7.txt', '21093legit4.txt', '3314legit31.txt', '988legit29.txt', '1249spmsg83.txt', '842legit47.txt', '9326legit37.txt', '25legit43.txt', '0630legit10.txt', '4460legit17.txt', '130spmsg102.txt', '71088legit41.txt', '3422legit32.txt', '1808legit47.txt', '9858spmsg105.txt', '3257legit11.txt', '8456spmsg85.txt', '6799spmsg108.txt', '41063spmsg93.txt', '8250legit38.txt', '0808legit3.txt', '3740legit15.txt', '4954spmsg78.txt', '7337legit25.txt', '2185legit10.txt', '2146legit16.txt', '1489legit32.txt', '1433spmsg69.txt', '0365spmsg99.txt', '3186legit57.txt', '1848spmsg92.txt', '4890legit35.txt', '3707spmsg74.txt', '9486legit4.txt', '1459spmsg101.txt', '8658legit53.txt', '4279spmsg89.txt', '0498legit19.txt', '574legit43.txt', '9954legit31.txt', '0673spmsg94.txt', '2702spmsg62.txt', '815spmsg101.txt', '1997spmsg91.txt', '9464spmsg100.txt', '1145legit11.txt', '11074legit27.txt', '664spmsg63.txt', '7669spmsg75.txt', '9899spmsg99.txt', '9835legit58.txt', '9618legit48.txt', '9298spmsg102.txt', '7341legit58.txt', '3781legit38.txt', '61062spmsg69.txt', '0209spmsg74.txt', '7228spmsg79.txt', '9277legit20.txt', '41023legit23.txt', '3754spmsg70.txt', '015legit28.txt', '2715spmsg69.txt', '01006legit31.txt', '5481legit1.txt', '51098spmsg78.txt', '6633spmsg78.txt', '7975spmsg65.txt', '8958legit23.txt', '2265legit17.txt', '9871spmsg90.txt', '4110legit20.txt', '3134spmsg65.txt', '1283legit10.txt', '4989legit21.txt', '2212legit8.txt', '22spmsg102.txt', '9848legit6.txt', '4682spmsg65.txt', '8663legit11.txt', '11037legit16.txt', '2265spmsg88.txt', '714legit8.txt', '2102legit44.txt', '7748legit57.txt', '41061spmsg92.txt', '057spmsg108.txt', '6552legit4.txt', '2405legit3.txt', '6785legit22.txt', '2435legit55.txt', '3472legit56.txt', '5296spmsg89.txt', '487legit13.txt', '4793legit12.txt', '478legit57.txt', '1113legit17.txt', '5607legit10.txt', '5381spmsg62.txt', '26spmsg103.txt', '11073spmsg79.txt', '4826legit60.txt', '21034spmsg65.txt', '61055legit57.txt', '9687spmsg80.txt', '4295spmsg68.txt', '2628legit58.txt', '1472legit9.txt', '8503legit45.txt', '5980legit11.txt', '5567legit17.txt', '7750legit35.txt', '2788legit49.txt', '3261legit24.txt', '6786legit33.txt', '2940legit25.txt', '2849spmsg80.txt', '4723spmsg82.txt', '31064spmsg93.txt', '3714spmsg84.txt', '3653legit58.txt', '233spmsg85.txt', '21065legit56.txt', '5162legit54.txt', '0867spmsg104.txt', '025legit11.txt', '3109legit40.txt', '9859legit23.txt', '599spmsg87.txt', '0908spmsg70.txt', '4421legit3.txt', '2433spmsg83.txt', '7229legit33.txt', '5956legit59.txt', '9517legit3.txt', '0289spmsg82.txt', '1123legit23.txt', '51048legit27.txt', '3594spmsg68.txt', '11074spmsg70.txt', '4765spmsg105.txt', '2935spmsg74.txt', '2682spmsg106.txt', '5998spmsg97.txt', '3913legit9.txt', '454legit22.txt', '1308spmsg80.txt', '71079spmsg80.txt', '9510spmsg98.txt', '312spmsg63.txt', '0303legit2.txt', '9847legit52.txt', '2786spmsg101.txt', '7726legit55.txt', '7263spmsg72.txt', '1468spmsg108.txt', '7955legit11.txt', '4996spmsg74.txt', '762legit42.txt', '9625legit49.txt', '1409legit59.txt', '3993spmsg77.txt', '5529legit0.txt', '7863legit54.txt', '2345legit2.txt', '6199legit10.txt', '8331legit31.txt', '11003spmsg97.txt', '3927legit27.txt', '585legit3.txt', '1143spmsg67.txt', '51045spmsg79.txt', '9126legit12.txt', '6354legit34.txt', '5288legit24.txt', '7315spmsg89.txt', '5951legit23.txt', '9839spmsg97.txt', '5137spmsg108.txt', '4596legit0.txt', '1387legit0.txt', '8876spmsg74.txt', '9255legit1.txt', '554spmsg81.txt', '1102spmsg63.txt', '8210legit58.txt', '2267spmsg63.txt', '2153legit19.txt', '0876legit25.txt', '8300spmsg94.txt', '6104spmsg74.txt', '71064spmsg61.txt', '2757legit28.txt', '5842spmsg71.txt', '7227spmsg78.txt', '7214legit48.txt', '9450spmsg78.txt', '3938spmsg98.txt', '094spmsg83.txt', '1980legit58.txt', '4836spmsg75.txt', '9990legit50.txt', '3272spmsg81.txt', '6549spmsg82.txt', '8859spmsg62.txt', '7637legit12.txt', '824legit27.txt', '6751legit11.txt', '01002legit41.txt', '6709legit45.txt', '71002spmsg102.txt', '8542spmsg67.txt', '2757legit22.txt', '1346spmsg104.txt', '0108legit18.txt', '4544spmsg67.txt', '760spmsg85.txt', '22legit52.txt', '3644legit44.txt', '1763spmsg65.txt', '46legit39.txt', '91024legit9.txt', '8948spmsg104.txt', '1224legit20.txt', '4264legit45.txt', '1915legit33.txt', '91057legit0.txt', '4609legit42.txt', '0927legit12.txt', '317spmsg69.txt', '4724spmsg85.txt', '3683spmsg95.txt', '7821legit4.txt', '0327spmsg91.txt', '7263legit40.txt', '4568spmsg84.txt', '1660legit56.txt', '2319legit50.txt', '1545legit49.txt', '8653legit18.txt', '3435legit3.txt', '1208legit52.txt', '6441legit9.txt', '1140legit28.txt', '0610legit5.txt', '6425spmsg97.txt', '5470legit2.txt', '7134spmsg77.txt', '6527spmsg71.txt', '3629spmsg64.txt', '01024legit7.txt', '2740spmsg98.txt', '5794legit32.txt', '8220spmsg82.txt', '6509legit8.txt', '4552legit49.txt', '331spmsg97.txt', '2578legit41.txt', '1870spmsg103.txt', '2746spmsg71.txt', '9416legit36.txt', '7944legit56.txt', '3675legit17.txt', '1463legit3.txt', '8135legit12.txt', '7503spmsg107.txt', '6726spmsg80.txt', '8189spmsg68.txt', '7485spmsg64.txt', '2337legit24.txt', '6783spmsg76.txt', '4359spmsg61.txt', '2273spmsg61.txt', '4817legit37.txt', '1679legit24.txt', '9571spmsg84.txt', '8648legit51.txt', '9996spmsg86.txt', '1617spmsg61.txt', '5262spmsg67.txt', '1945spmsg76.txt', '7295legit43.txt', '4954legit8.txt', '6159legit24.txt', '9149spmsg72.txt', '2629spmsg100.txt', '256legit38.txt', '7977spmsg76.txt', '3124legit22.txt', '5720spmsg73.txt', '4500legit4.txt', '21014legit15.txt', '0694spmsg78.txt', '749legit5.txt', '2740spmsg104.txt', '31016legit46.txt', '0749spmsg65.txt', '71018legit32.txt', '5985spmsg104.txt', '3921legit47.txt', '1422legit51.txt', '6140spmsg64.txt', '8319spmsg91.txt', '6744spmsg90.txt', '01011spmsg62.txt', '6260spmsg102.txt', '5538legit16.txt', '290spmsg97.txt', '2485legit36.txt', '6676spmsg107.txt', '9979spmsg74.txt', '5824legit9.txt', '8536legit41.txt', '8114spmsg65.txt', '09legit47.txt', '0901legit23.txt', '932spmsg103.txt', '5450spmsg103.txt', '0602legit49.txt', '4285spmsg94.txt', '5443spmsg80.txt', '3186legit20.txt', '2822spmsg92.txt', '8544legit32.txt', '6109spmsg104.txt', '4362legit28.txt', '6405spmsg77.txt', '569legit38.txt', '41093legit32.txt', '1895spmsg106.txt', '619legit7.txt', '3857spmsg105.txt', '3626spmsg106.txt', '6552legit49.txt', '7751legit23.txt', '4205legit38.txt', '5626spmsg101.txt', '31019legit14.txt', '5233legit21.txt', '3705spmsg78.txt', '3985legit43.txt', '2883spmsg78.txt', '0573spmsg98.txt', '4363spmsg101.txt', '1334spmsg85.txt', '747legit28.txt', '7357legit22.txt', '9952legit42.txt', '0147legit51.txt', '4203spmsg80.txt', '8429legit19.txt', '4466legit16.txt', '9290legit10.txt', '1526spmsg87.txt', '8622legit28.txt', '5111legit41.txt', '1323spmsg98.txt', '3595legit42.txt', '71011legit38.txt', '3912spmsg86.txt', '2683legit29.txt', '7146spmsg62.txt', '7611legit59.txt', '6863spmsg88.txt', '1239legit4.txt', '1803spmsg73.txt', '4845legit48.txt', '2812legit21.txt', '6497spmsg68.txt', '6417legit27.txt', '2949legit9.txt', '0655legit52.txt', '4320spmsg108.txt', '3674spmsg91.txt', '5786legit55.txt', '5459legit36.txt', '6635legit1.txt', '0421legit37.txt', '1941legit15.txt', '3381legit6.txt', '0513spmsg103.txt', '5415legit46.txt', '5450legit44.txt', '3711legit4.txt', '1619spmsg89.txt', '61000spmsg79.txt', '8654legit5.txt', '0782legit60.txt', '1394spmsg90.txt', '4158legit19.txt', '91037legit5.txt', '01019spmsg88.txt', '8724spmsg83.txt', '71046spmsg87.txt', '3285legit50.txt', '81094legit8.txt', '4718legit43.txt', '7510legit2.txt', '4939legit10.txt', '5796legit5.txt', '755legit19.txt', '3255legit28.txt', '2304legit18.txt', '7424legit27.txt', '8894spmsg66.txt', '6709spmsg70.txt', '980legit16.txt', '4297legit36.txt', '1272legit8.txt', '640legit18.txt', '2364spmsg87.txt', '6134spmsg65.txt', '9452legit59.txt', '0625legit32.txt', '8338legit29.txt', '8903legit33.txt', '53legit7.txt', '9196legit13.txt', '6578spmsg99.txt', '7591spmsg99.txt', '8255spmsg90.txt', '21049legit7.txt', '4487legit55.txt', '8921spmsg96.txt', '911spmsg85.txt', '3604legit5.txt', '8905spmsg107.txt', '2638legit11.txt', '6453spmsg73.txt', '5995spmsg99.txt', '06legit45.txt', '9222legit34.txt', '1422spmsg71.txt', '8293spmsg63.txt', '4417legit59.txt', '1207spmsg66.txt', '8198legit59.txt', '1818legit42.txt', '4776legit24.txt', '4155legit51.txt', '6763legit5.txt', '3147legit48.txt', '5236legit58.txt', '2660spmsg107.txt', '9645legit28.txt', '6283spmsg85.txt', '7220legit15.txt', '5435legit56.txt', '7582legit37.txt', '8948spmsg89.txt', '9128legit27.txt', '2490legit35.txt', '4339spmsg90.txt', '7132spmsg84.txt', '982legit43.txt', '6765spmsg67.txt', '7813spmsg106.txt', '9447spmsg87.txt', '4158spmsg76.txt', '7684spmsg68.txt', '0405legit8.txt', '7188legit53.txt', '8872legit54.txt', '1719spmsg95.txt', '4791legit11.txt', '5754legit37.txt', '7144spmsg100.txt', '6318legit29.txt', '3718spmsg67.txt', '7962spmsg92.txt', '91089spmsg107.txt', '0510spmsg64.txt', '0359legit0.txt', '393legit16.txt', '6729spmsg72.txt', '6232spmsg95.txt', '0615spmsg87.txt', '6502spmsg94.txt', '5893spmsg90.txt', '0403legit43.txt', '3352spmsg72.txt', '2134spmsg95.txt', '3878legit29.txt', '8788legit16.txt', '0530legit36.txt', '5576legit22.txt', '1757legit25.txt', '61044legit16.txt', '41008legit5.txt', '7805spmsg93.txt', '2457spmsg86.txt', '4431legit52.txt', '2857legit30.txt', '580spmsg96.txt', '8829legit50.txt', '2595legit6.txt', '2512spmsg70.txt', '7183legit21.txt', '8867legit21.txt', '0249spmsg63.txt', '6762spmsg91.txt', '4405legit14.txt', '3507legit25.txt', '3419spmsg66.txt', '5651legit19.txt', '329legit39.txt', '177spmsg99.txt', '42legit31.txt', '21001legit47.txt', '7783spmsg90.txt', '6197legit3.txt', '562spmsg83.txt', '1469legit48.txt', '4242spmsg64.txt', '8432spmsg95.txt', '8951legit6.txt', '71005spmsg98.txt', '5978spmsg70.txt', '761spmsg105.txt', '5580spmsg105.txt', '1270spmsg81.txt', '51054legit20.txt', '2319legit40.txt', '5724legit30.txt', '9106legit25.txt', '9729spmsg89.txt', '7137legit34.txt', '61027spmsg87.txt', '0768spmsg90.txt', '9736spmsg95.txt', '1716legit2.txt', '8814legit17.txt', '4931spmsg63.txt', '11076legit38.txt', '8849spmsg99.txt', '3111legit2.txt', '7610spmsg103.txt', '5589legit39.txt', '6301legit56.txt', '61060spmsg86.txt', '9435legit8.txt', '1227legit45.txt', '299legit31.txt', '2940legit20.txt', '333legit51.txt', '3969spmsg103.txt', '6796spmsg101.txt', '8798legit55.txt', '1196legit21.txt', '89spmsg78.txt', '1988legit13.txt', '6650legit13.txt', '5135legit4.txt', '1987legit44.txt', '270legit12.txt']\n"
     ],
     "output_type": "stream"
    }
   ],
   "source": [
    "files = []\n",
    "for (dirpath, dirnames, filenames) in walk(\"./messages/\"):\n",
    "    print(dirpath, dirnames, filenames)\n",
    "    files.extend(filenames)\n",
    "    break\n",
    "\n",
    "X = []\n",
    "Y = []\n",
    "for file in files:\n",
    "    with open(\"./messages/\" + file, \"r\") as f:\n",
    "        header = f.readline()\n",
    "        no = f.readline()\n",
    "        message = f.readline()\n",
    "        pred = re.search(\"^.*legit.*$\", file)\n",
    "        if (pred):\n",
    "            Y.append(0)\n",
    "        else:\n",
    "            Y.append(1)\n",
    "        tmp_arr = np.array(\" \".join(header.split()[1:]) + \" \" + message).astype(str)\n",
    "        X.append(tmp_arr)\n",
    "        \n",
    "X = np.array(X)\n",
    "Y = np.array(Y)"
   ],
   "metadata": {
    "collapsed": false,
    "pycharm": {
     "name": "#%%\n",
     "is_executing": false
    }
   }
  },
  {
   "cell_type": "markdown",
   "source": [
    "Преобразуем данные в разреженный набор признаков"
   ],
   "metadata": {
    "collapsed": false,
    "pycharm": {
     "name": "#%% md\n"
    }
   }
  },
  {
   "cell_type": "code",
   "execution_count": 3,
   "outputs": [],
   "source": [
    "c_vec = CountVectorizer()\n",
    "c_vec.fit(X)\n",
    "doc_array = c_vec.transform(X).toarray()\n",
    "doc_array.shape\n",
    "X_vec = c_vec.fit_transform(X).toarray()"
   ],
   "metadata": {
    "collapsed": false,
    "pycharm": {
     "name": "#%%\n",
     "is_executing": false
    }
   }
  },
  {
   "cell_type": "markdown",
   "source": [
    "Разделим данные на тренировочную и тестовую выборки"
   ],
   "metadata": {
    "collapsed": false,
    "pycharm": {
     "name": "#%% md\n"
    }
   }
  },
  {
   "cell_type": "code",
   "execution_count": 4,
   "outputs": [],
   "source": [
    "X_train, X_test, Y_train, Y_test = train_test_split(X_vec, Y, train_size=0.9)"
   ],
   "metadata": {
    "collapsed": false,
    "pycharm": {
     "name": "#%%\n",
     "is_executing": false
    }
   }
  },
  {
   "cell_type": "markdown",
   "source": [
    "Выведем итоговую матрицу с векторизованными данными"
   ],
   "metadata": {
    "collapsed": false,
    "pycharm": {
     "name": "#%% md\n"
    }
   }
  },
  {
   "cell_type": "code",
   "execution_count": 5,
   "outputs": [
    {
     "data": {
      "text/plain": "      10  100  1000  10000  10001  10002  10003  10004  10005  10006  ...  \\\n0      0    0     0      0      0      0      0      0      0      0  ...   \n1      0    0     0      0      0      0      0      0      0      0  ...   \n2      0    0     0      0      0      0      0      0      0      0  ...   \n3      0    0     0      0      0      0      0      0      0      0  ...   \n4      0    0     0      0      0      0      0      0      0      1  ...   \n...   ..  ...   ...    ...    ...    ...    ...    ...    ...    ...  ...   \n1085   0    0     0      0      0      0      0      0      0      0  ...   \n1086   0    0     0      0      0      0      0      0      0      0  ...   \n1087   0    0     0      0      0      0      0      0      0      0  ...   \n1088   0    0     0      0      0      0      0      0      0      0  ...   \n1089   0    0     0      0      0      0      0      0      0      0  ...   \n\n      9990  9991  9992  9993  9994  9995  9996  9997  9998  9999  \n0        0     0     0     0     0     0     0     0     0     0  \n1        0     0     0     0     0     0     0     0     0     0  \n2        0     0     0     0     0     0     0     0     0     0  \n3        0     0     0     0     0     0     0     0     0     0  \n4        0     0     0     0     0     0     0     0     0     0  \n...    ...   ...   ...   ...   ...   ...   ...   ...   ...   ...  \n1085     0     0     0     0     0     0     0     0     0     0  \n1086     0     0     0     0     0     0     0     0     0     0  \n1087     0     0     0     0     0     0     0     0     0     0  \n1088     0     0     0     0     0     0     0     0     0     0  \n1089     0     0     0     0     0     0     0     0     0     0  \n\n[1090 rows x 24718 columns]",
      "text/html": "<div>\n<style scoped>\n    .dataframe tbody tr th:only-of-type {\n        vertical-align: middle;\n    }\n\n    .dataframe tbody tr th {\n        vertical-align: top;\n    }\n\n    .dataframe thead th {\n        text-align: right;\n    }\n</style>\n<table border=\"1\" class=\"dataframe\">\n  <thead>\n    <tr style=\"text-align: right;\">\n      <th></th>\n      <th>10</th>\n      <th>100</th>\n      <th>1000</th>\n      <th>10000</th>\n      <th>10001</th>\n      <th>10002</th>\n      <th>10003</th>\n      <th>10004</th>\n      <th>10005</th>\n      <th>10006</th>\n      <th>...</th>\n      <th>9990</th>\n      <th>9991</th>\n      <th>9992</th>\n      <th>9993</th>\n      <th>9994</th>\n      <th>9995</th>\n      <th>9996</th>\n      <th>9997</th>\n      <th>9998</th>\n      <th>9999</th>\n    </tr>\n  </thead>\n  <tbody>\n    <tr>\n      <th>0</th>\n      <td>0</td>\n      <td>0</td>\n      <td>0</td>\n      <td>0</td>\n      <td>0</td>\n      <td>0</td>\n      <td>0</td>\n      <td>0</td>\n      <td>0</td>\n      <td>0</td>\n      <td>...</td>\n      <td>0</td>\n      <td>0</td>\n      <td>0</td>\n      <td>0</td>\n      <td>0</td>\n      <td>0</td>\n      <td>0</td>\n      <td>0</td>\n      <td>0</td>\n      <td>0</td>\n    </tr>\n    <tr>\n      <th>1</th>\n      <td>0</td>\n      <td>0</td>\n      <td>0</td>\n      <td>0</td>\n      <td>0</td>\n      <td>0</td>\n      <td>0</td>\n      <td>0</td>\n      <td>0</td>\n      <td>0</td>\n      <td>...</td>\n      <td>0</td>\n      <td>0</td>\n      <td>0</td>\n      <td>0</td>\n      <td>0</td>\n      <td>0</td>\n      <td>0</td>\n      <td>0</td>\n      <td>0</td>\n      <td>0</td>\n    </tr>\n    <tr>\n      <th>2</th>\n      <td>0</td>\n      <td>0</td>\n      <td>0</td>\n      <td>0</td>\n      <td>0</td>\n      <td>0</td>\n      <td>0</td>\n      <td>0</td>\n      <td>0</td>\n      <td>0</td>\n      <td>...</td>\n      <td>0</td>\n      <td>0</td>\n      <td>0</td>\n      <td>0</td>\n      <td>0</td>\n      <td>0</td>\n      <td>0</td>\n      <td>0</td>\n      <td>0</td>\n      <td>0</td>\n    </tr>\n    <tr>\n      <th>3</th>\n      <td>0</td>\n      <td>0</td>\n      <td>0</td>\n      <td>0</td>\n      <td>0</td>\n      <td>0</td>\n      <td>0</td>\n      <td>0</td>\n      <td>0</td>\n      <td>0</td>\n      <td>...</td>\n      <td>0</td>\n      <td>0</td>\n      <td>0</td>\n      <td>0</td>\n      <td>0</td>\n      <td>0</td>\n      <td>0</td>\n      <td>0</td>\n      <td>0</td>\n      <td>0</td>\n    </tr>\n    <tr>\n      <th>4</th>\n      <td>0</td>\n      <td>0</td>\n      <td>0</td>\n      <td>0</td>\n      <td>0</td>\n      <td>0</td>\n      <td>0</td>\n      <td>0</td>\n      <td>0</td>\n      <td>1</td>\n      <td>...</td>\n      <td>0</td>\n      <td>0</td>\n      <td>0</td>\n      <td>0</td>\n      <td>0</td>\n      <td>0</td>\n      <td>0</td>\n      <td>0</td>\n      <td>0</td>\n      <td>0</td>\n    </tr>\n    <tr>\n      <th>...</th>\n      <td>...</td>\n      <td>...</td>\n      <td>...</td>\n      <td>...</td>\n      <td>...</td>\n      <td>...</td>\n      <td>...</td>\n      <td>...</td>\n      <td>...</td>\n      <td>...</td>\n      <td>...</td>\n      <td>...</td>\n      <td>...</td>\n      <td>...</td>\n      <td>...</td>\n      <td>...</td>\n      <td>...</td>\n      <td>...</td>\n      <td>...</td>\n      <td>...</td>\n      <td>...</td>\n    </tr>\n    <tr>\n      <th>1085</th>\n      <td>0</td>\n      <td>0</td>\n      <td>0</td>\n      <td>0</td>\n      <td>0</td>\n      <td>0</td>\n      <td>0</td>\n      <td>0</td>\n      <td>0</td>\n      <td>0</td>\n      <td>...</td>\n      <td>0</td>\n      <td>0</td>\n      <td>0</td>\n      <td>0</td>\n      <td>0</td>\n      <td>0</td>\n      <td>0</td>\n      <td>0</td>\n      <td>0</td>\n      <td>0</td>\n    </tr>\n    <tr>\n      <th>1086</th>\n      <td>0</td>\n      <td>0</td>\n      <td>0</td>\n      <td>0</td>\n      <td>0</td>\n      <td>0</td>\n      <td>0</td>\n      <td>0</td>\n      <td>0</td>\n      <td>0</td>\n      <td>...</td>\n      <td>0</td>\n      <td>0</td>\n      <td>0</td>\n      <td>0</td>\n      <td>0</td>\n      <td>0</td>\n      <td>0</td>\n      <td>0</td>\n      <td>0</td>\n      <td>0</td>\n    </tr>\n    <tr>\n      <th>1087</th>\n      <td>0</td>\n      <td>0</td>\n      <td>0</td>\n      <td>0</td>\n      <td>0</td>\n      <td>0</td>\n      <td>0</td>\n      <td>0</td>\n      <td>0</td>\n      <td>0</td>\n      <td>...</td>\n      <td>0</td>\n      <td>0</td>\n      <td>0</td>\n      <td>0</td>\n      <td>0</td>\n      <td>0</td>\n      <td>0</td>\n      <td>0</td>\n      <td>0</td>\n      <td>0</td>\n    </tr>\n    <tr>\n      <th>1088</th>\n      <td>0</td>\n      <td>0</td>\n      <td>0</td>\n      <td>0</td>\n      <td>0</td>\n      <td>0</td>\n      <td>0</td>\n      <td>0</td>\n      <td>0</td>\n      <td>0</td>\n      <td>...</td>\n      <td>0</td>\n      <td>0</td>\n      <td>0</td>\n      <td>0</td>\n      <td>0</td>\n      <td>0</td>\n      <td>0</td>\n      <td>0</td>\n      <td>0</td>\n      <td>0</td>\n    </tr>\n    <tr>\n      <th>1089</th>\n      <td>0</td>\n      <td>0</td>\n      <td>0</td>\n      <td>0</td>\n      <td>0</td>\n      <td>0</td>\n      <td>0</td>\n      <td>0</td>\n      <td>0</td>\n      <td>0</td>\n      <td>...</td>\n      <td>0</td>\n      <td>0</td>\n      <td>0</td>\n      <td>0</td>\n      <td>0</td>\n      <td>0</td>\n      <td>0</td>\n      <td>0</td>\n      <td>0</td>\n      <td>0</td>\n    </tr>\n  </tbody>\n</table>\n<p>1090 rows × 24718 columns</p>\n</div>"
     },
     "metadata": {},
     "output_type": "execute_result",
     "execution_count": 5
    }
   ],
   "source": [
    "freq_matrix = pd.DataFrame(doc_array, columns=c_vec.get_feature_names())\n",
    "freq_matrix"
   ],
   "metadata": {
    "collapsed": false,
    "pycharm": {
     "name": "#%%\n",
     "is_executing": false
    }
   }
  },
  {
   "cell_type": "code",
   "execution_count": 14,
   "outputs": [
    {
     "name": "stdout",
     "text": [
      "r2:        64.63%\n",
      "recall:    81.88%\n",
      "precision: 98.17%\n",
      "f1:        88.89%\n",
      "accuracy:  91.28%\n",
      "roc_auc:   99.12%\n"
     ],
     "output_type": "stream"
    },
    {
     "data": {
      "text/plain": "<Figure size 432x288 with 1 Axes>",
      "image/png": "[encoded data removed]"
     },
     "metadata": {
      "needs_background": "light"
     },
     "output_type": "display_data"
    }
   ],
   "source": [
    "scores = cross_validate(BernoulliNB(), X_vec, Y, cv=10,\n",
    "                        scoring=('r2', 'recall', 'precision',\n",
    "                                 'f1', 'accuracy', 'roc_auc'),\n",
    "                        return_train_score=True)\n",
    "\n",
    "fpr, tpr, thresholds = roc_curve(Y_test, BernoulliNB().fit(X_train, Y_train).predict(X_test))\n",
    "plt.plot(fpr, tpr)\n",
    "print(f\"r2:        {(sum(scores['test_r2']) / 10):.2%}\")\n",
    "print(f\"recall:    {(sum(scores['test_recall']) / 10):.2%}\")\n",
    "print(f\"precision: {(sum(scores['test_precision']) / 10):.2%}\")\n",
    "print(f\"f1:        {(sum(scores['test_f1']) / 10):.2%}\")\n",
    "print(f\"accuracy:  {(sum(scores['test_accuracy']) / 10):.2%}\")\n",
    "print(f\"roc_auc:   {(sum(scores['test_roc_auc']) / 10):.2%}\")"
   ],
   "metadata": {
    "collapsed": false,
    "pycharm": {
     "name": "#%%\n",
     "is_executing": false
    }
   }
  },
  {
   "cell_type": "code",
   "execution_count": 7,
   "outputs": [],
   "source": [
    "tmp_alpha1 = np.arange(1e-11, 1e10, 5e8).reshape(-1, 1)\n",
    "tmp_alpha2 = np.array([1e-11] * len(tmp_alpha1)).reshape(-1, 1)\n",
    "\n",
    "fog_gc = np.append(tmp_alpha1, tmp_alpha2, axis=1).tolist()"
   ],
   "metadata": {
    "collapsed": false,
    "pycharm": {
     "name": "#%%\n",
     "is_executing": false
    }
   }
  },
  {
   "cell_type": "code",
   "execution_count": 8,
   "outputs": [
    {
     "name": "stdout",
     "text": [
      "Best params for precision: [4000000000.0, 1e-11]\n",
      "Best score: 1.0\n"
     ],
     "output_type": "stream"
    }
   ],
   "source": [
    "best_score_pre = 0\n",
    "for i in fog_gc:\n",
    "    clf = BernoulliNB(class_prior=i)\n",
    "    clf = clf.fit(X_vec, Y)\n",
    "    Y_pred = clf.predict(X_vec)\n",
    "    pre = precision_score(Y, Y_pred)\n",
    "    if pre > best_score_pre:\n",
    "        best_score_pre = pre\n",
    "        best_grid_pre = i\n",
    "\n",
    "print(\"Best params for precision:\",best_grid_pre)\n",
    "print(\"Best score:\", best_score_pre)"
   ],
   "metadata": {
    "collapsed": false,
    "pycharm": {
     "name": "#%%\n",
     "is_executing": false
    }
   }
  },
  {
   "cell_type": "code",
   "execution_count": 9,
   "outputs": [
    {
     "name": "stdout",
     "text": [
      "Confusion Matrix: precision = 1.0\n"
     ],
     "output_type": "stream"
    },
    {
     "data": {
      "text/plain": "<Figure size 432x288 with 2 Axes>",
      "image/png": "[encoded data removed]"
     },
     "metadata": {
      "needs_background": "light"
     },
     "output_type": "display_data"
    }
   ],
   "source": [
    "clf1 = BernoulliNB(class_prior=[4000000000.0, 1e-11])\n",
    "clf1 = clf1.fit(X_vec, Y)\n",
    "\n",
    "plot_confusion_matrix(clf1, X_vec, Y,\n",
    "                      cmap=plt.cm.Blues,\n",
    "                      display_labels=[\"ok\", \"spam\"],\n",
    "                      values_format='d')\n",
    "print(\"Confusion Matrix: precision = 1.0\")"
   ],
   "metadata": {
    "collapsed": false,
    "pycharm": {
     "name": "#%%\n",
     "is_executing": false
    }
   }
  },
  {
   "cell_type": "code",
   "execution_count": 10,
   "outputs": [
    {
     "data": {
      "text/plain": "[<matplotlib.lines.Line2D at 0x7fd04e4a6bb0>]"
     },
     "metadata": {},
     "output_type": "execute_result",
     "execution_count": 10
    },
    {
     "data": {
      "text/plain": "<Figure size 432x288 with 1 Axes>",
      "image/png": "[encoded data removed]"
     },
     "metadata": {
      "needs_background": "light"
     },
     "output_type": "display_data"
    }
   ],
   "source": [
    "scores = []\n",
    "alpha = []\n",
    "for i in fog_gc:\n",
    "    clf = BernoulliNB(class_prior=i)\n",
    "    clf = clf.fit(X_vec, Y)\n",
    "    scores.append(accuracy_score(Y, clf.predict(X_vec)))\n",
    "    alpha.append(i[0])\n",
    "\n",
    "plt.plot(alpha, scores)"
   ],
   "metadata": {
    "collapsed": false,
    "pycharm": {
     "name": "#%%\n",
     "is_executing": false
    }
   }
  },
  {
   "cell_type": "code",
   "execution_count": 11,
   "outputs": [
    {
     "name": "stdout",
     "text": [
      "Best params: [29001.0, 1000000000000000.0]\n",
      "Best score: 0.9844036697247707\n"
     ],
     "output_type": "stream"
    }
   ],
   "source": [
    "tmp_alpha1 = np.arange(1, 1e5, 1000).reshape(-1, 1)\n",
    "tmp_alpha2 = np.array([1e15] * len(tmp_alpha1)).reshape(-1, 1)\n",
    "\n",
    "fog_gc = np.append(tmp_alpha1, tmp_alpha2, axis=1).tolist()\n",
    "\n",
    "best_score = 0\n",
    "for i in fog_gc:\n",
    "    clf = BernoulliNB(class_prior=i)\n",
    "    clf = clf.fit(X_vec, Y)\n",
    "    Y_pred = clf.predict(X_vec)\n",
    "    acc = accuracy_score(Y, Y_pred)\n",
    "    if (acc > best_score):\n",
    "        best_score = acc\n",
    "        best_grid = i\n",
    "\n",
    "print(\"Best params:\", best_grid)\n",
    "print(\"Best score:\", best_score)"
   ],
   "metadata": {
    "collapsed": false,
    "pycharm": {
     "name": "#%%\n",
     "is_executing": false
    }
   }
  },
  {
   "cell_type": "code",
   "execution_count": 12,
   "outputs": [
    {
     "data": {
      "text/plain": "<sklearn.metrics._plot.confusion_matrix.ConfusionMatrixDisplay at 0x7fd05b6fb2b0>"
     },
     "metadata": {},
     "output_type": "execute_result",
     "execution_count": 12
    },
    {
     "data": {
      "text/plain": "<Figure size 432x288 with 2 Axes>",
      "image/png": "[encoded data removed]"
     },
     "metadata": {
      "needs_background": "light"
     },
     "output_type": "display_data"
    }
   ],
   "source": [
    "clf1 = BernoulliNB(class_prior=best_grid)\n",
    "clf1 = clf1.fit(X_vec, Y)\n",
    "\n",
    "plot_confusion_matrix(clf1, X_vec, Y,\n",
    "                      cmap=plt.cm.Blues,\n",
    "                      display_labels=[\"ok\", \"spam\"],\n",
    "                      values_format='d')"
   ],
   "metadata": {
    "collapsed": false,
    "pycharm": {
     "name": "#%%\n",
     "is_executing": false
    }
   }
  }
 ],
 "metadata": {
  "kernelspec": {
   "display_name": "Python 3",
   "language": "python",
   "name": "python3"
  },
  "language_info": {
   "codemirror_mode": {
    "name": "ipython",
    "version": 2
   },
   "file_extension": ".py",
   "mimetype": "text/x-python",
   "name": "python",
   "nbconvert_exporter": "python",
   "pygments_lexer": "ipython2",
   "version": "2.7.6"
  },
  "pycharm": {
   "stem_cell": {
    "cell_type": "raw",
    "source": [],
    "metadata": {
     "collapsed": false
    }
   }
  }
 },
 "nbformat": 4,
 "nbformat_minor": 0
}