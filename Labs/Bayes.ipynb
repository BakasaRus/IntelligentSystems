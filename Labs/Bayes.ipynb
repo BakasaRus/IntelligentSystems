{
 "cells": [
  {
   "cell_type": "markdown",
   "source": [
    "# ЛР 4. Наивный байесовский классификатор\n",
    "\n",
    "## Подготовка\n",
    "\n",
    "Импортируем нужные нам модули"
   ],
   "metadata": {
    "collapsed": false,
    "pycharm": {
     "name": "#%% md\n"
    }
   }
  },
  {
   "cell_type": "code",
   "execution_count": 1,
   "metadata": {
    "collapsed": true,
    "pycharm": {
     "is_executing": false
    }
   },
   "outputs": [],
   "source": [
    "from os import walk\n",
    "import re\n",
    "\n",
    "from sklearn.naive_bayes import BernoulliNB\n",
    "from sklearn.model_selection import cross_validate, train_test_split\n",
    "from sklearn.metrics import roc_curve, precision_score, accuracy_score, plot_confusion_matrix\n",
    "from sklearn.feature_extraction.text import CountVectorizer\n",
    "\n",
    "import matplotlib.pyplot as plt\n",
    "import pandas as pd\n",
    "import numpy as np\n",
    "import warnings\n",
    "\n",
    "warnings.filterwarnings('ignore')\n",
    "%matplotlib inline"
   ]
  },
  {
   "cell_type": "markdown",
   "source": [
    "Пройдёмся по всем файлам и импортируем из них данные (формат очень удобный, да)"
   ],
   "metadata": {
    "collapsed": false,
    "pycharm": {
     "name": "#%% md\n"
    }
   }
  },
  {
   "cell_type": "code",
   "execution_count": 2,
   "outputs": [],
   "source": [
    "_, _, files = walk(\"./messages/\").__next__()\n",
    "\n",
    "X = []\n",
    "Y = []\n",
    "for file in files:\n",
    "    with open(\"./messages/\" + file, \"r\") as f:\n",
    "        header = f.readline()\n",
    "        no = f.readline()\n",
    "        message = f.readline()\n",
    "        pred = re.search(\"^.*legit.*$\", file)\n",
    "        if (pred):\n",
    "            Y.append(0)\n",
    "        else:\n",
    "            Y.append(1)\n",
    "        tmp_arr = np.array(\" \".join(header.split()[1:]) + \" \" + message).astype(str)\n",
    "        X.append(tmp_arr)\n",
    "        \n",
    "X = np.array(X)\n",
    "Y = np.array(Y)"
   ],
   "metadata": {
    "collapsed": false,
    "pycharm": {
     "name": "#%%\n",
     "is_executing": false
    }
   }
  },
  {
   "cell_type": "markdown",
   "source": [
    "Преобразуем данные в разреженный набор признаков"
   ],
   "metadata": {
    "collapsed": false,
    "pycharm": {
     "name": "#%% md\n"
    }
   }
  },
  {
   "cell_type": "code",
   "execution_count": 3,
   "outputs": [],
   "source": [
    "c_vec = CountVectorizer()\n",
    "c_vec.fit(X)\n",
    "doc_array = c_vec.transform(X).toarray()\n",
    "doc_array.shape\n",
    "X_vec = c_vec.fit_transform(X).toarray()"
   ],
   "metadata": {
    "collapsed": false,
    "pycharm": {
     "name": "#%%\n",
     "is_executing": false
    }
   }
  },
  {
   "cell_type": "markdown",
   "source": [
    "Разделим данные на тренировочную и тестовую выборки"
   ],
   "metadata": {
    "collapsed": false,
    "pycharm": {
     "name": "#%% md\n"
    }
   }
  },
  {
   "cell_type": "code",
   "execution_count": 4,
   "outputs": [],
   "source": [
    "X_train, X_test, Y_train, Y_test = train_test_split(X_vec, Y, train_size=0.9)"
   ],
   "metadata": {
    "collapsed": false,
    "pycharm": {
     "name": "#%%\n",
     "is_executing": false
    }
   }
  },
  {
   "cell_type": "markdown",
   "source": [
    "Выведем итоговую матрицу с векторизованными данными"
   ],
   "metadata": {
    "collapsed": false,
    "pycharm": {
     "name": "#%% md\n"
    }
   }
  },
  {
   "cell_type": "code",
   "execution_count": 5,
   "outputs": [
    {
     "data": {
      "text/plain": "      10  100  1000  10000  10001  10002  10003  10004  10005  10006  ...  \\\n0      0    0     0      0      0      0      0      0      0      0  ...   \n1      0    0     0      0      0      0      0      0      0      0  ...   \n2      0    0     0      0      0      0      0      0      0      0  ...   \n3      0    0     0      0      0      0      0      0      0      0  ...   \n4      0    0     0      0      0      0      0      0      0      1  ...   \n...   ..  ...   ...    ...    ...    ...    ...    ...    ...    ...  ...   \n1085   0    0     0      0      0      0      0      0      0      0  ...   \n1086   0    0     0      0      0      0      0      0      0      0  ...   \n1087   0    0     0      0      0      0      0      0      0      0  ...   \n1088   0    0     0      0      0      0      0      0      0      0  ...   \n1089   0    0     0      0      0      0      0      0      0      0  ...   \n\n      9990  9991  9992  9993  9994  9995  9996  9997  9998  9999  \n0        0     0     0     0     0     0     0     0     0     0  \n1        0     0     0     0     0     0     0     0     0     0  \n2        0     0     0     0     0     0     0     0     0     0  \n3        0     0     0     0     0     0     0     0     0     0  \n4        0     0     0     0     0     0     0     0     0     0  \n...    ...   ...   ...   ...   ...   ...   ...   ...   ...   ...  \n1085     0     0     0     0     0     0     0     0     0     0  \n1086     0     0     0     0     0     0     0     0     0     0  \n1087     0     0     0     0     0     0     0     0     0     0  \n1088     0     0     0     0     0     0     0     0     0     0  \n1089     0     0     0     0     0     0     0     0     0     0  \n\n[1090 rows x 24718 columns]",
      "text/html": "<div>\n<style scoped>\n    .dataframe tbody tr th:only-of-type {\n        vertical-align: middle;\n    }\n\n    .dataframe tbody tr th {\n        vertical-align: top;\n    }\n\n    .dataframe thead th {\n        text-align: right;\n    }\n</style>\n<table border=\"1\" class=\"dataframe\">\n  <thead>\n    <tr style=\"text-align: right;\">\n      <th></th>\n      <th>10</th>\n      <th>100</th>\n      <th>1000</th>\n      <th>10000</th>\n      <th>10001</th>\n      <th>10002</th>\n      <th>10003</th>\n      <th>10004</th>\n      <th>10005</th>\n      <th>10006</th>\n      <th>...</th>\n      <th>9990</th>\n      <th>9991</th>\n      <th>9992</th>\n      <th>9993</th>\n      <th>9994</th>\n      <th>9995</th>\n      <th>9996</th>\n      <th>9997</th>\n      <th>9998</th>\n      <th>9999</th>\n    </tr>\n  </thead>\n  <tbody>\n    <tr>\n      <th>0</th>\n      <td>0</td>\n      <td>0</td>\n      <td>0</td>\n      <td>0</td>\n      <td>0</td>\n      <td>0</td>\n      <td>0</td>\n      <td>0</td>\n      <td>0</td>\n      <td>0</td>\n      <td>...</td>\n      <td>0</td>\n      <td>0</td>\n      <td>0</td>\n      <td>0</td>\n      <td>0</td>\n      <td>0</td>\n      <td>0</td>\n      <td>0</td>\n      <td>0</td>\n      <td>0</td>\n    </tr>\n    <tr>\n      <th>1</th>\n      <td>0</td>\n      <td>0</td>\n      <td>0</td>\n      <td>0</td>\n      <td>0</td>\n      <td>0</td>\n      <td>0</td>\n      <td>0</td>\n      <td>0</td>\n      <td>0</td>\n      <td>...</td>\n      <td>0</td>\n      <td>0</td>\n      <td>0</td>\n      <td>0</td>\n      <td>0</td>\n      <td>0</td>\n      <td>0</td>\n      <td>0</td>\n      <td>0</td>\n      <td>0</td>\n    </tr>\n    <tr>\n      <th>2</th>\n      <td>0</td>\n      <td>0</td>\n      <td>0</td>\n      <td>0</td>\n      <td>0</td>\n      <td>0</td>\n      <td>0</td>\n      <td>0</td>\n      <td>0</td>\n      <td>0</td>\n      <td>...</td>\n      <td>0</td>\n      <td>0</td>\n      <td>0</td>\n      <td>0</td>\n      <td>0</td>\n      <td>0</td>\n      <td>0</td>\n      <td>0</td>\n      <td>0</td>\n      <td>0</td>\n    </tr>\n    <tr>\n      <th>3</th>\n      <td>0</td>\n      <td>0</td>\n      <td>0</td>\n      <td>0</td>\n      <td>0</td>\n      <td>0</td>\n      <td>0</td>\n      <td>0</td>\n      <td>0</td>\n      <td>0</td>\n      <td>...</td>\n      <td>0</td>\n      <td>0</td>\n      <td>0</td>\n      <td>0</td>\n      <td>0</td>\n      <td>0</td>\n      <td>0</td>\n      <td>0</td>\n      <td>0</td>\n      <td>0</td>\n    </tr>\n    <tr>\n      <th>4</th>\n      <td>0</td>\n      <td>0</td>\n      <td>0</td>\n      <td>0</td>\n      <td>0</td>\n      <td>0</td>\n      <td>0</td>\n      <td>0</td>\n      <td>0</td>\n      <td>1</td>\n      <td>...</td>\n      <td>0</td>\n      <td>0</td>\n      <td>0</td>\n      <td>0</td>\n      <td>0</td>\n      <td>0</td>\n      <td>0</td>\n      <td>0</td>\n      <td>0</td>\n      <td>0</td>\n    </tr>\n    <tr>\n      <th>...</th>\n      <td>...</td>\n      <td>...</td>\n      <td>...</td>\n      <td>...</td>\n      <td>...</td>\n      <td>...</td>\n      <td>...</td>\n      <td>...</td>\n      <td>...</td>\n      <td>...</td>\n      <td>...</td>\n      <td>...</td>\n      <td>...</td>\n      <td>...</td>\n      <td>...</td>\n      <td>...</td>\n      <td>...</td>\n      <td>...</td>\n      <td>...</td>\n      <td>...</td>\n      <td>...</td>\n    </tr>\n    <tr>\n      <th>1085</th>\n      <td>0</td>\n      <td>0</td>\n      <td>0</td>\n      <td>0</td>\n      <td>0</td>\n      <td>0</td>\n      <td>0</td>\n      <td>0</td>\n      <td>0</td>\n      <td>0</td>\n      <td>...</td>\n      <td>0</td>\n      <td>0</td>\n      <td>0</td>\n      <td>0</td>\n      <td>0</td>\n      <td>0</td>\n      <td>0</td>\n      <td>0</td>\n      <td>0</td>\n      <td>0</td>\n    </tr>\n    <tr>\n      <th>1086</th>\n      <td>0</td>\n      <td>0</td>\n      <td>0</td>\n      <td>0</td>\n      <td>0</td>\n      <td>0</td>\n      <td>0</td>\n      <td>0</td>\n      <td>0</td>\n      <td>0</td>\n      <td>...</td>\n      <td>0</td>\n      <td>0</td>\n      <td>0</td>\n      <td>0</td>\n      <td>0</td>\n      <td>0</td>\n      <td>0</td>\n      <td>0</td>\n      <td>0</td>\n      <td>0</td>\n    </tr>\n    <tr>\n      <th>1087</th>\n      <td>0</td>\n      <td>0</td>\n      <td>0</td>\n      <td>0</td>\n      <td>0</td>\n      <td>0</td>\n      <td>0</td>\n      <td>0</td>\n      <td>0</td>\n      <td>0</td>\n      <td>...</td>\n      <td>0</td>\n      <td>0</td>\n      <td>0</td>\n      <td>0</td>\n      <td>0</td>\n      <td>0</td>\n      <td>0</td>\n      <td>0</td>\n      <td>0</td>\n      <td>0</td>\n    </tr>\n    <tr>\n      <th>1088</th>\n      <td>0</td>\n      <td>0</td>\n      <td>0</td>\n      <td>0</td>\n      <td>0</td>\n      <td>0</td>\n      <td>0</td>\n      <td>0</td>\n      <td>0</td>\n      <td>0</td>\n      <td>...</td>\n      <td>0</td>\n      <td>0</td>\n      <td>0</td>\n      <td>0</td>\n      <td>0</td>\n      <td>0</td>\n      <td>0</td>\n      <td>0</td>\n      <td>0</td>\n      <td>0</td>\n    </tr>\n    <tr>\n      <th>1089</th>\n      <td>0</td>\n      <td>0</td>\n      <td>0</td>\n      <td>0</td>\n      <td>0</td>\n      <td>0</td>\n      <td>0</td>\n      <td>0</td>\n      <td>0</td>\n      <td>0</td>\n      <td>...</td>\n      <td>0</td>\n      <td>0</td>\n      <td>0</td>\n      <td>0</td>\n      <td>0</td>\n      <td>0</td>\n      <td>0</td>\n      <td>0</td>\n      <td>0</td>\n      <td>0</td>\n    </tr>\n  </tbody>\n</table>\n<p>1090 rows × 24718 columns</p>\n</div>"
     },
     "metadata": {},
     "output_type": "execute_result",
     "execution_count": 5
    }
   ],
   "source": [
    "freq_matrix = pd.DataFrame(doc_array, columns=c_vec.get_feature_names())\n",
    "freq_matrix"
   ],
   "metadata": {
    "collapsed": false,
    "pycharm": {
     "name": "#%%\n",
     "is_executing": false
    }
   }
  },
  {
   "cell_type": "markdown",
   "source": [
    "## 1. Кросс-валидация\n",
    "\n",
    "Проведём кросс-валидацию данных с использованием наивного байесовского классификатора и посмотрим различные метрики"
   ],
   "metadata": {
    "collapsed": false,
    "pycharm": {
     "name": "#%% md\n"
    }
   }
  },
  {
   "cell_type": "code",
   "execution_count": 6,
   "outputs": [
    {
     "name": "stdout",
     "text": [
      "R^2:       64.63%\n",
      "Recall:    81.88%\n",
      "Precision: 98.17%\n",
      "F1:        88.89%\n",
      "Accuracy:  91.28%\n",
      "AUC ROC:   99.12%\n"
     ],
     "output_type": "stream"
    },
    {
     "data": {
      "text/plain": "<Figure size 432x288 with 1 Axes>",
      "image/png": "[encoded data removed]"
     },
     "metadata": {
      "needs_background": "light"
     },
     "output_type": "display_data"
    }
   ],
   "source": [
    "scores = cross_validate(BernoulliNB(), X_vec, Y, cv=10, \n",
    "                        scoring=('r2', 'recall', 'precision', 'f1', 'accuracy', 'roc_auc'),\n",
    "                        return_train_score=True)\n",
    "\n",
    "fpr, tpr, thresholds = roc_curve(Y_test, BernoulliNB().fit(X_train, Y_train).predict(X_test))\n",
    "plt.plot(fpr, tpr)\n",
    "print(f\"R^2:       {(sum(scores['test_r2']) / 10):.2%}\")\n",
    "print(f\"Recall:    {(sum(scores['test_recall']) / 10):.2%}\")\n",
    "print(f\"Precision: {(sum(scores['test_precision']) / 10):.2%}\")\n",
    "print(f\"F1:        {(sum(scores['test_f1']) / 10):.2%}\")\n",
    "print(f\"Accuracy:  {(sum(scores['test_accuracy']) / 10):.2%}\")\n",
    "print(f\"AUC ROC:   {(sum(scores['test_roc_auc']) / 10):.2%}\")"
   ],
   "metadata": {
    "collapsed": false,
    "pycharm": {
     "name": "#%%\n",
     "is_executing": false
    }
   }
  },
  {
   "cell_type": "markdown",
   "source": [
    "## 2. Поиск оптимальных параметров\n",
    "\n",
    "Подготовим пары весов для самописного grid search. Здесь вес спама не меняется, меняется только вес нормальных писем:"
   ],
   "metadata": {
    "collapsed": false,
    "pycharm": {
     "name": "#%% md\n",
     "is_executing": false
    }
   }
  },
  {
   "cell_type": "code",
   "source": [
    "tmp_alpha1 = np.arange(1e-11, 1e10, 5e8).reshape(-1, 1)\n",
    "tmp_alpha2 = np.array([1e-11] * len(tmp_alpha1)).reshape(-1, 1)\n",
    "\n",
    "fog_gc = np.append(tmp_alpha1, tmp_alpha2, axis=1).tolist()"
   ],
   "metadata": {
    "collapsed": false,
    "pycharm": {
     "name": "#%%\n",
     "is_executing": false
    }
   },
   "execution_count": 7,
   "outputs": []
  },
  {
   "cell_type": "markdown",
   "source": [
    "Подберём оптимальные параметры для максимизации точности (precision). Точность мы максимизируем в соответствии с заданием (ни одно нормальное письмо не должно улететь в спам):"
   ],
   "metadata": {
    "collapsed": false,
    "pycharm": {
     "name": "#%% md\n",
     "is_executing": false
    }
   }
  },
  {
   "cell_type": "code",
   "source": [
    "best_score_pre = 0\n",
    "best_grid_pre = []\n",
    "\n",
    "for i in fog_gc:\n",
    "    clf = BernoulliNB(class_prior=i)\n",
    "    clf = clf.fit(X_vec, Y)\n",
    "    Y_pred = clf.predict(X_vec)\n",
    "    pre = precision_score(Y, Y_pred)\n",
    "    if pre > best_score_pre:\n",
    "        best_score_pre = pre\n",
    "        best_grid_pre = i\n",
    "\n",
    "print(f\"Best parameters for precision: {best_grid_pre}\")\n",
    "print(f\"Best score:                    {best_score_pre:.2%}\")"
   ],
   "metadata": {
    "collapsed": false,
    "pycharm": {
     "name": "#%%\n",
     "is_executing": false
    }
   },
   "execution_count": 8,
   "outputs": [
    {
     "name": "stdout",
     "text": [
      "Best parameters for precision: [4000000000.0, 1e-11]\n",
      "Best score:                    100.00%\n"
     ],
     "output_type": "stream"
    }
   ]
  },
  {
   "cell_type": "markdown",
   "source": [
    "Построим идеальный с точки зрения точности классификатор и его матрицу ошибок:"
   ],
   "metadata": {
    "collapsed": false,
    "pycharm": {
     "name": "#%% md\n",
     "is_executing": false
    }
   }
  },
  {
   "cell_type": "code",
   "execution_count": 9,
   "outputs": [
    {
     "data": {
      "text/plain": "<sklearn.metrics._plot.confusion_matrix.ConfusionMatrixDisplay at 0x7f701310c940>"
     },
     "metadata": {},
     "output_type": "execute_result",
     "execution_count": 9
    },
    {
     "data": {
      "text/plain": "<Figure size 432x288 with 2 Axes>",
      "image/png": "[encoded data removed]"
     },
     "metadata": {
      "needs_background": "light"
     },
     "output_type": "display_data"
    }
   ],
   "source": [
    "clf1 = BernoulliNB(class_prior=best_grid_pre)\n",
    "clf1 = clf1.fit(X_vec, Y)\n",
    "\n",
    "plot_confusion_matrix(clf1, X_vec, Y, cmap=plt.cm.Blues, display_labels=[\"ok\", \"spam\"], values_format='d')"
   ],
   "metadata": {
    "collapsed": false,
    "pycharm": {
     "name": "#%%\n",
     "is_executing": false
    }
   }
  },
  {
   "cell_type": "markdown",
   "source": [
    "Посмотрим, как меняется точность в зависимости от веса нормальных писем:"
   ],
   "metadata": {
    "collapsed": false,
    "pycharm": {
     "name": "#%% md\n"
    }
   }
  },
  {
   "cell_type": "code",
   "source": [
    "scores = []\n",
    "alpha = []\n",
    "for i in fog_gc:\n",
    "    clf = BernoulliNB(class_prior=i)\n",
    "    clf = clf.fit(X_vec, Y)\n",
    "    scores.append(precision_score(Y, clf.predict(X_vec)))\n",
    "    alpha.append(i[0])\n",
    "\n",
    "plt.plot(alpha, scores)\n"
   ],
   "metadata": {
    "collapsed": false,
    "pycharm": {
     "name": "#%%\n",
     "is_executing": false
    }
   },
   "execution_count": 10,
   "outputs": [
    {
     "data": {
      "text/plain": "[<matplotlib.lines.Line2D at 0x7f7005ddd970>]"
     },
     "metadata": {},
     "output_type": "execute_result",
     "execution_count": 10
    },
    {
     "data": {
      "text/plain": "<Figure size 432x288 with 1 Axes>",
      "image/png": "[encoded data removed]"
     },
     "metadata": {
      "needs_background": "light"
     },
     "output_type": "display_data"
    }
   ]
  },
  {
   "cell_type": "markdown",
   "source": [
    "## 3. Поиск оптимальных параметров для другой метрики\n",
    "\n",
    "Ради интереса посмотрим, как хорошо будет работать классификатор, если максимизировать не precision, а accuracy.\n",
    "\n",
    "Сгенерируем пары весов для самописного grid search и найдём наилучшую пару:"
   ],
   "metadata": {
    "collapsed": false,
    "pycharm": {
     "name": "#%% md\n"
    }
   }
  },
  {
   "cell_type": "code",
   "source": [
    "tmp_alpha1 = np.arange(1, 1e5, 1e4).reshape(-1, 1)\n",
    "tmp_alpha2 = np.array([1e5] * len(tmp_alpha1)).reshape(-1, 1)\n",
    "\n",
    "fog_gc = np.append(tmp_alpha1, tmp_alpha2, axis=1).tolist()\n",
    "\n",
    "best_score = 0\n",
    "for i in fog_gc:\n",
    "    clf = BernoulliNB(class_prior=i)\n",
    "    clf = clf.fit(X_vec, Y)\n",
    "    Y_pred = clf.predict(X_vec)\n",
    "    acc = accuracy_score(Y, Y_pred)\n",
    "    if (acc > best_score):\n",
    "        best_score = acc\n",
    "        best_grid = i\n",
    "\n",
    "print(f\"Best parameters for accuracy: {best_grid}\")\n",
    "print(f\"Best score: {best_score:.2%}\")"
   ],
   "metadata": {
    "collapsed": false,
    "pycharm": {
     "name": "#%%\n",
     "is_executing": false
    }
   },
   "execution_count": 13,
   "outputs": [
    {
     "name": "stdout",
     "text": [
      "Best parameters for accuracy: [1.0, 100000.0]\n",
      "Best score: 96.70%\n"
     ],
     "output_type": "stream"
    }
   ]
  },
  {
   "cell_type": "markdown",
   "source": [
    "Посмотрим, насколько точно классификатор с такими параметрами распределяет письма:"
   ],
   "metadata": {
    "collapsed": false,
    "pycharm": {
     "name": "#%% md\n"
    }
   }
  },
  {
   "cell_type": "code",
   "source": [
    "clf1 = BernoulliNB(class_prior=best_grid)\n",
    "clf1 = clf1.fit(X_vec, Y)\n",
    "\n",
    "plot_confusion_matrix(clf1, X_vec, Y,\n",
    "                      cmap=plt.cm.Blues,\n",
    "                      display_labels=[\"ok\", \"spam\"],\n",
    "                      values_format='d')"
   ],
   "metadata": {
    "collapsed": false,
    "pycharm": {
     "name": "#%%\n",
     "is_executing": false
    }
   },
   "execution_count": 14,
   "outputs": [
    {
     "data": {
      "text/plain": "<sklearn.metrics._plot.confusion_matrix.ConfusionMatrixDisplay at 0x7f6fe9605190>"
     },
     "metadata": {},
     "output_type": "execute_result",
     "execution_count": 14
    },
    {
     "data": {
      "text/plain": "<Figure size 432x288 with 2 Axes>",
      "image/png": "[encoded data removed]"
     },
     "metadata": {
      "needs_background": "light"
     },
     "output_type": "display_data"
    }
   ]
  }
 ],
 "metadata": {
  "kernelspec": {
   "display_name": "Python 3",
   "language": "python",
   "name": "python3"
  },
  "language_info": {
   "codemirror_mode": {
    "name": "ipython",
    "version": 2
   },
   "file_extension": ".py",
   "mimetype": "text/x-python",
   "name": "python",
   "nbconvert_exporter": "python",
   "pygments_lexer": "ipython2",
   "version": "2.7.6"
  },
  "pycharm": {
   "stem_cell": {
    "cell_type": "raw",
    "source": [],
    "metadata": {
     "collapsed": false
    }
   }
  }
 },
 "nbformat": 4,
 "nbformat_minor": 0
}