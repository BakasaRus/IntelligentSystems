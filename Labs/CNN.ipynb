{
 "cells": [
  {
   "cell_type": "markdown",
   "source": [
    "# Лабораторная работа 6. Свёрточная сеть\n",
    "\n",
    "## Подготовка\n",
    "\n",
    "Импортируем нужные нам библиотеки и модули."
   ],
   "metadata": {
    "collapsed": false,
    "pycharm": {
     "name": "#%% md\n"
    }
   }
  },
  {
   "cell_type": "code",
   "execution_count": 1,
   "metadata": {
    "collapsed": true
   },
   "outputs": [],
   "source": [
    "import torch\n",
    "import torch.nn as nn\n",
    "import torch.nn.functional as F\n",
    "import torch.optim as optim\n",
    "from torchvision import datasets, transforms\n",
    "from torch.optim.lr_scheduler import StepLR\n",
    "\n",
    "from sklearn.metrics import confusion_matrix, ConfusionMatrixDisplay\n",
    "\n",
    "import matplotlib.pyplot as plt\n",
    "plt.style.use('ggplot')"
   ]
  },
  {
   "cell_type": "markdown",
   "source": [
    "## 1. Поиск оптимальной архитектуры\n",
    "\n",
    "После недолгих изысканий была подобрана следующая архитектура, состоящая из трёх блоков \"Свёртка + ReLU + Пулинг\"."
   ],
   "metadata": {
    "collapsed": false,
    "pycharm": {
     "name": "#%% md\n"
    }
   }
  },
  {
   "cell_type": "code",
   "execution_count": 2,
   "outputs": [],
   "source": [
    "class Net(nn.Module):\n",
    "    def __init__(self):\n",
    "        super(Net, self).__init__()\n",
    "        self.conv1 = nn.Conv2d(1, 32, 3, 1)\n",
    "        self.conv2 = nn.Conv2d(32, 64, 5, 1)\n",
    "        self.conv3 = nn.Conv2d(64, 10, 3, 1)\n",
    "\n",
    "    def forward(self, x):\n",
    "        for conv_layer in [self.conv1, self.conv2, self.conv3]:\n",
    "            x = conv_layer(x)\n",
    "            x = F.relu(x)\n",
    "            x = F.max_pool2d(x, 2)\n",
    "        x = torch.flatten(x, 1)\n",
    "        output = F.softmax(x, dim=1)\n",
    "        return output"
   ],
   "metadata": {
    "collapsed": false,
    "pycharm": {
     "name": "#%%\n"
    }
   }
  },
  {
   "cell_type": "markdown",
   "source": [
    "Напишем функцию обучения нейронной сети."
   ],
   "metadata": {
    "collapsed": false,
    "pycharm": {
     "name": "#%% md\n"
    }
   }
  },
  {
   "cell_type": "code",
   "execution_count": 3,
   "outputs": [],
   "source": [
    "def train(model, device, train_loader, optimizer, epoch, log_interval = 10):\n",
    "    model.train()\n",
    "    for batch_idx, (data, target) in enumerate(train_loader):\n",
    "        data, target = data.to(device), target.to(device)\n",
    "        optimizer.zero_grad()\n",
    "        output = model(data)\n",
    "        loss = F.cross_entropy(output, target)\n",
    "        loss.backward()\n",
    "        optimizer.step()\n",
    "\n",
    "        if batch_idx % log_interval == 0:\n",
    "            print('Train Epoch: {} [{}/{} ({:.1%})]\\tLoss: {:.6f}'.format(\n",
    "                epoch, batch_idx * len(data), len(train_loader.dataset),\n",
    "                batch_idx / len(train_loader), loss.item()))"
   ],
   "metadata": {
    "collapsed": false,
    "pycharm": {
     "name": "#%%\n"
    }
   }
  },
  {
   "cell_type": "markdown",
   "source": [
    "Напишем функцию тестирования нейронной сети. Здесь считается среднее функции потерь и точность."
   ],
   "metadata": {
    "collapsed": false,
    "pycharm": {
     "name": "#%% md\n"
    }
   }
  },
  {
   "cell_type": "code",
   "execution_count": 4,
   "outputs": [],
   "source": [
    "def test(model, device, test_loader):\n",
    "    model.eval()\n",
    "    test_loss = 0\n",
    "    correct = 0\n",
    "    with torch.no_grad():\n",
    "        for data, target in test_loader:\n",
    "            data, target = data.to(device), target.to(device)\n",
    "            output = model(data)\n",
    "            test_loss += F.cross_entropy(output, target, reduction='sum').item()  # sum up batch loss\n",
    "            pred = output.argmax(dim=1, keepdim=True)  # get the index of the max log-probability\n",
    "            correct += pred.eq(target.view_as(pred)).sum().item()\n",
    "\n",
    "    test_loss /= len(test_loader.dataset)\n",
    "    accuracy = correct / len(test_loader.dataset)\n",
    "\n",
    "    print('\\nTest set: Average loss: {:.4f}, Accuracy: {}/{} ({:.1%})\\n'.format(\n",
    "        test_loss, correct, len(test_loader.dataset), accuracy))\n",
    "\n",
    "    return test_loss, accuracy"
   ],
   "metadata": {
    "collapsed": false,
    "pycharm": {
     "name": "#%%\n"
    }
   }
  },
  {
   "cell_type": "markdown",
   "source": [
    "Зададим параметры обучения нейронной сети и всякие вспомогательные штуки."
   ],
   "metadata": {
    "collapsed": false,
    "pycharm": {
     "name": "#%% md\n"
    }
   }
  },
  {
   "cell_type": "code",
   "execution_count": 5,
   "outputs": [],
   "source": [
    "batch_size = 50\n",
    "test_batch_size = 500\n",
    "epochs = 10\n",
    "learning_rate = 1.0\n",
    "gamma = 0.7\n",
    "no_cuda = False\n",
    "seed = 1\n",
    "log_interval = 50"
   ],
   "metadata": {
    "collapsed": false,
    "pycharm": {
     "name": "#%%\n"
    }
   }
  },
  {
   "cell_type": "markdown",
   "source": [
    "Определим, где будут происходить вычисления, и загрузим MNIST."
   ],
   "metadata": {
    "collapsed": false,
    "pycharm": {
     "name": "#%% md\n"
    }
   }
  },
  {
   "cell_type": "code",
   "execution_count": 6,
   "outputs": [],
   "source": [
    "use_cuda = not no_cuda and torch.cuda.is_available()\n",
    "torch.manual_seed(seed)\n",
    "device = torch.device(\"cuda\" if use_cuda else \"cpu\")\n",
    "\n",
    "kwargs = {'num_workers': 1, 'pin_memory': True} if use_cuda else {}\n",
    "\n",
    "train_loader = torch.utils.data.DataLoader(\n",
    "    datasets.MNIST('../data', train=True, download=True,\n",
    "                   transform=transforms.Compose([\n",
    "                       transforms.ToTensor(),\n",
    "                       transforms.Normalize((0.1307,), (0.3081,))\n",
    "                   ])),\n",
    "                   batch_size=batch_size,\n",
    "                   shuffle=True, **kwargs)\n",
    "\n",
    "test_loader = torch.utils.data.DataLoader(\n",
    "    datasets.MNIST('../data', train=False,\n",
    "                   transform=transforms.Compose([\n",
    "                       transforms.ToTensor(),\n",
    "                       transforms.Normalize((0.1307,), (0.3081,))\n",
    "                   ])),\n",
    "                   batch_size=test_batch_size,\n",
    "                   shuffle=True, **kwargs)"
   ],
   "metadata": {
    "collapsed": false,
    "pycharm": {
     "name": "#%%\n"
    }
   }
  },
  {
   "cell_type": "markdown",
   "source": [
    "Начнём само обучение. `optimizer` используется непосредственно для вычислений, а `scheduler` - для работы с коэффициентом обучения."
   ],
   "metadata": {
    "collapsed": false,
    "pycharm": {
     "name": "#%% md\n"
    }
   }
  },
  {
   "cell_type": "code",
   "execution_count": 7,
   "outputs": [
    {
     "name": "stdout",
     "output_type": "stream",
     "text": [
      "Train Epoch: 1 [0/60000 (0.0%)]\tLoss: 2.305270\n",
      "Train Epoch: 1 [2500/60000 (4.2%)]\tLoss: 1.923650\n",
      "Train Epoch: 1 [5000/60000 (8.3%)]\tLoss: 1.841120\n",
      "Train Epoch: 1 [7500/60000 (12.5%)]\tLoss: 1.668073\n",
      "Train Epoch: 1 [10000/60000 (16.7%)]\tLoss: 1.726043\n",
      "Train Epoch: 1 [12500/60000 (20.8%)]\tLoss: 1.786812\n",
      "Train Epoch: 1 [15000/60000 (25.0%)]\tLoss: 1.691654\n",
      "Train Epoch: 1 [17500/60000 (29.2%)]\tLoss: 1.755789\n",
      "Train Epoch: 1 [20000/60000 (33.3%)]\tLoss: 1.715389\n",
      "Train Epoch: 1 [22500/60000 (37.5%)]\tLoss: 1.777407\n",
      "Train Epoch: 1 [25000/60000 (41.7%)]\tLoss: 1.716839\n",
      "Train Epoch: 1 [27500/60000 (45.8%)]\tLoss: 1.621523\n",
      "Train Epoch: 1 [30000/60000 (50.0%)]\tLoss: 1.730045\n",
      "Train Epoch: 1 [32500/60000 (54.2%)]\tLoss: 1.686036\n",
      "Train Epoch: 1 [35000/60000 (58.3%)]\tLoss: 1.644121\n",
      "Train Epoch: 1 [37500/60000 (62.5%)]\tLoss: 1.742703\n",
      "Train Epoch: 1 [40000/60000 (66.7%)]\tLoss: 1.741039\n",
      "Train Epoch: 1 [42500/60000 (70.8%)]\tLoss: 1.656301\n",
      "Train Epoch: 1 [45000/60000 (75.0%)]\tLoss: 1.675343\n",
      "Train Epoch: 1 [47500/60000 (79.2%)]\tLoss: 1.675679\n",
      "Train Epoch: 1 [50000/60000 (83.3%)]\tLoss: 1.691548\n",
      "Train Epoch: 1 [52500/60000 (87.5%)]\tLoss: 1.618829\n",
      "Train Epoch: 1 [55000/60000 (91.7%)]\tLoss: 1.543851\n",
      "Train Epoch: 1 [57500/60000 (95.8%)]\tLoss: 1.495355\n",
      "\n",
      "Test set: Average loss: 1.5154, Accuracy: 9476/10000 (94.8%)\n",
      "\n",
      "Train Epoch: 2 [0/60000 (0.0%)]\tLoss: 1.473203\n",
      "Train Epoch: 2 [2500/60000 (4.2%)]\tLoss: 1.540842\n",
      "Train Epoch: 2 [5000/60000 (8.3%)]\tLoss: 1.500588\n",
      "Train Epoch: 2 [7500/60000 (12.5%)]\tLoss: 1.479315\n",
      "Train Epoch: 2 [10000/60000 (16.7%)]\tLoss: 1.465226\n",
      "Train Epoch: 2 [12500/60000 (20.8%)]\tLoss: 1.530611\n",
      "Train Epoch: 2 [15000/60000 (25.0%)]\tLoss: 1.480700\n",
      "Train Epoch: 2 [17500/60000 (29.2%)]\tLoss: 1.508355\n",
      "Train Epoch: 2 [20000/60000 (33.3%)]\tLoss: 1.461518\n",
      "Train Epoch: 2 [22500/60000 (37.5%)]\tLoss: 1.526123\n",
      "Train Epoch: 2 [25000/60000 (41.7%)]\tLoss: 1.465592\n",
      "Train Epoch: 2 [27500/60000 (45.8%)]\tLoss: 1.463698\n",
      "Train Epoch: 2 [30000/60000 (50.0%)]\tLoss: 1.489422\n",
      "Train Epoch: 2 [32500/60000 (54.2%)]\tLoss: 1.477916\n",
      "Train Epoch: 2 [35000/60000 (58.3%)]\tLoss: 1.463614\n",
      "Train Epoch: 2 [37500/60000 (62.5%)]\tLoss: 1.466478\n",
      "Train Epoch: 2 [40000/60000 (66.7%)]\tLoss: 1.486378\n",
      "Train Epoch: 2 [42500/60000 (70.8%)]\tLoss: 1.481800\n",
      "Train Epoch: 2 [45000/60000 (75.0%)]\tLoss: 1.488792\n",
      "Train Epoch: 2 [47500/60000 (79.2%)]\tLoss: 1.520441\n",
      "Train Epoch: 2 [50000/60000 (83.3%)]\tLoss: 1.481817\n",
      "Train Epoch: 2 [52500/60000 (87.5%)]\tLoss: 1.483369\n",
      "Train Epoch: 2 [55000/60000 (91.7%)]\tLoss: 1.461673\n",
      "Train Epoch: 2 [57500/60000 (95.8%)]\tLoss: 1.471795\n",
      "\n",
      "Test set: Average loss: 1.4824, Accuracy: 9798/10000 (98.0%)\n",
      "\n",
      "Train Epoch: 3 [0/60000 (0.0%)]\tLoss: 1.494473\n",
      "Train Epoch: 3 [2500/60000 (4.2%)]\tLoss: 1.462427\n",
      "Train Epoch: 3 [5000/60000 (8.3%)]\tLoss: 1.486958\n",
      "Train Epoch: 3 [7500/60000 (12.5%)]\tLoss: 1.462450\n",
      "Train Epoch: 3 [10000/60000 (16.7%)]\tLoss: 1.496390\n",
      "Train Epoch: 3 [12500/60000 (20.8%)]\tLoss: 1.513325\n",
      "Train Epoch: 3 [15000/60000 (25.0%)]\tLoss: 1.482685\n",
      "Train Epoch: 3 [17500/60000 (29.2%)]\tLoss: 1.539550\n",
      "Train Epoch: 3 [20000/60000 (33.3%)]\tLoss: 1.462014\n",
      "Train Epoch: 3 [22500/60000 (37.5%)]\tLoss: 1.501008\n",
      "Train Epoch: 3 [25000/60000 (41.7%)]\tLoss: 1.463506\n",
      "Train Epoch: 3 [27500/60000 (45.8%)]\tLoss: 1.481989\n",
      "Train Epoch: 3 [30000/60000 (50.0%)]\tLoss: 1.481239\n",
      "Train Epoch: 3 [32500/60000 (54.2%)]\tLoss: 1.491391\n",
      "Train Epoch: 3 [35000/60000 (58.3%)]\tLoss: 1.499598\n",
      "Train Epoch: 3 [37500/60000 (62.5%)]\tLoss: 1.461900\n",
      "Train Epoch: 3 [40000/60000 (66.7%)]\tLoss: 1.464971\n",
      "Train Epoch: 3 [42500/60000 (70.8%)]\tLoss: 1.461486\n",
      "Train Epoch: 3 [45000/60000 (75.0%)]\tLoss: 1.480567\n",
      "Train Epoch: 3 [47500/60000 (79.2%)]\tLoss: 1.489970\n",
      "Train Epoch: 3 [50000/60000 (83.3%)]\tLoss: 1.484375\n",
      "Train Epoch: 3 [52500/60000 (87.5%)]\tLoss: 1.480926\n",
      "Train Epoch: 3 [55000/60000 (91.7%)]\tLoss: 1.476598\n",
      "Train Epoch: 3 [57500/60000 (95.8%)]\tLoss: 1.474365\n",
      "\n",
      "Test set: Average loss: 1.4771, Accuracy: 9846/10000 (98.5%)\n",
      "\n",
      "Train Epoch: 4 [0/60000 (0.0%)]\tLoss: 1.483501\n",
      "Train Epoch: 4 [2500/60000 (4.2%)]\tLoss: 1.465858\n",
      "Train Epoch: 4 [5000/60000 (8.3%)]\tLoss: 1.480578\n",
      "Train Epoch: 4 [7500/60000 (12.5%)]\tLoss: 1.461308\n",
      "Train Epoch: 4 [10000/60000 (16.7%)]\tLoss: 1.461232\n",
      "Train Epoch: 4 [12500/60000 (20.8%)]\tLoss: 1.481201\n",
      "Train Epoch: 4 [15000/60000 (25.0%)]\tLoss: 1.476022\n",
      "Train Epoch: 4 [17500/60000 (29.2%)]\tLoss: 1.461881\n",
      "Train Epoch: 4 [20000/60000 (33.3%)]\tLoss: 1.462069\n",
      "Train Epoch: 4 [22500/60000 (37.5%)]\tLoss: 1.495895\n",
      "Train Epoch: 4 [25000/60000 (41.7%)]\tLoss: 1.473208\n",
      "Train Epoch: 4 [27500/60000 (45.8%)]\tLoss: 1.468392\n",
      "Train Epoch: 4 [30000/60000 (50.0%)]\tLoss: 1.471240\n",
      "Train Epoch: 4 [32500/60000 (54.2%)]\tLoss: 1.461330\n",
      "Train Epoch: 4 [35000/60000 (58.3%)]\tLoss: 1.461170\n",
      "Train Epoch: 4 [37500/60000 (62.5%)]\tLoss: 1.493739\n",
      "Train Epoch: 4 [40000/60000 (66.7%)]\tLoss: 1.506945\n",
      "Train Epoch: 4 [42500/60000 (70.8%)]\tLoss: 1.480358\n",
      "Train Epoch: 4 [45000/60000 (75.0%)]\tLoss: 1.483526\n",
      "Train Epoch: 4 [47500/60000 (79.2%)]\tLoss: 1.476578\n",
      "Train Epoch: 4 [50000/60000 (83.3%)]\tLoss: 1.461339\n",
      "Train Epoch: 4 [52500/60000 (87.5%)]\tLoss: 1.461733\n",
      "Train Epoch: 4 [55000/60000 (91.7%)]\tLoss: 1.471985\n",
      "Train Epoch: 4 [57500/60000 (95.8%)]\tLoss: 1.484559\n",
      "\n",
      "Test set: Average loss: 1.4768, Accuracy: 9851/10000 (98.5%)\n",
      "\n",
      "Train Epoch: 5 [0/60000 (0.0%)]\tLoss: 1.461288\n",
      "Train Epoch: 5 [2500/60000 (4.2%)]\tLoss: 1.461768\n",
      "Train Epoch: 5 [5000/60000 (8.3%)]\tLoss: 1.497021\n",
      "Train Epoch: 5 [7500/60000 (12.5%)]\tLoss: 1.462405\n",
      "Train Epoch: 5 [10000/60000 (16.7%)]\tLoss: 1.461657\n",
      "Train Epoch: 5 [12500/60000 (20.8%)]\tLoss: 1.477893\n",
      "Train Epoch: 5 [15000/60000 (25.0%)]\tLoss: 1.471180\n",
      "Train Epoch: 5 [17500/60000 (29.2%)]\tLoss: 1.464545\n",
      "Train Epoch: 5 [20000/60000 (33.3%)]\tLoss: 1.482855\n",
      "Train Epoch: 5 [22500/60000 (37.5%)]\tLoss: 1.470911\n",
      "Train Epoch: 5 [25000/60000 (41.7%)]\tLoss: 1.461195\n",
      "Train Epoch: 5 [27500/60000 (45.8%)]\tLoss: 1.461495\n",
      "Train Epoch: 5 [30000/60000 (50.0%)]\tLoss: 1.478836\n",
      "Train Epoch: 5 [32500/60000 (54.2%)]\tLoss: 1.469361\n",
      "Train Epoch: 5 [35000/60000 (58.3%)]\tLoss: 1.462245\n",
      "Train Epoch: 5 [37500/60000 (62.5%)]\tLoss: 1.461209\n",
      "Train Epoch: 5 [40000/60000 (66.7%)]\tLoss: 1.462817\n",
      "Train Epoch: 5 [42500/60000 (70.8%)]\tLoss: 1.484247\n",
      "Train Epoch: 5 [45000/60000 (75.0%)]\tLoss: 1.463321\n",
      "Train Epoch: 5 [47500/60000 (79.2%)]\tLoss: 1.480653\n",
      "Train Epoch: 5 [50000/60000 (83.3%)]\tLoss: 1.461545\n",
      "Train Epoch: 5 [52500/60000 (87.5%)]\tLoss: 1.472921\n",
      "Train Epoch: 5 [55000/60000 (91.7%)]\tLoss: 1.461608\n",
      "Train Epoch: 5 [57500/60000 (95.8%)]\tLoss: 1.464238\n",
      "\n",
      "Test set: Average loss: 1.4734, Accuracy: 9887/10000 (98.9%)\n",
      "\n",
      "Train Epoch: 6 [0/60000 (0.0%)]\tLoss: 1.467947\n",
      "Train Epoch: 6 [2500/60000 (4.2%)]\tLoss: 1.461763\n",
      "Train Epoch: 6 [5000/60000 (8.3%)]\tLoss: 1.461389\n",
      "Train Epoch: 6 [7500/60000 (12.5%)]\tLoss: 1.461271\n",
      "Train Epoch: 6 [10000/60000 (16.7%)]\tLoss: 1.461279\n",
      "Train Epoch: 6 [12500/60000 (20.8%)]\tLoss: 1.480902\n",
      "Train Epoch: 6 [15000/60000 (25.0%)]\tLoss: 1.461306\n",
      "Train Epoch: 6 [17500/60000 (29.2%)]\tLoss: 1.462595\n",
      "Train Epoch: 6 [20000/60000 (33.3%)]\tLoss: 1.481802\n",
      "Train Epoch: 6 [22500/60000 (37.5%)]\tLoss: 1.461174\n",
      "Train Epoch: 6 [25000/60000 (41.7%)]\tLoss: 1.480628\n",
      "Train Epoch: 6 [27500/60000 (45.8%)]\tLoss: 1.483190\n",
      "Train Epoch: 6 [30000/60000 (50.0%)]\tLoss: 1.474083\n",
      "Train Epoch: 6 [32500/60000 (54.2%)]\tLoss: 1.461174\n",
      "Train Epoch: 6 [35000/60000 (58.3%)]\tLoss: 1.462342\n",
      "Train Epoch: 6 [37500/60000 (62.5%)]\tLoss: 1.501496\n",
      "Train Epoch: 6 [40000/60000 (66.7%)]\tLoss: 1.497308\n",
      "Train Epoch: 6 [42500/60000 (70.8%)]\tLoss: 1.476949\n",
      "Train Epoch: 6 [45000/60000 (75.0%)]\tLoss: 1.477902\n",
      "Train Epoch: 6 [47500/60000 (79.2%)]\tLoss: 1.482491\n",
      "Train Epoch: 6 [50000/60000 (83.3%)]\tLoss: 1.462122\n",
      "Train Epoch: 6 [52500/60000 (87.5%)]\tLoss: 1.479353\n",
      "Train Epoch: 6 [55000/60000 (91.7%)]\tLoss: 1.463073\n",
      "Train Epoch: 6 [57500/60000 (95.8%)]\tLoss: 1.461358\n",
      "\n",
      "Test set: Average loss: 1.4734, Accuracy: 9887/10000 (98.9%)\n",
      "\n",
      "Train Epoch: 7 [0/60000 (0.0%)]\tLoss: 1.481106\n",
      "Train Epoch: 7 [2500/60000 (4.2%)]\tLoss: 1.461208\n",
      "Train Epoch: 7 [5000/60000 (8.3%)]\tLoss: 1.461193\n",
      "Train Epoch: 7 [7500/60000 (12.5%)]\tLoss: 1.462800\n",
      "Train Epoch: 7 [10000/60000 (16.7%)]\tLoss: 1.461211\n",
      "Train Epoch: 7 [12500/60000 (20.8%)]\tLoss: 1.462505\n",
      "Train Epoch: 7 [15000/60000 (25.0%)]\tLoss: 1.461209\n",
      "Train Epoch: 7 [17500/60000 (29.2%)]\tLoss: 1.464391\n",
      "Train Epoch: 7 [20000/60000 (33.3%)]\tLoss: 1.482386\n",
      "Train Epoch: 7 [22500/60000 (37.5%)]\tLoss: 1.466530\n",
      "Train Epoch: 7 [25000/60000 (41.7%)]\tLoss: 1.461158\n",
      "Train Epoch: 7 [27500/60000 (45.8%)]\tLoss: 1.461910\n",
      "Train Epoch: 7 [30000/60000 (50.0%)]\tLoss: 1.461621\n",
      "Train Epoch: 7 [32500/60000 (54.2%)]\tLoss: 1.461328\n",
      "Train Epoch: 7 [35000/60000 (58.3%)]\tLoss: 1.481178\n",
      "Train Epoch: 7 [37500/60000 (62.5%)]\tLoss: 1.461287\n",
      "Train Epoch: 7 [40000/60000 (66.7%)]\tLoss: 1.481830\n",
      "Train Epoch: 7 [42500/60000 (70.8%)]\tLoss: 1.485652\n",
      "Train Epoch: 7 [45000/60000 (75.0%)]\tLoss: 1.498057\n",
      "Train Epoch: 7 [47500/60000 (79.2%)]\tLoss: 1.494787\n",
      "Train Epoch: 7 [50000/60000 (83.3%)]\tLoss: 1.501876\n",
      "Train Epoch: 7 [52500/60000 (87.5%)]\tLoss: 1.467088\n",
      "Train Epoch: 7 [55000/60000 (91.7%)]\tLoss: 1.462032\n",
      "Train Epoch: 7 [57500/60000 (95.8%)]\tLoss: 1.461645\n",
      "\n",
      "Test set: Average loss: 1.4737, Accuracy: 9881/10000 (98.8%)\n",
      "\n",
      "Train Epoch: 8 [0/60000 (0.0%)]\tLoss: 1.461327\n",
      "Train Epoch: 8 [2500/60000 (4.2%)]\tLoss: 1.462268\n",
      "Train Epoch: 8 [5000/60000 (8.3%)]\tLoss: 1.461303\n",
      "Train Epoch: 8 [7500/60000 (12.5%)]\tLoss: 1.461353\n",
      "Train Epoch: 8 [10000/60000 (16.7%)]\tLoss: 1.461264\n",
      "Train Epoch: 8 [12500/60000 (20.8%)]\tLoss: 1.521925\n",
      "Train Epoch: 8 [15000/60000 (25.0%)]\tLoss: 1.461196\n",
      "Train Epoch: 8 [17500/60000 (29.2%)]\tLoss: 1.462267\n",
      "Train Epoch: 8 [20000/60000 (33.3%)]\tLoss: 1.461607\n",
      "Train Epoch: 8 [22500/60000 (37.5%)]\tLoss: 1.461162\n",
      "Train Epoch: 8 [25000/60000 (41.7%)]\tLoss: 1.463106\n",
      "Train Epoch: 8 [27500/60000 (45.8%)]\tLoss: 1.464393\n",
      "Train Epoch: 8 [30000/60000 (50.0%)]\tLoss: 1.482522\n",
      "Train Epoch: 8 [32500/60000 (54.2%)]\tLoss: 1.461169\n",
      "Train Epoch: 8 [35000/60000 (58.3%)]\tLoss: 1.461356\n",
      "Train Epoch: 8 [37500/60000 (62.5%)]\tLoss: 1.480948\n",
      "Train Epoch: 8 [40000/60000 (66.7%)]\tLoss: 1.461616\n",
      "Train Epoch: 8 [42500/60000 (70.8%)]\tLoss: 1.474506\n",
      "Train Epoch: 8 [45000/60000 (75.0%)]\tLoss: 1.461797\n",
      "Train Epoch: 8 [47500/60000 (79.2%)]\tLoss: 1.480769\n",
      "Train Epoch: 8 [50000/60000 (83.3%)]\tLoss: 1.462877\n",
      "Train Epoch: 8 [52500/60000 (87.5%)]\tLoss: 1.461180\n",
      "Train Epoch: 8 [55000/60000 (91.7%)]\tLoss: 1.461281\n",
      "Train Epoch: 8 [57500/60000 (95.8%)]\tLoss: 1.461229\n",
      "\n",
      "Test set: Average loss: 1.4727, Accuracy: 9900/10000 (99.0%)\n",
      "\n",
      "Train Epoch: 9 [0/60000 (0.0%)]\tLoss: 1.461956\n",
      "Train Epoch: 9 [2500/60000 (4.2%)]\tLoss: 1.461154\n",
      "Train Epoch: 9 [5000/60000 (8.3%)]\tLoss: 1.479383\n",
      "Train Epoch: 9 [7500/60000 (12.5%)]\tLoss: 1.462111\n",
      "Train Epoch: 9 [10000/60000 (16.7%)]\tLoss: 1.462070\n",
      "Train Epoch: 9 [12500/60000 (20.8%)]\tLoss: 1.467812\n",
      "Train Epoch: 9 [15000/60000 (25.0%)]\tLoss: 1.462105\n",
      "Train Epoch: 9 [17500/60000 (29.2%)]\tLoss: 1.492658\n",
      "Train Epoch: 9 [20000/60000 (33.3%)]\tLoss: 1.481555\n",
      "Train Epoch: 9 [22500/60000 (37.5%)]\tLoss: 1.482577\n",
      "Train Epoch: 9 [25000/60000 (41.7%)]\tLoss: 1.462644\n",
      "Train Epoch: 9 [27500/60000 (45.8%)]\tLoss: 1.463251\n",
      "Train Epoch: 9 [30000/60000 (50.0%)]\tLoss: 1.461178\n",
      "Train Epoch: 9 [32500/60000 (54.2%)]\tLoss: 1.462428\n",
      "Train Epoch: 9 [35000/60000 (58.3%)]\tLoss: 1.488431\n",
      "Train Epoch: 9 [37500/60000 (62.5%)]\tLoss: 1.461213\n",
      "Train Epoch: 9 [40000/60000 (66.7%)]\tLoss: 1.461164\n",
      "Train Epoch: 9 [42500/60000 (70.8%)]\tLoss: 1.461201\n",
      "Train Epoch: 9 [45000/60000 (75.0%)]\tLoss: 1.463766\n",
      "Train Epoch: 9 [47500/60000 (79.2%)]\tLoss: 1.461368\n",
      "Train Epoch: 9 [50000/60000 (83.3%)]\tLoss: 1.461261\n",
      "Train Epoch: 9 [52500/60000 (87.5%)]\tLoss: 1.476099\n",
      "Train Epoch: 9 [55000/60000 (91.7%)]\tLoss: 1.461167\n",
      "Train Epoch: 9 [57500/60000 (95.8%)]\tLoss: 1.476362\n",
      "\n",
      "Test set: Average loss: 1.4735, Accuracy: 9883/10000 (98.8%)\n",
      "\n",
      "Train Epoch: 10 [0/60000 (0.0%)]\tLoss: 1.461223\n",
      "Train Epoch: 10 [2500/60000 (4.2%)]\tLoss: 1.463866\n",
      "Train Epoch: 10 [5000/60000 (8.3%)]\tLoss: 1.461343\n",
      "Train Epoch: 10 [7500/60000 (12.5%)]\tLoss: 1.481208\n",
      "Train Epoch: 10 [10000/60000 (16.7%)]\tLoss: 1.461300\n",
      "Train Epoch: 10 [12500/60000 (20.8%)]\tLoss: 1.503154\n",
      "Train Epoch: 10 [15000/60000 (25.0%)]\tLoss: 1.481148\n",
      "Train Epoch: 10 [17500/60000 (29.2%)]\tLoss: 1.462944\n",
      "Train Epoch: 10 [20000/60000 (33.3%)]\tLoss: 1.461316\n",
      "Train Epoch: 10 [22500/60000 (37.5%)]\tLoss: 1.480544\n",
      "Train Epoch: 10 [25000/60000 (41.7%)]\tLoss: 1.461270\n",
      "Train Epoch: 10 [27500/60000 (45.8%)]\tLoss: 1.463568\n",
      "Train Epoch: 10 [30000/60000 (50.0%)]\tLoss: 1.461333\n",
      "Train Epoch: 10 [32500/60000 (54.2%)]\tLoss: 1.461415\n",
      "Train Epoch: 10 [35000/60000 (58.3%)]\tLoss: 1.488080\n",
      "Train Epoch: 10 [37500/60000 (62.5%)]\tLoss: 1.468370\n",
      "Train Epoch: 10 [40000/60000 (66.7%)]\tLoss: 1.461175\n",
      "Train Epoch: 10 [42500/60000 (70.8%)]\tLoss: 1.475819\n",
      "Train Epoch: 10 [45000/60000 (75.0%)]\tLoss: 1.464309\n",
      "Train Epoch: 10 [47500/60000 (79.2%)]\tLoss: 1.461184\n",
      "Train Epoch: 10 [50000/60000 (83.3%)]\tLoss: 1.461392\n",
      "Train Epoch: 10 [52500/60000 (87.5%)]\tLoss: 1.466100\n",
      "Train Epoch: 10 [55000/60000 (91.7%)]\tLoss: 1.480806\n",
      "Train Epoch: 10 [57500/60000 (95.8%)]\tLoss: 1.461215\n",
      "\n",
      "Test set: Average loss: 1.4730, Accuracy: 9892/10000 (98.9%)\n",
      "\n"
     ]
    }
   ],
   "source": [
    "model = Net().to(device)\n",
    "optimizer = optim.Adadelta(model.parameters(), lr=learning_rate)\n",
    "scheduler = StepLR(optimizer, step_size=1, gamma=gamma)\n",
    "\n",
    "losses = []\n",
    "error_rates = []\n",
    "\n",
    "for epoch in range(1, epochs + 1):\n",
    "    train(model, device, train_loader, optimizer, epoch, log_interval)\n",
    "    (loss, accuracy) = test(model, device, test_loader)\n",
    "    losses.append(loss)\n",
    "    error_rates.append(1 - accuracy)\n",
    "    scheduler.step()"
   ],
   "metadata": {
    "collapsed": false,
    "pycharm": {
     "name": "#%%\n"
    }
   }
  },
  {
   "cell_type": "markdown",
   "source": [
    "Построим графики изменения перекрёстной энтропии и error rate с каждой последующей эпохой."
   ],
   "metadata": {
    "collapsed": false,
    "pycharm": {
     "name": "#%% md\n"
    }
   }
  },
  {
   "cell_type": "code",
   "execution_count": 8,
   "outputs": [
    {
     "data": {
      "text/plain": "<Figure size 648x720 with 2 Axes>",
      "image/png": "[encoded data removed]"
     },
     "metadata": {},
     "output_type": "display_data"
    }
   ],
   "source": [
    "plt.figure(figsize=(9, 10))\n",
    "plt.subplot(211)\n",
    "plt.title('Cross entropy per epoch')\n",
    "plt.xlabel('Epochs')\n",
    "plt.xticks(range(1, epochs + 1))\n",
    "plt.ylabel('Cross entropy')\n",
    "plt.grid(True)\n",
    "plt.plot(range(1, epochs + 1), losses)\n",
    "\n",
    "plt.subplot(212)\n",
    "plt.title('Error rate per epoch')\n",
    "plt.xlabel('Epochs')\n",
    "plt.xticks(range(1, epochs + 1))\n",
    "plt.ylabel('Error rate')\n",
    "plt.grid(True)\n",
    "plt.plot(range(1, epochs + 1), error_rates)\n",
    "\n",
    "plt.show()"
   ],
   "metadata": {
    "collapsed": false,
    "pycharm": {
     "name": "#%%\n"
    }
   }
  },
  {
   "cell_type": "markdown",
   "source": [
    "Как мы видим, error rate с выбранной архитектурой и параметрами обучения держится на уровне ~1%, что весьма неплохо.\n",
    "\n",
    "## 2. Обучение и тестирование\n",
    "\n",
    "Загрузим Fashion MNIST."
   ],
   "metadata": {
    "collapsed": false,
    "pycharm": {
     "name": "#%% md\n"
    }
   }
  },
  {
   "cell_type": "code",
   "execution_count": 9,
   "outputs": [],
   "source": [
    "train_loader = torch.utils.data.DataLoader(\n",
    "    datasets.FashionMNIST('../data', train=True, download=True,\n",
    "                          transform=transforms.Compose([\n",
    "                       transforms.ToTensor(),\n",
    "                       transforms.Normalize((0.1307,), (0.3081,))\n",
    "                   ])),\n",
    "                          batch_size=batch_size,\n",
    "                          shuffle=True, **kwargs)\n",
    "\n",
    "test_loader = torch.utils.data.DataLoader(\n",
    "    datasets.FashionMNIST('../data', train=False,\n",
    "                          transform=transforms.Compose([\n",
    "                               transforms.ToTensor(),\n",
    "                               transforms.Normalize((0.1307,), (0.3081,))\n",
    "                          ])),\n",
    "                          batch_size=test_batch_size,\n",
    "                          shuffle=True, **kwargs)"
   ],
   "metadata": {
    "collapsed": false,
    "pycharm": {
     "name": "#%%\n"
    }
   }
  },
  {
   "cell_type": "markdown",
   "source": [
    "Обучим и протестируем нашу сеть на новом датасете."
   ],
   "metadata": {
    "collapsed": false,
    "pycharm": {
     "name": "#%% md\n"
    }
   }
  },
  {
   "cell_type": "code",
   "execution_count": 16,
   "outputs": [
    {
     "name": "stdout",
     "output_type": "stream",
     "text": [
      "Train Epoch: 1 [0/60000 (0.0%)]\tLoss: 2.305384\n",
      "Train Epoch: 1 [2500/60000 (4.2%)]\tLoss: 2.071701\n",
      "Train Epoch: 1 [5000/60000 (8.3%)]\tLoss: 2.000324\n",
      "Train Epoch: 1 [7500/60000 (12.5%)]\tLoss: 1.883254\n",
      "Train Epoch: 1 [10000/60000 (16.7%)]\tLoss: 1.829421\n",
      "Train Epoch: 1 [12500/60000 (20.8%)]\tLoss: 1.960535\n",
      "Train Epoch: 1 [15000/60000 (25.0%)]\tLoss: 1.766491\n",
      "Train Epoch: 1 [17500/60000 (29.2%)]\tLoss: 1.943102\n",
      "Train Epoch: 1 [20000/60000 (33.3%)]\tLoss: 1.803245\n",
      "Train Epoch: 1 [22500/60000 (37.5%)]\tLoss: 1.935416\n",
      "Train Epoch: 1 [25000/60000 (41.7%)]\tLoss: 1.857118\n",
      "Train Epoch: 1 [27500/60000 (45.8%)]\tLoss: 1.956367\n",
      "Train Epoch: 1 [30000/60000 (50.0%)]\tLoss: 1.718214\n",
      "Train Epoch: 1 [32500/60000 (54.2%)]\tLoss: 1.710220\n",
      "Train Epoch: 1 [35000/60000 (58.3%)]\tLoss: 1.727305\n",
      "Train Epoch: 1 [37500/60000 (62.5%)]\tLoss: 1.814882\n",
      "Train Epoch: 1 [40000/60000 (66.7%)]\tLoss: 1.886348\n",
      "Train Epoch: 1 [42500/60000 (70.8%)]\tLoss: 1.894323\n",
      "Train Epoch: 1 [45000/60000 (75.0%)]\tLoss: 1.857978\n",
      "Train Epoch: 1 [47500/60000 (79.2%)]\tLoss: 1.829556\n",
      "Train Epoch: 1 [50000/60000 (83.3%)]\tLoss: 1.827249\n",
      "Train Epoch: 1 [52500/60000 (87.5%)]\tLoss: 1.910890\n",
      "Train Epoch: 1 [55000/60000 (91.7%)]\tLoss: 1.837640\n",
      "Train Epoch: 1 [57500/60000 (95.8%)]\tLoss: 1.854179\n",
      "\n",
      "Test set: Average loss: 1.7862, Accuracy: 6745/10000 (67.5%)\n",
      "\n",
      "Train Epoch: 2 [0/60000 (0.0%)]\tLoss: 1.715053\n",
      "Train Epoch: 2 [2500/60000 (4.2%)]\tLoss: 1.679342\n",
      "Train Epoch: 2 [5000/60000 (8.3%)]\tLoss: 1.900306\n",
      "Train Epoch: 2 [7500/60000 (12.5%)]\tLoss: 1.650977\n",
      "Train Epoch: 2 [10000/60000 (16.7%)]\tLoss: 1.878557\n",
      "Train Epoch: 2 [12500/60000 (20.8%)]\tLoss: 1.780744\n",
      "Train Epoch: 2 [15000/60000 (25.0%)]\tLoss: 1.668031\n",
      "Train Epoch: 2 [17500/60000 (29.2%)]\tLoss: 1.782540\n",
      "Train Epoch: 2 [20000/60000 (33.3%)]\tLoss: 1.816980\n",
      "Train Epoch: 2 [22500/60000 (37.5%)]\tLoss: 1.850969\n",
      "Train Epoch: 2 [25000/60000 (41.7%)]\tLoss: 1.754618\n",
      "Train Epoch: 2 [27500/60000 (45.8%)]\tLoss: 1.720328\n",
      "Train Epoch: 2 [30000/60000 (50.0%)]\tLoss: 1.718341\n",
      "Train Epoch: 2 [32500/60000 (54.2%)]\tLoss: 1.806468\n",
      "Train Epoch: 2 [35000/60000 (58.3%)]\tLoss: 1.714252\n",
      "Train Epoch: 2 [37500/60000 (62.5%)]\tLoss: 1.849433\n",
      "Train Epoch: 2 [40000/60000 (66.7%)]\tLoss: 1.870396\n",
      "Train Epoch: 2 [42500/60000 (70.8%)]\tLoss: 1.759614\n",
      "Train Epoch: 2 [45000/60000 (75.0%)]\tLoss: 1.773287\n",
      "Train Epoch: 2 [47500/60000 (79.2%)]\tLoss: 1.721742\n",
      "Train Epoch: 2 [50000/60000 (83.3%)]\tLoss: 1.727345\n",
      "Train Epoch: 2 [52500/60000 (87.5%)]\tLoss: 1.889075\n",
      "Train Epoch: 2 [55000/60000 (91.7%)]\tLoss: 1.662571\n",
      "Train Epoch: 2 [57500/60000 (95.8%)]\tLoss: 1.700565\n",
      "\n",
      "Test set: Average loss: 1.7632, Accuracy: 6969/10000 (69.7%)\n",
      "\n",
      "Train Epoch: 3 [0/60000 (0.0%)]\tLoss: 1.795945\n",
      "Train Epoch: 3 [2500/60000 (4.2%)]\tLoss: 1.768464\n",
      "Train Epoch: 3 [5000/60000 (8.3%)]\tLoss: 1.742448\n",
      "Train Epoch: 3 [7500/60000 (12.5%)]\tLoss: 1.655319\n",
      "Train Epoch: 3 [10000/60000 (16.7%)]\tLoss: 1.720672\n",
      "Train Epoch: 3 [12500/60000 (20.8%)]\tLoss: 1.716901\n",
      "Train Epoch: 3 [15000/60000 (25.0%)]\tLoss: 1.848703\n",
      "Train Epoch: 3 [17500/60000 (29.2%)]\tLoss: 1.716419\n",
      "Train Epoch: 3 [20000/60000 (33.3%)]\tLoss: 1.628830\n",
      "Train Epoch: 3 [22500/60000 (37.5%)]\tLoss: 1.829888\n",
      "Train Epoch: 3 [25000/60000 (41.7%)]\tLoss: 1.746754\n",
      "Train Epoch: 3 [27500/60000 (45.8%)]\tLoss: 1.791349\n",
      "Train Epoch: 3 [30000/60000 (50.0%)]\tLoss: 1.737600\n",
      "Train Epoch: 3 [32500/60000 (54.2%)]\tLoss: 1.699521\n",
      "Train Epoch: 3 [35000/60000 (58.3%)]\tLoss: 1.716738\n",
      "Train Epoch: 3 [37500/60000 (62.5%)]\tLoss: 1.664303\n",
      "Train Epoch: 3 [40000/60000 (66.7%)]\tLoss: 1.685692\n",
      "Train Epoch: 3 [42500/60000 (70.8%)]\tLoss: 1.676133\n",
      "Train Epoch: 3 [45000/60000 (75.0%)]\tLoss: 1.694451\n",
      "Train Epoch: 3 [47500/60000 (79.2%)]\tLoss: 1.794365\n",
      "Train Epoch: 3 [50000/60000 (83.3%)]\tLoss: 1.755369\n",
      "Train Epoch: 3 [52500/60000 (87.5%)]\tLoss: 1.801999\n",
      "Train Epoch: 3 [55000/60000 (91.7%)]\tLoss: 1.914216\n",
      "Train Epoch: 3 [57500/60000 (95.8%)]\tLoss: 1.706698\n",
      "\n",
      "Test set: Average loss: 1.7530, Accuracy: 7066/10000 (70.7%)\n",
      "\n",
      "Train Epoch: 4 [0/60000 (0.0%)]\tLoss: 1.839868\n",
      "Train Epoch: 4 [2500/60000 (4.2%)]\tLoss: 1.697274\n",
      "Train Epoch: 4 [5000/60000 (8.3%)]\tLoss: 1.775983\n",
      "Train Epoch: 4 [7500/60000 (12.5%)]\tLoss: 1.679876\n",
      "Train Epoch: 4 [10000/60000 (16.7%)]\tLoss: 1.753381\n",
      "Train Epoch: 4 [12500/60000 (20.8%)]\tLoss: 1.793890\n",
      "Train Epoch: 4 [15000/60000 (25.0%)]\tLoss: 1.811395\n",
      "Train Epoch: 4 [17500/60000 (29.2%)]\tLoss: 1.754287\n",
      "Train Epoch: 4 [20000/60000 (33.3%)]\tLoss: 1.800111\n",
      "Train Epoch: 4 [22500/60000 (37.5%)]\tLoss: 1.776813\n",
      "Train Epoch: 4 [25000/60000 (41.7%)]\tLoss: 1.814887\n",
      "Train Epoch: 4 [27500/60000 (45.8%)]\tLoss: 1.682900\n",
      "Train Epoch: 4 [30000/60000 (50.0%)]\tLoss: 1.907440\n",
      "Train Epoch: 4 [32500/60000 (54.2%)]\tLoss: 1.653305\n",
      "Train Epoch: 4 [35000/60000 (58.3%)]\tLoss: 1.715962\n",
      "Train Epoch: 4 [37500/60000 (62.5%)]\tLoss: 1.732625\n",
      "Train Epoch: 4 [40000/60000 (66.7%)]\tLoss: 1.685876\n",
      "Train Epoch: 4 [42500/60000 (70.8%)]\tLoss: 1.709272\n",
      "Train Epoch: 4 [45000/60000 (75.0%)]\tLoss: 1.684906\n",
      "Train Epoch: 4 [47500/60000 (79.2%)]\tLoss: 1.695967\n",
      "Train Epoch: 4 [50000/60000 (83.3%)]\tLoss: 1.802592\n",
      "Train Epoch: 4 [52500/60000 (87.5%)]\tLoss: 1.845554\n",
      "Train Epoch: 4 [55000/60000 (91.7%)]\tLoss: 1.731630\n",
      "Train Epoch: 4 [57500/60000 (95.8%)]\tLoss: 1.747903\n",
      "\n",
      "Test set: Average loss: 1.7506, Accuracy: 7090/10000 (70.9%)\n",
      "\n",
      "Train Epoch: 5 [0/60000 (0.0%)]\tLoss: 1.663217\n",
      "Train Epoch: 5 [2500/60000 (4.2%)]\tLoss: 1.677417\n",
      "Train Epoch: 5 [5000/60000 (8.3%)]\tLoss: 1.755840\n",
      "Train Epoch: 5 [7500/60000 (12.5%)]\tLoss: 1.675939\n",
      "Train Epoch: 5 [10000/60000 (16.7%)]\tLoss: 1.649279\n",
      "Train Epoch: 5 [12500/60000 (20.8%)]\tLoss: 1.678303\n",
      "Train Epoch: 5 [15000/60000 (25.0%)]\tLoss: 1.615352\n",
      "Train Epoch: 5 [17500/60000 (29.2%)]\tLoss: 1.704608\n",
      "Train Epoch: 5 [20000/60000 (33.3%)]\tLoss: 1.663858\n",
      "Train Epoch: 5 [22500/60000 (37.5%)]\tLoss: 1.816941\n",
      "Train Epoch: 5 [25000/60000 (41.7%)]\tLoss: 1.708524\n",
      "Train Epoch: 5 [27500/60000 (45.8%)]\tLoss: 1.602776\n",
      "Train Epoch: 5 [30000/60000 (50.0%)]\tLoss: 1.715526\n",
      "Train Epoch: 5 [32500/60000 (54.2%)]\tLoss: 1.640945\n",
      "Train Epoch: 5 [35000/60000 (58.3%)]\tLoss: 1.636235\n",
      "Train Epoch: 5 [37500/60000 (62.5%)]\tLoss: 1.634684\n",
      "Train Epoch: 5 [40000/60000 (66.7%)]\tLoss: 1.704285\n",
      "Train Epoch: 5 [42500/60000 (70.8%)]\tLoss: 1.689026\n",
      "Train Epoch: 5 [45000/60000 (75.0%)]\tLoss: 1.628042\n",
      "Train Epoch: 5 [47500/60000 (79.2%)]\tLoss: 1.592158\n",
      "Train Epoch: 5 [50000/60000 (83.3%)]\tLoss: 1.701494\n",
      "Train Epoch: 5 [52500/60000 (87.5%)]\tLoss: 1.687505\n",
      "Train Epoch: 5 [55000/60000 (91.7%)]\tLoss: 1.608731\n",
      "Train Epoch: 5 [57500/60000 (95.8%)]\tLoss: 1.733556\n",
      "\n",
      "Test set: Average loss: 1.6828, Accuracy: 7774/10000 (77.7%)\n",
      "\n",
      "Train Epoch: 6 [0/60000 (0.0%)]\tLoss: 1.673770\n",
      "Train Epoch: 6 [2500/60000 (4.2%)]\tLoss: 1.737514\n",
      "Train Epoch: 6 [5000/60000 (8.3%)]\tLoss: 1.701360\n",
      "Train Epoch: 6 [7500/60000 (12.5%)]\tLoss: 1.593606\n",
      "Train Epoch: 6 [10000/60000 (16.7%)]\tLoss: 1.713396\n",
      "Train Epoch: 6 [12500/60000 (20.8%)]\tLoss: 1.543802\n",
      "Train Epoch: 6 [15000/60000 (25.0%)]\tLoss: 1.641974\n",
      "Train Epoch: 6 [17500/60000 (29.2%)]\tLoss: 1.698386\n",
      "Train Epoch: 6 [20000/60000 (33.3%)]\tLoss: 1.699272\n",
      "Train Epoch: 6 [22500/60000 (37.5%)]\tLoss: 1.624245\n",
      "Train Epoch: 6 [25000/60000 (41.7%)]\tLoss: 1.601883\n",
      "Train Epoch: 6 [27500/60000 (45.8%)]\tLoss: 1.640717\n",
      "Train Epoch: 6 [30000/60000 (50.0%)]\tLoss: 1.678578\n",
      "Train Epoch: 6 [32500/60000 (54.2%)]\tLoss: 1.621675\n",
      "Train Epoch: 6 [35000/60000 (58.3%)]\tLoss: 1.737360\n",
      "Train Epoch: 6 [37500/60000 (62.5%)]\tLoss: 1.678965\n",
      "Train Epoch: 6 [40000/60000 (66.7%)]\tLoss: 1.746670\n",
      "Train Epoch: 6 [42500/60000 (70.8%)]\tLoss: 1.694184\n",
      "Train Epoch: 6 [45000/60000 (75.0%)]\tLoss: 1.643230\n",
      "Train Epoch: 6 [47500/60000 (79.2%)]\tLoss: 1.712739\n",
      "Train Epoch: 6 [50000/60000 (83.3%)]\tLoss: 1.717652\n",
      "Train Epoch: 6 [52500/60000 (87.5%)]\tLoss: 1.672071\n",
      "Train Epoch: 6 [55000/60000 (91.7%)]\tLoss: 1.596172\n",
      "Train Epoch: 6 [57500/60000 (95.8%)]\tLoss: 1.664201\n",
      "\n",
      "Test set: Average loss: 1.6773, Accuracy: 7829/10000 (78.3%)\n",
      "\n",
      "Train Epoch: 7 [0/60000 (0.0%)]\tLoss: 1.719663\n",
      "Train Epoch: 7 [2500/60000 (4.2%)]\tLoss: 1.608689\n",
      "Train Epoch: 7 [5000/60000 (8.3%)]\tLoss: 1.622390\n",
      "Train Epoch: 7 [7500/60000 (12.5%)]\tLoss: 1.676607\n",
      "Train Epoch: 7 [10000/60000 (16.7%)]\tLoss: 1.635165\n",
      "Train Epoch: 7 [12500/60000 (20.8%)]\tLoss: 1.695597\n",
      "Train Epoch: 7 [15000/60000 (25.0%)]\tLoss: 1.638111\n",
      "Train Epoch: 7 [17500/60000 (29.2%)]\tLoss: 1.648686\n",
      "Train Epoch: 7 [20000/60000 (33.3%)]\tLoss: 1.664554\n",
      "Train Epoch: 7 [22500/60000 (37.5%)]\tLoss: 1.654968\n",
      "Train Epoch: 7 [25000/60000 (41.7%)]\tLoss: 1.682118\n",
      "Train Epoch: 7 [27500/60000 (45.8%)]\tLoss: 1.676295\n",
      "Train Epoch: 7 [30000/60000 (50.0%)]\tLoss: 1.642376\n",
      "Train Epoch: 7 [32500/60000 (54.2%)]\tLoss: 1.728274\n",
      "Train Epoch: 7 [35000/60000 (58.3%)]\tLoss: 1.703147\n",
      "Train Epoch: 7 [37500/60000 (62.5%)]\tLoss: 1.555216\n",
      "Train Epoch: 7 [40000/60000 (66.7%)]\tLoss: 1.650252\n",
      "Train Epoch: 7 [42500/60000 (70.8%)]\tLoss: 1.532613\n",
      "Train Epoch: 7 [45000/60000 (75.0%)]\tLoss: 1.635622\n",
      "Train Epoch: 7 [47500/60000 (79.2%)]\tLoss: 1.699853\n",
      "Train Epoch: 7 [50000/60000 (83.3%)]\tLoss: 1.680306\n",
      "Train Epoch: 7 [52500/60000 (87.5%)]\tLoss: 1.594094\n",
      "Train Epoch: 7 [55000/60000 (91.7%)]\tLoss: 1.670170\n",
      "Train Epoch: 7 [57500/60000 (95.8%)]\tLoss: 1.579747\n",
      "\n",
      "Test set: Average loss: 1.6746, Accuracy: 7863/10000 (78.6%)\n",
      "\n",
      "Train Epoch: 8 [0/60000 (0.0%)]\tLoss: 1.607123\n",
      "Train Epoch: 8 [2500/60000 (4.2%)]\tLoss: 1.640683\n",
      "Train Epoch: 8 [5000/60000 (8.3%)]\tLoss: 1.722439\n",
      "Train Epoch: 8 [7500/60000 (12.5%)]\tLoss: 1.656565\n",
      "Train Epoch: 8 [10000/60000 (16.7%)]\tLoss: 1.636372\n",
      "Train Epoch: 8 [12500/60000 (20.8%)]\tLoss: 1.665394\n",
      "Train Epoch: 8 [15000/60000 (25.0%)]\tLoss: 1.691284\n",
      "Train Epoch: 8 [17500/60000 (29.2%)]\tLoss: 1.745918\n",
      "Train Epoch: 8 [20000/60000 (33.3%)]\tLoss: 1.653929\n",
      "Train Epoch: 8 [22500/60000 (37.5%)]\tLoss: 1.761349\n",
      "Train Epoch: 8 [25000/60000 (41.7%)]\tLoss: 1.637806\n",
      "Train Epoch: 8 [27500/60000 (45.8%)]\tLoss: 1.724157\n",
      "Train Epoch: 8 [30000/60000 (50.0%)]\tLoss: 1.686500\n",
      "Train Epoch: 8 [32500/60000 (54.2%)]\tLoss: 1.754548\n",
      "Train Epoch: 8 [35000/60000 (58.3%)]\tLoss: 1.686856\n",
      "Train Epoch: 8 [37500/60000 (62.5%)]\tLoss: 1.643343\n",
      "Train Epoch: 8 [40000/60000 (66.7%)]\tLoss: 1.640625\n",
      "Train Epoch: 8 [42500/60000 (70.8%)]\tLoss: 1.630488\n",
      "Train Epoch: 8 [45000/60000 (75.0%)]\tLoss: 1.797846\n",
      "Train Epoch: 8 [47500/60000 (79.2%)]\tLoss: 1.654005\n",
      "Train Epoch: 8 [50000/60000 (83.3%)]\tLoss: 1.561687\n",
      "Train Epoch: 8 [52500/60000 (87.5%)]\tLoss: 1.705599\n",
      "Train Epoch: 8 [55000/60000 (91.7%)]\tLoss: 1.636586\n",
      "Train Epoch: 8 [57500/60000 (95.8%)]\tLoss: 1.660488\n",
      "\n",
      "Test set: Average loss: 1.6737, Accuracy: 7871/10000 (78.7%)\n",
      "\n",
      "Train Epoch: 9 [0/60000 (0.0%)]\tLoss: 1.708221\n",
      "Train Epoch: 9 [2500/60000 (4.2%)]\tLoss: 1.642089\n",
      "Train Epoch: 9 [5000/60000 (8.3%)]\tLoss: 1.672176\n",
      "Train Epoch: 9 [7500/60000 (12.5%)]\tLoss: 1.616895\n",
      "Train Epoch: 9 [10000/60000 (16.7%)]\tLoss: 1.622534\n",
      "Train Epoch: 9 [12500/60000 (20.8%)]\tLoss: 1.650915\n",
      "Train Epoch: 9 [15000/60000 (25.0%)]\tLoss: 1.672729\n",
      "Train Epoch: 9 [17500/60000 (29.2%)]\tLoss: 1.672272\n",
      "Train Epoch: 9 [20000/60000 (33.3%)]\tLoss: 1.624719\n",
      "Train Epoch: 9 [22500/60000 (37.5%)]\tLoss: 1.593652\n",
      "Train Epoch: 9 [25000/60000 (41.7%)]\tLoss: 1.735025\n",
      "Train Epoch: 9 [27500/60000 (45.8%)]\tLoss: 1.674808\n",
      "Train Epoch: 9 [30000/60000 (50.0%)]\tLoss: 1.630134\n",
      "Train Epoch: 9 [32500/60000 (54.2%)]\tLoss: 1.636032\n",
      "Train Epoch: 9 [35000/60000 (58.3%)]\tLoss: 1.668244\n",
      "Train Epoch: 9 [37500/60000 (62.5%)]\tLoss: 1.765199\n",
      "Train Epoch: 9 [40000/60000 (66.7%)]\tLoss: 1.641995\n",
      "Train Epoch: 9 [42500/60000 (70.8%)]\tLoss: 1.680041\n",
      "Train Epoch: 9 [45000/60000 (75.0%)]\tLoss: 1.591026\n",
      "Train Epoch: 9 [47500/60000 (79.2%)]\tLoss: 1.660647\n",
      "Train Epoch: 9 [50000/60000 (83.3%)]\tLoss: 1.707249\n",
      "Train Epoch: 9 [52500/60000 (87.5%)]\tLoss: 1.631441\n",
      "Train Epoch: 9 [55000/60000 (91.7%)]\tLoss: 1.568933\n",
      "Train Epoch: 9 [57500/60000 (95.8%)]\tLoss: 1.706070\n",
      "\n",
      "Test set: Average loss: 1.6731, Accuracy: 7886/10000 (78.9%)\n",
      "\n",
      "Train Epoch: 10 [0/60000 (0.0%)]\tLoss: 1.748945\n",
      "Train Epoch: 10 [2500/60000 (4.2%)]\tLoss: 1.699271\n",
      "Train Epoch: 10 [5000/60000 (8.3%)]\tLoss: 1.605718\n",
      "Train Epoch: 10 [7500/60000 (12.5%)]\tLoss: 1.689770\n",
      "Train Epoch: 10 [10000/60000 (16.7%)]\tLoss: 1.687991\n",
      "Train Epoch: 10 [12500/60000 (20.8%)]\tLoss: 1.726107\n",
      "Train Epoch: 10 [15000/60000 (25.0%)]\tLoss: 1.661159\n",
      "Train Epoch: 10 [17500/60000 (29.2%)]\tLoss: 1.629062\n",
      "Train Epoch: 10 [20000/60000 (33.3%)]\tLoss: 1.644383\n",
      "Train Epoch: 10 [22500/60000 (37.5%)]\tLoss: 1.616826\n",
      "Train Epoch: 10 [25000/60000 (41.7%)]\tLoss: 1.653051\n",
      "Train Epoch: 10 [27500/60000 (45.8%)]\tLoss: 1.638815\n",
      "Train Epoch: 10 [30000/60000 (50.0%)]\tLoss: 1.672185\n",
      "Train Epoch: 10 [32500/60000 (54.2%)]\tLoss: 1.676551\n",
      "Train Epoch: 10 [35000/60000 (58.3%)]\tLoss: 1.757470\n",
      "Train Epoch: 10 [37500/60000 (62.5%)]\tLoss: 1.613714\n",
      "Train Epoch: 10 [40000/60000 (66.7%)]\tLoss: 1.571721\n",
      "Train Epoch: 10 [42500/60000 (70.8%)]\tLoss: 1.660877\n",
      "Train Epoch: 10 [45000/60000 (75.0%)]\tLoss: 1.602737\n",
      "Train Epoch: 10 [47500/60000 (79.2%)]\tLoss: 1.685187\n",
      "Train Epoch: 10 [50000/60000 (83.3%)]\tLoss: 1.620507\n",
      "Train Epoch: 10 [52500/60000 (87.5%)]\tLoss: 1.572670\n",
      "Train Epoch: 10 [55000/60000 (91.7%)]\tLoss: 1.635247\n",
      "Train Epoch: 10 [57500/60000 (95.8%)]\tLoss: 1.737618\n",
      "\n",
      "Test set: Average loss: 1.6713, Accuracy: 7904/10000 (79.0%)\n",
      "\n"
     ]
    }
   ],
   "source": [
    "model = Net().to(device)\n",
    "optimizer = optim.Adadelta(model.parameters(), lr=learning_rate)\n",
    "scheduler = StepLR(optimizer, step_size=1, gamma=gamma)\n",
    "\n",
    "losses = []\n",
    "error_rates = []\n",
    "\n",
    "for epoch in range(1, epochs + 1):\n",
    "    train(model, device, train_loader, optimizer, epoch, log_interval)\n",
    "    (loss, accuracy) = test(model, device, test_loader)\n",
    "    losses.append(loss)\n",
    "    error_rates.append(1 - accuracy)\n",
    "    scheduler.step()"
   ],
   "metadata": {
    "collapsed": false,
    "pycharm": {
     "name": "#%%\n"
    }
   }
  },
  {
   "cell_type": "markdown",
   "source": [
    "Снова построим графики изменения перекрёстной энтропии и error rate с каждой последующей эпохой."
   ],
   "metadata": {
    "collapsed": false,
    "pycharm": {
     "name": "#%% md\n"
    }
   }
  },
  {
   "cell_type": "code",
   "source": [
    "plt.figure(figsize=(9, 10))\n",
    "plt.subplot(211)\n",
    "plt.title('Cross entropy per epoch')\n",
    "plt.xlabel('Epochs')\n",
    "plt.xticks(range(1, epochs + 1))\n",
    "plt.ylabel('Cross entropy')\n",
    "plt.grid(True)\n",
    "plt.plot(range(1, epochs + 1), losses)\n",
    "\n",
    "plt.subplot(212)\n",
    "plt.title('Error rate per epoch')\n",
    "plt.xlabel('Epochs')\n",
    "plt.xticks(range(1, epochs + 1))\n",
    "plt.ylabel('Error rate')\n",
    "plt.grid(True)\n",
    "plt.plot(range(1, epochs + 1), error_rates)\n",
    "\n",
    "plt.show()"
   ],
   "metadata": {
    "collapsed": false,
    "pycharm": {
     "name": "#%%\n"
    }
   },
   "execution_count": 17,
   "outputs": [
    {
     "data": {
      "text/plain": "<Figure size 648x720 with 2 Axes>",
      "image/png": "[encoded data removed]"
     },
     "metadata": {},
     "output_type": "display_data"
    }
   ]
  },
  {
   "cell_type": "markdown",
   "source": [
    "Получаем дискуссионный результат: сеть, показывающая на MNIST ~1% error rate, на Fashion MNIST показывает ~20% error rate.\n",
    "\n",
    "Теперь получим данные для построения матрицы неточностей."
   ],
   "metadata": {
    "collapsed": false,
    "pycharm": {
     "name": "#%% md\n"
    }
   }
  },
  {
   "cell_type": "code",
   "execution_count": 18,
   "outputs": [],
   "source": [
    "true_labels = []\n",
    "predicted_labels = []\n",
    "\n",
    "with torch.no_grad():\n",
    "    for data, target in test_loader:\n",
    "        data, target = data.to(device), target.to(device)\n",
    "        output = model(data)\n",
    "        pred = output.argmax(dim=1, keepdim=True)\n",
    "        true_labels.extend(target.flatten().tolist())\n",
    "        predicted_labels.extend(pred.flatten().tolist())"
   ],
   "metadata": {
    "collapsed": false,
    "pycharm": {
     "name": "#%%\n"
    }
   }
  },
  {
   "cell_type": "markdown",
   "source": [
    "Построим саму матрицу."
   ],
   "metadata": {
    "collapsed": false,
    "pycharm": {
     "name": "#%% md\n"
    }
   }
  },
  {
   "cell_type": "code",
   "execution_count": 30,
   "outputs": [
    {
     "data": {
      "text/plain": "<Figure size 576x396 with 2 Axes>",
      "image/png": "[encoded data removed]"
     },
     "metadata": {},
     "output_type": "display_data"
    }
   ],
   "source": [
    "text_labels = ['T-shirt/top', 'Trouser', 'Pullover', 'Dress', 'Coat', 'Sandal', 'Shirt', 'Sneaker', 'Bag', 'Ankle boot']\n",
    "cm = confusion_matrix(true_labels, predicted_labels)\n",
    "\n",
    "disp = ConfusionMatrixDisplay(confusion_matrix=cm, display_labels=text_labels)\n",
    "disp.plot(cmap='Blues', xticks_rotation='vertical', values_format='d')\n",
    "plt.title('Confusion matrix for Fashion MNIST')\n",
    "plt.grid(False)\n",
    "plt.show()"
   ],
   "metadata": {
    "collapsed": false,
    "pycharm": {
     "name": "#%%\n"
    }
   }
  }
 ],
 "metadata": {
  "kernelspec": {
   "display_name": "Python 3",
   "language": "python",
   "name": "python3"
  },
  "language_info": {
   "codemirror_mode": {
    "name": "ipython",
    "version": 2
   },
   "file_extension": ".py",
   "mimetype": "text/x-python",
   "name": "python",
   "nbconvert_exporter": "python",
   "pygments_lexer": "ipython2",
   "version": "2.7.6"
  }
 },
 "nbformat": 4,
 "nbformat_minor": 0
}