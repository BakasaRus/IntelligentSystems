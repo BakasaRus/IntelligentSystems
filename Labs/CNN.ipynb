{
 "cells": [
  {
   "cell_type": "markdown",
   "source": [
    "# Лабораторная работа 6. Свёрточная сеть\n",
    "\n",
    "## Подготовка\n",
    "\n",
    "Импортируем нужные нам библиотеки и модули."
   ],
   "metadata": {
    "collapsed": false,
    "pycharm": {
     "name": "#%% md\n"
    }
   }
  },
  {
   "cell_type": "code",
   "execution_count": 1,
   "metadata": {
    "collapsed": true
   },
   "outputs": [],
   "source": [
    "import torch\n",
    "import torch.nn as nn\n",
    "import torch.nn.functional as F\n",
    "import torch.optim as optim\n",
    "from torchvision import datasets, transforms\n",
    "from torch.optim.lr_scheduler import StepLR\n",
    "\n",
    "import matplotlib.pyplot as plt\n",
    "plt.style.use('seaborn')"
   ]
  },
  {
   "cell_type": "markdown",
   "source": [
    "## 1. Поиск оптимальной архитектуры\n",
    "\n",
    "После недолгих изысканий была подобрана следующая архитектура, состоящая из трёх блоков \"Свёртка + ReLU + Пулинг\"."
   ],
   "metadata": {
    "collapsed": false,
    "pycharm": {
     "name": "#%% md\n"
    }
   }
  },
  {
   "cell_type": "code",
   "execution_count": 2,
   "outputs": [],
   "source": [
    "class Net(nn.Module):\n",
    "    def __init__(self):\n",
    "        super(Net, self).__init__()\n",
    "        self.conv1 = nn.Conv2d(1, 32, 3, 1)\n",
    "        self.conv2 = nn.Conv2d(32, 64, 5, 1)\n",
    "        self.conv3 = nn.Conv2d(64, 10, 3, 1)\n",
    "\n",
    "    def forward(self, x):\n",
    "        for conv_layer in [self.conv1, self.conv2, self.conv3]:\n",
    "            x = conv_layer(x)\n",
    "            x = F.relu(x)\n",
    "            x = F.max_pool2d(x, 2)\n",
    "        x = torch.flatten(x, 1)\n",
    "        output = F.softmax(x, dim=1)\n",
    "        return output"
   ],
   "metadata": {
    "collapsed": false,
    "pycharm": {
     "name": "#%%\n"
    }
   }
  },
  {
   "cell_type": "markdown",
   "source": [
    "Напишем функцию обучения нейронной сети."
   ],
   "metadata": {
    "collapsed": false,
    "pycharm": {
     "name": "#%% md\n"
    }
   }
  },
  {
   "cell_type": "code",
   "execution_count": 3,
   "outputs": [],
   "source": [
    "def train(model, device, train_loader, optimizer, epoch, log_interval = 10):\n",
    "    model.train()\n",
    "    for batch_idx, (data, target) in enumerate(train_loader):\n",
    "        data, target = data.to(device), target.to(device)\n",
    "        optimizer.zero_grad()\n",
    "        output = model(data)\n",
    "        loss = F.cross_entropy(output, target)\n",
    "        loss.backward()\n",
    "        optimizer.step()\n",
    "\n",
    "        if batch_idx % log_interval == 0:\n",
    "            print('Train Epoch: {} [{}/{} ({:.1%})]\\tLoss: {:.6f}'.format(\n",
    "                epoch, batch_idx * len(data), len(train_loader.dataset),\n",
    "                batch_idx / len(train_loader), loss.item()))"
   ],
   "metadata": {
    "collapsed": false,
    "pycharm": {
     "name": "#%%\n"
    }
   }
  },
  {
   "cell_type": "markdown",
   "source": [
    "Напишем функцию тестирования нейронной сети. Здесь считается среднее функции потерь и точность."
   ],
   "metadata": {
    "collapsed": false,
    "pycharm": {
     "name": "#%% md\n"
    }
   }
  },
  {
   "cell_type": "code",
   "execution_count": 4,
   "outputs": [],
   "source": [
    "def test(model, device, test_loader):\n",
    "    model.eval()\n",
    "    test_loss = 0\n",
    "    correct = 0\n",
    "    with torch.no_grad():\n",
    "        for data, target in test_loader:\n",
    "            data, target = data.to(device), target.to(device)\n",
    "            output = model(data)\n",
    "            test_loss += F.cross_entropy(output, target, reduction='sum').item()  # sum up batch loss\n",
    "            pred = output.argmax(dim=1, keepdim=True)  # get the index of the max log-probability\n",
    "            correct += pred.eq(target.view_as(pred)).sum().item()\n",
    "\n",
    "    test_loss /= len(test_loader.dataset)\n",
    "    accuracy = correct / len(test_loader.dataset)\n",
    "\n",
    "    print('\\nTest set: Average loss: {:.4f}, Accuracy: {}/{} ({:.1%})\\n'.format(\n",
    "        test_loss, correct, len(test_loader.dataset), accuracy))\n",
    "\n",
    "    return test_loss, accuracy"
   ],
   "metadata": {
    "collapsed": false,
    "pycharm": {
     "name": "#%%\n"
    }
   }
  },
  {
   "cell_type": "markdown",
   "source": [
    "Зададим параметры обучения нейронной сети и всякие вспомогательные штуки."
   ],
   "metadata": {
    "collapsed": false,
    "pycharm": {
     "name": "#%% md\n"
    }
   }
  },
  {
   "cell_type": "code",
   "execution_count": 5,
   "outputs": [],
   "source": [
    "batch_size = 50\n",
    "test_batch_size = 500\n",
    "epochs = 10\n",
    "learning_rate = 1.0\n",
    "gamma = 0.7\n",
    "no_cuda = False\n",
    "seed = 1\n",
    "log_interval = 50"
   ],
   "metadata": {
    "collapsed": false,
    "pycharm": {
     "name": "#%%\n"
    }
   }
  },
  {
   "cell_type": "markdown",
   "source": [
    "Определим, где будут происходить вычисления, и загрузим MNIST."
   ],
   "metadata": {
    "collapsed": false,
    "pycharm": {
     "name": "#%% md\n"
    }
   }
  },
  {
   "cell_type": "code",
   "execution_count": 6,
   "outputs": [],
   "source": [
    "use_cuda = not no_cuda and torch.cuda.is_available()\n",
    "torch.manual_seed(seed)\n",
    "device = torch.device(\"cuda\" if use_cuda else \"cpu\")\n",
    "\n",
    "kwargs = {'num_workers': 1, 'pin_memory': True} if use_cuda else {}\n",
    "\n",
    "train_loader = torch.utils.data.DataLoader(\n",
    "    datasets.MNIST('../data', train=True, download=True,\n",
    "                   transform=transforms.Compose([\n",
    "                       transforms.ToTensor(),\n",
    "                       transforms.Normalize((0.1307,), (0.3081,))\n",
    "                   ])),\n",
    "                   batch_size=batch_size,\n",
    "                   shuffle=True, **kwargs)\n",
    "\n",
    "test_loader = torch.utils.data.DataLoader(\n",
    "    datasets.MNIST('../data', train=False,\n",
    "                   transform=transforms.Compose([\n",
    "                       transforms.ToTensor(),\n",
    "                       transforms.Normalize((0.1307,), (0.3081,))\n",
    "                   ])),\n",
    "                   batch_size=test_batch_size,\n",
    "                   shuffle=True, **kwargs)"
   ],
   "metadata": {
    "collapsed": false,
    "pycharm": {
     "name": "#%%\n"
    }
   }
  },
  {
   "cell_type": "markdown",
   "source": [
    "Начнём само обучение. `optimizer` используется непосредственно для вычислений, а `scheduler` - для работы с коэффициентом обучения."
   ],
   "metadata": {
    "collapsed": false,
    "pycharm": {
     "name": "#%% md\n"
    }
   }
  },
  {
   "cell_type": "code",
   "execution_count": 7,
   "outputs": [
    {
     "name": "stdout",
     "output_type": "stream",
     "text": [
      "Train Epoch: 1 [0/60000 (0.0%)]\tLoss: 2.305270\n",
      "Train Epoch: 1 [2500/60000 (4.2%)]\tLoss: 1.923400\n",
      "Train Epoch: 1 [5000/60000 (8.3%)]\tLoss: 1.818574\n",
      "Train Epoch: 1 [7500/60000 (12.5%)]\tLoss: 1.668814\n",
      "Train Epoch: 1 [10000/60000 (16.7%)]\tLoss: 1.716618\n",
      "Train Epoch: 1 [12500/60000 (20.8%)]\tLoss: 1.770349\n",
      "Train Epoch: 1 [15000/60000 (25.0%)]\tLoss: 1.705264\n",
      "Train Epoch: 1 [17500/60000 (29.2%)]\tLoss: 1.750362\n",
      "Train Epoch: 1 [20000/60000 (33.3%)]\tLoss: 1.719816\n",
      "Train Epoch: 1 [22500/60000 (37.5%)]\tLoss: 1.772244\n",
      "Train Epoch: 1 [25000/60000 (41.7%)]\tLoss: 1.715858\n",
      "Train Epoch: 1 [27500/60000 (45.8%)]\tLoss: 1.661509\n",
      "Train Epoch: 1 [30000/60000 (50.0%)]\tLoss: 1.703886\n",
      "Train Epoch: 1 [32500/60000 (54.2%)]\tLoss: 1.677483\n",
      "Train Epoch: 1 [35000/60000 (58.3%)]\tLoss: 1.660676\n",
      "Train Epoch: 1 [37500/60000 (62.5%)]\tLoss: 1.746571\n",
      "Train Epoch: 1 [40000/60000 (66.7%)]\tLoss: 1.727081\n",
      "Train Epoch: 1 [42500/60000 (70.8%)]\tLoss: 1.636485\n",
      "Train Epoch: 1 [45000/60000 (75.0%)]\tLoss: 1.688482\n",
      "Train Epoch: 1 [47500/60000 (79.2%)]\tLoss: 1.665558\n",
      "Train Epoch: 1 [50000/60000 (83.3%)]\tLoss: 1.684869\n",
      "Train Epoch: 1 [52500/60000 (87.5%)]\tLoss: 1.612090\n",
      "Train Epoch: 1 [55000/60000 (91.7%)]\tLoss: 1.699305\n",
      "Train Epoch: 1 [57500/60000 (95.8%)]\tLoss: 1.754825\n",
      "\n",
      "Test set: Average loss: 1.6798, Accuracy: 7796/10000 (78.0%)\n",
      "\n",
      "Train Epoch: 2 [0/60000 (0.0%)]\tLoss: 1.640006\n",
      "Train Epoch: 2 [2500/60000 (4.2%)]\tLoss: 1.659643\n",
      "Train Epoch: 2 [5000/60000 (8.3%)]\tLoss: 1.749068\n",
      "Train Epoch: 2 [7500/60000 (12.5%)]\tLoss: 1.604151\n",
      "Train Epoch: 2 [10000/60000 (16.7%)]\tLoss: 1.493788\n",
      "Train Epoch: 2 [12500/60000 (20.8%)]\tLoss: 1.523511\n",
      "Train Epoch: 2 [15000/60000 (25.0%)]\tLoss: 1.493671\n",
      "Train Epoch: 2 [17500/60000 (29.2%)]\tLoss: 1.505601\n",
      "Train Epoch: 2 [20000/60000 (33.3%)]\tLoss: 1.461989\n",
      "Train Epoch: 2 [22500/60000 (37.5%)]\tLoss: 1.507923\n",
      "Train Epoch: 2 [25000/60000 (41.7%)]\tLoss: 1.478680\n",
      "Train Epoch: 2 [27500/60000 (45.8%)]\tLoss: 1.476165\n",
      "Train Epoch: 2 [30000/60000 (50.0%)]\tLoss: 1.484392\n",
      "Train Epoch: 2 [32500/60000 (54.2%)]\tLoss: 1.519291\n",
      "Train Epoch: 2 [35000/60000 (58.3%)]\tLoss: 1.480274\n",
      "Train Epoch: 2 [37500/60000 (62.5%)]\tLoss: 1.462589\n",
      "Train Epoch: 2 [40000/60000 (66.7%)]\tLoss: 1.483075\n",
      "Train Epoch: 2 [42500/60000 (70.8%)]\tLoss: 1.502105\n",
      "Train Epoch: 2 [45000/60000 (75.0%)]\tLoss: 1.502363\n",
      "Train Epoch: 2 [47500/60000 (79.2%)]\tLoss: 1.540823\n",
      "Train Epoch: 2 [50000/60000 (83.3%)]\tLoss: 1.462733\n",
      "Train Epoch: 2 [52500/60000 (87.5%)]\tLoss: 1.496133\n",
      "Train Epoch: 2 [55000/60000 (91.7%)]\tLoss: 1.461697\n",
      "Train Epoch: 2 [57500/60000 (95.8%)]\tLoss: 1.470908\n",
      "\n",
      "Test set: Average loss: 1.4834, Accuracy: 9791/10000 (97.9%)\n",
      "\n",
      "Train Epoch: 3 [0/60000 (0.0%)]\tLoss: 1.499591\n",
      "Train Epoch: 3 [2500/60000 (4.2%)]\tLoss: 1.462795\n",
      "Train Epoch: 3 [5000/60000 (8.3%)]\tLoss: 1.501082\n",
      "Train Epoch: 3 [7500/60000 (12.5%)]\tLoss: 1.465994\n",
      "Train Epoch: 3 [10000/60000 (16.7%)]\tLoss: 1.480436\n",
      "Train Epoch: 3 [12500/60000 (20.8%)]\tLoss: 1.516863\n",
      "Train Epoch: 3 [15000/60000 (25.0%)]\tLoss: 1.486184\n",
      "Train Epoch: 3 [17500/60000 (29.2%)]\tLoss: 1.521267\n",
      "Train Epoch: 3 [20000/60000 (33.3%)]\tLoss: 1.463733\n",
      "Train Epoch: 3 [22500/60000 (37.5%)]\tLoss: 1.498673\n",
      "Train Epoch: 3 [25000/60000 (41.7%)]\tLoss: 1.498018\n",
      "Train Epoch: 3 [27500/60000 (45.8%)]\tLoss: 1.478092\n",
      "Train Epoch: 3 [30000/60000 (50.0%)]\tLoss: 1.481179\n",
      "Train Epoch: 3 [32500/60000 (54.2%)]\tLoss: 1.466101\n",
      "Train Epoch: 3 [35000/60000 (58.3%)]\tLoss: 1.498343\n",
      "Train Epoch: 3 [37500/60000 (62.5%)]\tLoss: 1.473014\n",
      "Train Epoch: 3 [40000/60000 (66.7%)]\tLoss: 1.461290\n",
      "Train Epoch: 3 [42500/60000 (70.8%)]\tLoss: 1.461187\n",
      "Train Epoch: 3 [45000/60000 (75.0%)]\tLoss: 1.475184\n",
      "Train Epoch: 3 [47500/60000 (79.2%)]\tLoss: 1.499500\n",
      "Train Epoch: 3 [50000/60000 (83.3%)]\tLoss: 1.481429\n",
      "Train Epoch: 3 [52500/60000 (87.5%)]\tLoss: 1.481152\n",
      "Train Epoch: 3 [55000/60000 (91.7%)]\tLoss: 1.475267\n",
      "Train Epoch: 3 [57500/60000 (95.8%)]\tLoss: 1.462535\n",
      "\n",
      "Test set: Average loss: 1.4764, Accuracy: 9862/10000 (98.6%)\n",
      "\n",
      "Train Epoch: 4 [0/60000 (0.0%)]\tLoss: 1.495329\n",
      "Train Epoch: 4 [2500/60000 (4.2%)]\tLoss: 1.483997\n",
      "Train Epoch: 4 [5000/60000 (8.3%)]\tLoss: 1.466395\n",
      "Train Epoch: 4 [7500/60000 (12.5%)]\tLoss: 1.461242\n",
      "Train Epoch: 4 [10000/60000 (16.7%)]\tLoss: 1.461605\n",
      "Train Epoch: 4 [12500/60000 (20.8%)]\tLoss: 1.480834\n",
      "Train Epoch: 4 [15000/60000 (25.0%)]\tLoss: 1.465992\n",
      "Train Epoch: 4 [17500/60000 (29.2%)]\tLoss: 1.469590\n",
      "Train Epoch: 4 [20000/60000 (33.3%)]\tLoss: 1.461774\n",
      "Train Epoch: 4 [22500/60000 (37.5%)]\tLoss: 1.480925\n",
      "Train Epoch: 4 [25000/60000 (41.7%)]\tLoss: 1.481104\n",
      "Train Epoch: 4 [27500/60000 (45.8%)]\tLoss: 1.465026\n",
      "Train Epoch: 4 [30000/60000 (50.0%)]\tLoss: 1.463945\n",
      "Train Epoch: 4 [32500/60000 (54.2%)]\tLoss: 1.461723\n",
      "Train Epoch: 4 [35000/60000 (58.3%)]\tLoss: 1.461237\n",
      "Train Epoch: 4 [37500/60000 (62.5%)]\tLoss: 1.481694\n",
      "Train Epoch: 4 [40000/60000 (66.7%)]\tLoss: 1.492046\n",
      "Train Epoch: 4 [42500/60000 (70.8%)]\tLoss: 1.479003\n",
      "Train Epoch: 4 [45000/60000 (75.0%)]\tLoss: 1.480724\n",
      "Train Epoch: 4 [47500/60000 (79.2%)]\tLoss: 1.484864\n",
      "Train Epoch: 4 [50000/60000 (83.3%)]\tLoss: 1.461932\n",
      "Train Epoch: 4 [52500/60000 (87.5%)]\tLoss: 1.461194\n",
      "Train Epoch: 4 [55000/60000 (91.7%)]\tLoss: 1.463039\n",
      "Train Epoch: 4 [57500/60000 (95.8%)]\tLoss: 1.485244\n",
      "\n",
      "Test set: Average loss: 1.4774, Accuracy: 9846/10000 (98.5%)\n",
      "\n",
      "Train Epoch: 5 [0/60000 (0.0%)]\tLoss: 1.461207\n",
      "Train Epoch: 5 [2500/60000 (4.2%)]\tLoss: 1.470108\n",
      "Train Epoch: 5 [5000/60000 (8.3%)]\tLoss: 1.464278\n",
      "Train Epoch: 5 [7500/60000 (12.5%)]\tLoss: 1.462918\n",
      "Train Epoch: 5 [10000/60000 (16.7%)]\tLoss: 1.467042\n",
      "Train Epoch: 5 [12500/60000 (20.8%)]\tLoss: 1.477018\n",
      "Train Epoch: 5 [15000/60000 (25.0%)]\tLoss: 1.463996\n",
      "Train Epoch: 5 [17500/60000 (29.2%)]\tLoss: 1.482272\n",
      "Train Epoch: 5 [20000/60000 (33.3%)]\tLoss: 1.484039\n",
      "Train Epoch: 5 [22500/60000 (37.5%)]\tLoss: 1.462017\n",
      "Train Epoch: 5 [25000/60000 (41.7%)]\tLoss: 1.461192\n",
      "Train Epoch: 5 [27500/60000 (45.8%)]\tLoss: 1.461169\n",
      "Train Epoch: 5 [30000/60000 (50.0%)]\tLoss: 1.482055\n",
      "Train Epoch: 5 [32500/60000 (54.2%)]\tLoss: 1.468722\n",
      "Train Epoch: 5 [35000/60000 (58.3%)]\tLoss: 1.461276\n",
      "Train Epoch: 5 [37500/60000 (62.5%)]\tLoss: 1.461169\n",
      "Train Epoch: 5 [40000/60000 (66.7%)]\tLoss: 1.474531\n",
      "Train Epoch: 5 [42500/60000 (70.8%)]\tLoss: 1.482642\n",
      "Train Epoch: 5 [45000/60000 (75.0%)]\tLoss: 1.461392\n",
      "Train Epoch: 5 [47500/60000 (79.2%)]\tLoss: 1.479505\n",
      "Train Epoch: 5 [50000/60000 (83.3%)]\tLoss: 1.466839\n",
      "Train Epoch: 5 [52500/60000 (87.5%)]\tLoss: 1.485173\n",
      "Train Epoch: 5 [55000/60000 (91.7%)]\tLoss: 1.463184\n",
      "Train Epoch: 5 [57500/60000 (95.8%)]\tLoss: 1.461568\n",
      "\n",
      "Test set: Average loss: 1.4752, Accuracy: 9867/10000 (98.7%)\n",
      "\n",
      "Train Epoch: 6 [0/60000 (0.0%)]\tLoss: 1.463968\n",
      "Train Epoch: 6 [2500/60000 (4.2%)]\tLoss: 1.465394\n",
      "Train Epoch: 6 [5000/60000 (8.3%)]\tLoss: 1.461333\n",
      "Train Epoch: 6 [7500/60000 (12.5%)]\tLoss: 1.461396\n",
      "Train Epoch: 6 [10000/60000 (16.7%)]\tLoss: 1.461326\n",
      "Train Epoch: 6 [12500/60000 (20.8%)]\tLoss: 1.480645\n",
      "Train Epoch: 6 [15000/60000 (25.0%)]\tLoss: 1.461565\n",
      "Train Epoch: 6 [17500/60000 (29.2%)]\tLoss: 1.461489\n",
      "Train Epoch: 6 [20000/60000 (33.3%)]\tLoss: 1.467877\n",
      "Train Epoch: 6 [22500/60000 (37.5%)]\tLoss: 1.461165\n",
      "Train Epoch: 6 [25000/60000 (41.7%)]\tLoss: 1.480995\n",
      "Train Epoch: 6 [27500/60000 (45.8%)]\tLoss: 1.462485\n",
      "Train Epoch: 6 [30000/60000 (50.0%)]\tLoss: 1.465899\n",
      "Train Epoch: 6 [32500/60000 (54.2%)]\tLoss: 1.461157\n",
      "Train Epoch: 6 [35000/60000 (58.3%)]\tLoss: 1.463187\n",
      "Train Epoch: 6 [37500/60000 (62.5%)]\tLoss: 1.484990\n",
      "Train Epoch: 6 [40000/60000 (66.7%)]\tLoss: 1.500444\n",
      "Train Epoch: 6 [42500/60000 (70.8%)]\tLoss: 1.479563\n",
      "Train Epoch: 6 [45000/60000 (75.0%)]\tLoss: 1.479775\n",
      "Train Epoch: 6 [47500/60000 (79.2%)]\tLoss: 1.466126\n",
      "Train Epoch: 6 [50000/60000 (83.3%)]\tLoss: 1.461368\n",
      "Train Epoch: 6 [52500/60000 (87.5%)]\tLoss: 1.474584\n",
      "Train Epoch: 6 [55000/60000 (91.7%)]\tLoss: 1.463669\n",
      "Train Epoch: 6 [57500/60000 (95.8%)]\tLoss: 1.461623\n",
      "\n",
      "Test set: Average loss: 1.4739, Accuracy: 9888/10000 (98.9%)\n",
      "\n",
      "Train Epoch: 7 [0/60000 (0.0%)]\tLoss: 1.474149\n",
      "Train Epoch: 7 [2500/60000 (4.2%)]\tLoss: 1.461170\n",
      "Train Epoch: 7 [5000/60000 (8.3%)]\tLoss: 1.461191\n",
      "Train Epoch: 7 [7500/60000 (12.5%)]\tLoss: 1.464757\n",
      "Train Epoch: 7 [10000/60000 (16.7%)]\tLoss: 1.461257\n",
      "Train Epoch: 7 [12500/60000 (20.8%)]\tLoss: 1.463524\n",
      "Train Epoch: 7 [15000/60000 (25.0%)]\tLoss: 1.461234\n",
      "Train Epoch: 7 [17500/60000 (29.2%)]\tLoss: 1.461475\n",
      "Train Epoch: 7 [20000/60000 (33.3%)]\tLoss: 1.494971\n",
      "Train Epoch: 7 [22500/60000 (37.5%)]\tLoss: 1.464630\n",
      "Train Epoch: 7 [25000/60000 (41.7%)]\tLoss: 1.461160\n",
      "Train Epoch: 7 [27500/60000 (45.8%)]\tLoss: 1.463688\n",
      "Train Epoch: 7 [30000/60000 (50.0%)]\tLoss: 1.461417\n",
      "Train Epoch: 7 [32500/60000 (54.2%)]\tLoss: 1.461202\n",
      "Train Epoch: 7 [35000/60000 (58.3%)]\tLoss: 1.481736\n",
      "Train Epoch: 7 [37500/60000 (62.5%)]\tLoss: 1.461191\n",
      "Train Epoch: 7 [40000/60000 (66.7%)]\tLoss: 1.481733\n",
      "Train Epoch: 7 [42500/60000 (70.8%)]\tLoss: 1.481384\n",
      "Train Epoch: 7 [45000/60000 (75.0%)]\tLoss: 1.493200\n",
      "Train Epoch: 7 [47500/60000 (79.2%)]\tLoss: 1.490884\n",
      "Train Epoch: 7 [50000/60000 (83.3%)]\tLoss: 1.501268\n",
      "Train Epoch: 7 [52500/60000 (87.5%)]\tLoss: 1.464735\n",
      "Train Epoch: 7 [55000/60000 (91.7%)]\tLoss: 1.464670\n",
      "Train Epoch: 7 [57500/60000 (95.8%)]\tLoss: 1.465918\n",
      "\n",
      "Test set: Average loss: 1.4742, Accuracy: 9872/10000 (98.7%)\n",
      "\n",
      "Train Epoch: 8 [0/60000 (0.0%)]\tLoss: 1.461611\n",
      "Train Epoch: 8 [2500/60000 (4.2%)]\tLoss: 1.462394\n",
      "Train Epoch: 8 [5000/60000 (8.3%)]\tLoss: 1.461195\n",
      "Train Epoch: 8 [7500/60000 (12.5%)]\tLoss: 1.461999\n",
      "Train Epoch: 8 [10000/60000 (16.7%)]\tLoss: 1.461257\n",
      "Train Epoch: 8 [12500/60000 (20.8%)]\tLoss: 1.505006\n",
      "Train Epoch: 8 [15000/60000 (25.0%)]\tLoss: 1.461164\n",
      "Train Epoch: 8 [17500/60000 (29.2%)]\tLoss: 1.462306\n",
      "Train Epoch: 8 [20000/60000 (33.3%)]\tLoss: 1.462257\n",
      "Train Epoch: 8 [22500/60000 (37.5%)]\tLoss: 1.461176\n",
      "Train Epoch: 8 [25000/60000 (41.7%)]\tLoss: 1.461572\n",
      "Train Epoch: 8 [27500/60000 (45.8%)]\tLoss: 1.461802\n",
      "Train Epoch: 8 [30000/60000 (50.0%)]\tLoss: 1.491810\n",
      "Train Epoch: 8 [32500/60000 (54.2%)]\tLoss: 1.461154\n",
      "Train Epoch: 8 [35000/60000 (58.3%)]\tLoss: 1.462311\n",
      "Train Epoch: 8 [37500/60000 (62.5%)]\tLoss: 1.480728\n",
      "Train Epoch: 8 [40000/60000 (66.7%)]\tLoss: 1.461719\n",
      "Train Epoch: 8 [42500/60000 (70.8%)]\tLoss: 1.482076\n",
      "Train Epoch: 8 [45000/60000 (75.0%)]\tLoss: 1.461851\n",
      "Train Epoch: 8 [47500/60000 (79.2%)]\tLoss: 1.488893\n",
      "Train Epoch: 8 [50000/60000 (83.3%)]\tLoss: 1.462585\n",
      "Train Epoch: 8 [52500/60000 (87.5%)]\tLoss: 1.461225\n",
      "Train Epoch: 8 [55000/60000 (91.7%)]\tLoss: 1.461243\n",
      "Train Epoch: 8 [57500/60000 (95.8%)]\tLoss: 1.461218\n",
      "\n",
      "Test set: Average loss: 1.4735, Accuracy: 9886/10000 (98.9%)\n",
      "\n",
      "Train Epoch: 9 [0/60000 (0.0%)]\tLoss: 1.461421\n",
      "Train Epoch: 9 [2500/60000 (4.2%)]\tLoss: 1.461154\n",
      "Train Epoch: 9 [5000/60000 (8.3%)]\tLoss: 1.481885\n",
      "Train Epoch: 9 [7500/60000 (12.5%)]\tLoss: 1.461635\n",
      "Train Epoch: 9 [10000/60000 (16.7%)]\tLoss: 1.464452\n",
      "Train Epoch: 9 [12500/60000 (20.8%)]\tLoss: 1.465790\n",
      "Train Epoch: 9 [15000/60000 (25.0%)]\tLoss: 1.485288\n",
      "Train Epoch: 9 [17500/60000 (29.2%)]\tLoss: 1.493587\n",
      "Train Epoch: 9 [20000/60000 (33.3%)]\tLoss: 1.481739\n",
      "Train Epoch: 9 [22500/60000 (37.5%)]\tLoss: 1.496002\n",
      "Train Epoch: 9 [25000/60000 (41.7%)]\tLoss: 1.461646\n",
      "Train Epoch: 9 [27500/60000 (45.8%)]\tLoss: 1.463050\n",
      "Train Epoch: 9 [30000/60000 (50.0%)]\tLoss: 1.461297\n",
      "Train Epoch: 9 [32500/60000 (54.2%)]\tLoss: 1.462378\n",
      "Train Epoch: 9 [35000/60000 (58.3%)]\tLoss: 1.500860\n",
      "Train Epoch: 9 [37500/60000 (62.5%)]\tLoss: 1.461560\n",
      "Train Epoch: 9 [40000/60000 (66.7%)]\tLoss: 1.461160\n",
      "Train Epoch: 9 [42500/60000 (70.8%)]\tLoss: 1.461156\n",
      "Train Epoch: 9 [45000/60000 (75.0%)]\tLoss: 1.474792\n",
      "Train Epoch: 9 [47500/60000 (79.2%)]\tLoss: 1.462004\n",
      "Train Epoch: 9 [50000/60000 (83.3%)]\tLoss: 1.461488\n",
      "Train Epoch: 9 [52500/60000 (87.5%)]\tLoss: 1.480466\n",
      "Train Epoch: 9 [55000/60000 (91.7%)]\tLoss: 1.461266\n",
      "Train Epoch: 9 [57500/60000 (95.8%)]\tLoss: 1.481753\n",
      "\n",
      "Test set: Average loss: 1.4738, Accuracy: 9881/10000 (98.8%)\n",
      "\n",
      "Train Epoch: 10 [0/60000 (0.0%)]\tLoss: 1.461209\n",
      "Train Epoch: 10 [2500/60000 (4.2%)]\tLoss: 1.463400\n",
      "Train Epoch: 10 [5000/60000 (8.3%)]\tLoss: 1.461905\n",
      "Train Epoch: 10 [7500/60000 (12.5%)]\tLoss: 1.481771\n",
      "Train Epoch: 10 [10000/60000 (16.7%)]\tLoss: 1.463125\n",
      "Train Epoch: 10 [12500/60000 (20.8%)]\tLoss: 1.516281\n",
      "Train Epoch: 10 [15000/60000 (25.0%)]\tLoss: 1.481151\n",
      "Train Epoch: 10 [17500/60000 (29.2%)]\tLoss: 1.461284\n",
      "Train Epoch: 10 [20000/60000 (33.3%)]\tLoss: 1.461242\n",
      "Train Epoch: 10 [22500/60000 (37.5%)]\tLoss: 1.468108\n",
      "Train Epoch: 10 [25000/60000 (41.7%)]\tLoss: 1.461311\n",
      "Train Epoch: 10 [27500/60000 (45.8%)]\tLoss: 1.462619\n",
      "Train Epoch: 10 [30000/60000 (50.0%)]\tLoss: 1.461434\n",
      "Train Epoch: 10 [32500/60000 (54.2%)]\tLoss: 1.462047\n",
      "Train Epoch: 10 [35000/60000 (58.3%)]\tLoss: 1.481142\n",
      "Train Epoch: 10 [37500/60000 (62.5%)]\tLoss: 1.466282\n",
      "Train Epoch: 10 [40000/60000 (66.7%)]\tLoss: 1.461330\n",
      "Train Epoch: 10 [42500/60000 (70.8%)]\tLoss: 1.481544\n",
      "Train Epoch: 10 [45000/60000 (75.0%)]\tLoss: 1.463074\n",
      "Train Epoch: 10 [47500/60000 (79.2%)]\tLoss: 1.461170\n",
      "Train Epoch: 10 [50000/60000 (83.3%)]\tLoss: 1.461221\n",
      "Train Epoch: 10 [52500/60000 (87.5%)]\tLoss: 1.463076\n",
      "Train Epoch: 10 [55000/60000 (91.7%)]\tLoss: 1.480551\n",
      "Train Epoch: 10 [57500/60000 (95.8%)]\tLoss: 1.461157\n",
      "\n",
      "Test set: Average loss: 1.4737, Accuracy: 9886/10000 (98.9%)\n",
      "\n"
     ]
    }
   ],
   "source": [
    "model = Net().to(device)\n",
    "optimizer = optim.Adadelta(model.parameters(), lr=learning_rate)\n",
    "scheduler = StepLR(optimizer, step_size=1, gamma=gamma)\n",
    "\n",
    "losses = []\n",
    "error_rates = []\n",
    "\n",
    "for epoch in range(1, epochs + 1):\n",
    "    train(model, device, train_loader, optimizer, epoch, log_interval)\n",
    "    (loss, accuracy) = test(model, device, test_loader)\n",
    "    losses.append(loss)\n",
    "    error_rates.append(1 - accuracy)\n",
    "    scheduler.step()"
   ],
   "metadata": {
    "collapsed": false,
    "pycharm": {
     "name": "#%%\n"
    }
   }
  },
  {
   "cell_type": "markdown",
   "source": [
    "Построим графики изменения перекрёстной энтропии и error rate с каждой последующей эпохой."
   ],
   "metadata": {
    "collapsed": false,
    "pycharm": {
     "name": "#%% md\n"
    }
   }
  },
  {
   "cell_type": "code",
   "execution_count": 12,
   "outputs": [
    {
     "data": {
      "text/plain": "<Figure size 648x720 with 2 Axes>",
      "image/png": "[encoded data removed]"
     },
     "metadata": {},
     "output_type": "display_data"
    }
   ],
   "source": [
    "plt.figure(figsize=(9, 10))\n",
    "plt.subplot(211)\n",
    "plt.title('Cross entropy per epoch')\n",
    "plt.xlabel('Epochs')\n",
    "plt.xticks(range(1, epochs + 1))\n",
    "plt.ylabel('Cross entropy')\n",
    "plt.grid(True)\n",
    "plt.plot(range(1, epochs + 1), losses)\n",
    "\n",
    "plt.subplot(212)\n",
    "plt.title('Error rate per epoch')\n",
    "plt.xlabel('Epochs')\n",
    "plt.xticks(range(1, epochs + 1))\n",
    "plt.ylabel('Error rate')\n",
    "plt.grid(True)\n",
    "plt.plot(range(1, epochs + 1), error_rates)\n",
    "\n",
    "plt.show()"
   ],
   "metadata": {
    "collapsed": false,
    "pycharm": {
     "name": "#%%\n"
    }
   }
  },
  {
   "cell_type": "markdown",
   "source": [
    "Как мы видим, error rate с выбранной архитектурой и параметрами обучения держится на уровне ~1%, что весьма неплохо.\n",
    "\n",
    "## 2. Обучение и тестирование\n",
    "\n",
    "Загрузим Fashion MNIST."
   ],
   "metadata": {
    "collapsed": false,
    "pycharm": {
     "name": "#%% md\n"
    }
   }
  },
  {
   "cell_type": "code",
   "execution_count": 13,
   "outputs": [
    {
     "name": "stdout",
     "output_type": "stream",
     "text": [
      "Downloading http://fashion-mnist.s3-website.eu-central-1.amazonaws.com/train-images-idx3-ubyte.gz to ../data/FashionMNIST/raw/train-images-idx3-ubyte.gz\n",
      "Extracting ../data/FashionMNIST/raw/train-images-idx3-ubyte.gz to ../data/FashionMNIST/raw\n",
      "Downloading http://fashion-mnist.s3-website.eu-central-1.amazonaws.com/train-labels-idx1-ubyte.gz to ../data/FashionMNIST/raw/train-labels-idx1-ubyte.gz\n",
      "Extracting ../data/FashionMNIST/raw/train-labels-idx1-ubyte.gz to ../data/FashionMNIST/raw\n",
      "Downloading http://fashion-mnist.s3-website.eu-central-1.amazonaws.com/t10k-images-idx3-ubyte.gz to ../data/FashionMNIST/raw/t10k-images-idx3-ubyte.gz\n",
      "Extracting ../data/FashionMNIST/raw/t10k-images-idx3-ubyte.gz to ../data/FashionMNIST/raw\n",
      "Downloading http://fashion-mnist.s3-website.eu-central-1.amazonaws.com/t10k-labels-idx1-ubyte.gz to ../data/FashionMNIST/raw/t10k-labels-idx1-ubyte.gz\n",
      "Extracting ../data/FashionMNIST/raw/t10k-labels-idx1-ubyte.gz to ../data/FashionMNIST/raw\n",
      "Processing...\n",
      "Done!\n"
     ]
    },
    {
     "name": "stderr",
     "output_type": "stream",
     "text": [
      "159.1%"
     ]
    }
   ],
   "source": [
    "train_loader = torch.utils.data.DataLoader(\n",
    "    datasets.FashionMNIST('../data', train=True, download=True,\n",
    "                          transform=transforms.Compose([\n",
    "                       transforms.ToTensor(),\n",
    "                       transforms.Normalize((0.1307,), (0.3081,))\n",
    "                   ])),\n",
    "                          batch_size=batch_size,\n",
    "                          shuffle=True, **kwargs)\n",
    "\n",
    "test_loader = torch.utils.data.DataLoader(\n",
    "    datasets.FashionMNIST('../data', train=False,\n",
    "                          transform=transforms.Compose([\n",
    "                               transforms.ToTensor(),\n",
    "                               transforms.Normalize((0.1307,), (0.3081,))\n",
    "                          ])),\n",
    "                          batch_size=test_batch_size,\n",
    "                          shuffle=True, **kwargs)"
   ],
   "metadata": {
    "collapsed": false,
    "pycharm": {
     "name": "#%%\n"
    }
   }
  },
  {
   "cell_type": "markdown",
   "source": [
    "Обучим и протестируем нашу сеть на новом датасете."
   ],
   "metadata": {
    "collapsed": false,
    "pycharm": {
     "name": "#%% md\n"
    }
   }
  },
  {
   "cell_type": "code",
   "execution_count": 14,
   "outputs": [
    {
     "name": "stdout",
     "output_type": "stream",
     "text": [
      "Train Epoch: 1 [0/60000 (0.0%)]\tLoss: 2.433261\n",
      "Train Epoch: 1 [2500/60000 (4.2%)]\tLoss: 2.310861\n",
      "Train Epoch: 1 [5000/60000 (8.3%)]\tLoss: 2.221374\n",
      "Train Epoch: 1 [7500/60000 (12.5%)]\tLoss: 2.184406\n",
      "Train Epoch: 1 [10000/60000 (16.7%)]\tLoss: 2.195685\n",
      "Train Epoch: 1 [12500/60000 (20.8%)]\tLoss: 1.975346\n",
      "Train Epoch: 1 [15000/60000 (25.0%)]\tLoss: 2.081876\n",
      "Train Epoch: 1 [17500/60000 (29.2%)]\tLoss: 2.157145\n",
      "Train Epoch: 1 [20000/60000 (33.3%)]\tLoss: 2.103413\n",
      "Train Epoch: 1 [22500/60000 (37.5%)]\tLoss: 2.155083\n",
      "Train Epoch: 1 [25000/60000 (41.7%)]\tLoss: 2.083693\n",
      "Train Epoch: 1 [27500/60000 (45.8%)]\tLoss: 1.941652\n",
      "Train Epoch: 1 [30000/60000 (50.0%)]\tLoss: 1.912902\n",
      "Train Epoch: 1 [32500/60000 (54.2%)]\tLoss: 1.897937\n",
      "Train Epoch: 1 [35000/60000 (58.3%)]\tLoss: 2.021641\n",
      "Train Epoch: 1 [37500/60000 (62.5%)]\tLoss: 2.014255\n",
      "Train Epoch: 1 [40000/60000 (66.7%)]\tLoss: 1.957653\n",
      "Train Epoch: 1 [42500/60000 (70.8%)]\tLoss: 1.901337\n",
      "Train Epoch: 1 [45000/60000 (75.0%)]\tLoss: 2.098510\n",
      "Train Epoch: 1 [47500/60000 (79.2%)]\tLoss: 2.000198\n",
      "Train Epoch: 1 [50000/60000 (83.3%)]\tLoss: 2.070582\n",
      "Train Epoch: 1 [52500/60000 (87.5%)]\tLoss: 2.064372\n",
      "Train Epoch: 1 [55000/60000 (91.7%)]\tLoss: 2.008793\n",
      "Train Epoch: 1 [57500/60000 (95.8%)]\tLoss: 2.013025\n",
      "\n",
      "Test set: Average loss: 1.9693, Accuracy: 4843/10000 (48.4%)\n",
      "\n",
      "Train Epoch: 2 [0/60000 (0.0%)]\tLoss: 1.975798\n",
      "Train Epoch: 2 [2500/60000 (4.2%)]\tLoss: 1.986752\n",
      "Train Epoch: 2 [5000/60000 (8.3%)]\tLoss: 2.029224\n",
      "Train Epoch: 2 [7500/60000 (12.5%)]\tLoss: 1.869615\n",
      "Train Epoch: 2 [10000/60000 (16.7%)]\tLoss: 1.902046\n",
      "Train Epoch: 2 [12500/60000 (20.8%)]\tLoss: 1.920749\n",
      "Train Epoch: 2 [15000/60000 (25.0%)]\tLoss: 1.816487\n",
      "Train Epoch: 2 [17500/60000 (29.2%)]\tLoss: 1.947424\n",
      "Train Epoch: 2 [20000/60000 (33.3%)]\tLoss: 1.954729\n",
      "Train Epoch: 2 [22500/60000 (37.5%)]\tLoss: 1.954182\n",
      "Train Epoch: 2 [25000/60000 (41.7%)]\tLoss: 1.945763\n",
      "Train Epoch: 2 [27500/60000 (45.8%)]\tLoss: 1.858813\n",
      "Train Epoch: 2 [30000/60000 (50.0%)]\tLoss: 1.899046\n",
      "Train Epoch: 2 [32500/60000 (54.2%)]\tLoss: 1.883404\n",
      "Train Epoch: 2 [35000/60000 (58.3%)]\tLoss: 1.910325\n",
      "Train Epoch: 2 [37500/60000 (62.5%)]\tLoss: 1.976401\n",
      "Train Epoch: 2 [40000/60000 (66.7%)]\tLoss: 1.932662\n",
      "Train Epoch: 2 [42500/60000 (70.8%)]\tLoss: 1.974842\n",
      "Train Epoch: 2 [45000/60000 (75.0%)]\tLoss: 1.898968\n",
      "Train Epoch: 2 [47500/60000 (79.2%)]\tLoss: 1.973866\n",
      "Train Epoch: 2 [50000/60000 (83.3%)]\tLoss: 1.869013\n",
      "Train Epoch: 2 [52500/60000 (87.5%)]\tLoss: 1.812085\n",
      "Train Epoch: 2 [55000/60000 (91.7%)]\tLoss: 1.842535\n",
      "Train Epoch: 2 [57500/60000 (95.8%)]\tLoss: 1.833584\n",
      "\n",
      "Test set: Average loss: 1.8957, Accuracy: 5598/10000 (56.0%)\n",
      "\n",
      "Train Epoch: 3 [0/60000 (0.0%)]\tLoss: 1.748930\n",
      "Train Epoch: 3 [2500/60000 (4.2%)]\tLoss: 1.929894\n",
      "Train Epoch: 3 [5000/60000 (8.3%)]\tLoss: 1.827144\n",
      "Train Epoch: 3 [7500/60000 (12.5%)]\tLoss: 1.830190\n",
      "Train Epoch: 3 [10000/60000 (16.7%)]\tLoss: 1.814667\n",
      "Train Epoch: 3 [12500/60000 (20.8%)]\tLoss: 1.801843\n",
      "Train Epoch: 3 [15000/60000 (25.0%)]\tLoss: 1.996941\n",
      "Train Epoch: 3 [17500/60000 (29.2%)]\tLoss: 1.845842\n",
      "Train Epoch: 3 [20000/60000 (33.3%)]\tLoss: 1.907955\n",
      "Train Epoch: 3 [22500/60000 (37.5%)]\tLoss: 1.907518\n",
      "Train Epoch: 3 [25000/60000 (41.7%)]\tLoss: 1.922528\n",
      "Train Epoch: 3 [27500/60000 (45.8%)]\tLoss: 1.955396\n",
      "Train Epoch: 3 [30000/60000 (50.0%)]\tLoss: 1.907519\n",
      "Train Epoch: 3 [32500/60000 (54.2%)]\tLoss: 1.925992\n",
      "Train Epoch: 3 [35000/60000 (58.3%)]\tLoss: 1.831306\n",
      "Train Epoch: 3 [37500/60000 (62.5%)]\tLoss: 1.921446\n",
      "Train Epoch: 3 [40000/60000 (66.7%)]\tLoss: 1.937634\n",
      "Train Epoch: 3 [42500/60000 (70.8%)]\tLoss: 1.856232\n",
      "Train Epoch: 3 [45000/60000 (75.0%)]\tLoss: 1.869940\n",
      "Train Epoch: 3 [47500/60000 (79.2%)]\tLoss: 1.852701\n",
      "Train Epoch: 3 [50000/60000 (83.3%)]\tLoss: 1.766176\n",
      "Train Epoch: 3 [52500/60000 (87.5%)]\tLoss: 1.819069\n",
      "Train Epoch: 3 [55000/60000 (91.7%)]\tLoss: 1.926081\n",
      "Train Epoch: 3 [57500/60000 (95.8%)]\tLoss: 1.923876\n",
      "\n",
      "Test set: Average loss: 1.8815, Accuracy: 5706/10000 (57.1%)\n",
      "\n",
      "Train Epoch: 4 [0/60000 (0.0%)]\tLoss: 1.895031\n",
      "Train Epoch: 4 [2500/60000 (4.2%)]\tLoss: 2.029645\n",
      "Train Epoch: 4 [5000/60000 (8.3%)]\tLoss: 1.934060\n",
      "Train Epoch: 4 [7500/60000 (12.5%)]\tLoss: 1.772264\n",
      "Train Epoch: 4 [10000/60000 (16.7%)]\tLoss: 1.913299\n",
      "Train Epoch: 4 [12500/60000 (20.8%)]\tLoss: 1.895900\n",
      "Train Epoch: 4 [15000/60000 (25.0%)]\tLoss: 1.906964\n",
      "Train Epoch: 4 [17500/60000 (29.2%)]\tLoss: 1.858954\n",
      "Train Epoch: 4 [20000/60000 (33.3%)]\tLoss: 1.842312\n",
      "Train Epoch: 4 [22500/60000 (37.5%)]\tLoss: 1.768740\n",
      "Train Epoch: 4 [25000/60000 (41.7%)]\tLoss: 1.839939\n",
      "Train Epoch: 4 [27500/60000 (45.8%)]\tLoss: 1.808082\n",
      "Train Epoch: 4 [30000/60000 (50.0%)]\tLoss: 1.890530\n",
      "Train Epoch: 4 [32500/60000 (54.2%)]\tLoss: 1.869611\n",
      "Train Epoch: 4 [35000/60000 (58.3%)]\tLoss: 1.827823\n",
      "Train Epoch: 4 [37500/60000 (62.5%)]\tLoss: 1.847921\n",
      "Train Epoch: 4 [40000/60000 (66.7%)]\tLoss: 1.915121\n",
      "Train Epoch: 4 [42500/60000 (70.8%)]\tLoss: 1.760565\n",
      "Train Epoch: 4 [45000/60000 (75.0%)]\tLoss: 1.934566\n",
      "Train Epoch: 4 [47500/60000 (79.2%)]\tLoss: 1.846810\n",
      "Train Epoch: 4 [50000/60000 (83.3%)]\tLoss: 1.869421\n",
      "Train Epoch: 4 [52500/60000 (87.5%)]\tLoss: 1.890925\n",
      "Train Epoch: 4 [55000/60000 (91.7%)]\tLoss: 1.923924\n",
      "Train Epoch: 4 [57500/60000 (95.8%)]\tLoss: 1.851537\n",
      "\n",
      "Test set: Average loss: 1.8737, Accuracy: 5784/10000 (57.8%)\n",
      "\n",
      "Train Epoch: 5 [0/60000 (0.0%)]\tLoss: 1.849054\n",
      "Train Epoch: 5 [2500/60000 (4.2%)]\tLoss: 1.846663\n",
      "Train Epoch: 5 [5000/60000 (8.3%)]\tLoss: 1.795429\n",
      "Train Epoch: 5 [7500/60000 (12.5%)]\tLoss: 1.940167\n",
      "Train Epoch: 5 [10000/60000 (16.7%)]\tLoss: 1.926173\n",
      "Train Epoch: 5 [12500/60000 (20.8%)]\tLoss: 1.914963\n",
      "Train Epoch: 5 [15000/60000 (25.0%)]\tLoss: 1.911394\n",
      "Train Epoch: 5 [17500/60000 (29.2%)]\tLoss: 1.799669\n",
      "Train Epoch: 5 [20000/60000 (33.3%)]\tLoss: 1.990988\n",
      "Train Epoch: 5 [22500/60000 (37.5%)]\tLoss: 1.872092\n",
      "Train Epoch: 5 [25000/60000 (41.7%)]\tLoss: 1.891271\n",
      "Train Epoch: 5 [27500/60000 (45.8%)]\tLoss: 1.928721\n",
      "Train Epoch: 5 [30000/60000 (50.0%)]\tLoss: 1.849872\n",
      "Train Epoch: 5 [32500/60000 (54.2%)]\tLoss: 1.768278\n",
      "Train Epoch: 5 [35000/60000 (58.3%)]\tLoss: 1.881650\n",
      "Train Epoch: 5 [37500/60000 (62.5%)]\tLoss: 1.800930\n",
      "Train Epoch: 5 [40000/60000 (66.7%)]\tLoss: 1.898677\n",
      "Train Epoch: 5 [42500/60000 (70.8%)]\tLoss: 1.847929\n",
      "Train Epoch: 5 [45000/60000 (75.0%)]\tLoss: 1.908423\n",
      "Train Epoch: 5 [47500/60000 (79.2%)]\tLoss: 1.831617\n",
      "Train Epoch: 5 [50000/60000 (83.3%)]\tLoss: 1.749716\n",
      "Train Epoch: 5 [52500/60000 (87.5%)]\tLoss: 1.892931\n",
      "Train Epoch: 5 [55000/60000 (91.7%)]\tLoss: 1.899022\n",
      "Train Epoch: 5 [57500/60000 (95.8%)]\tLoss: 1.926814\n",
      "\n",
      "Test set: Average loss: 1.8700, Accuracy: 5816/10000 (58.2%)\n",
      "\n",
      "Train Epoch: 6 [0/60000 (0.0%)]\tLoss: 1.906619\n",
      "Train Epoch: 6 [2500/60000 (4.2%)]\tLoss: 1.971497\n",
      "Train Epoch: 6 [5000/60000 (8.3%)]\tLoss: 1.906227\n",
      "Train Epoch: 6 [7500/60000 (12.5%)]\tLoss: 1.917779\n",
      "Train Epoch: 6 [10000/60000 (16.7%)]\tLoss: 1.910887\n",
      "Train Epoch: 6 [12500/60000 (20.8%)]\tLoss: 1.717731\n",
      "Train Epoch: 6 [15000/60000 (25.0%)]\tLoss: 1.928094\n",
      "Train Epoch: 6 [17500/60000 (29.2%)]\tLoss: 1.825704\n",
      "Train Epoch: 6 [20000/60000 (33.3%)]\tLoss: 1.804189\n",
      "Train Epoch: 6 [22500/60000 (37.5%)]\tLoss: 1.903545\n",
      "Train Epoch: 6 [25000/60000 (41.7%)]\tLoss: 1.836068\n",
      "Train Epoch: 6 [27500/60000 (45.8%)]\tLoss: 1.909873\n",
      "Train Epoch: 6 [30000/60000 (50.0%)]\tLoss: 1.927192\n",
      "Train Epoch: 6 [32500/60000 (54.2%)]\tLoss: 1.864588\n",
      "Train Epoch: 6 [35000/60000 (58.3%)]\tLoss: 1.899506\n",
      "Train Epoch: 6 [37500/60000 (62.5%)]\tLoss: 1.990241\n",
      "Train Epoch: 6 [40000/60000 (66.7%)]\tLoss: 1.922966\n",
      "Train Epoch: 6 [42500/60000 (70.8%)]\tLoss: 1.775577\n",
      "Train Epoch: 6 [45000/60000 (75.0%)]\tLoss: 1.839924\n",
      "Train Epoch: 6 [47500/60000 (79.2%)]\tLoss: 1.963630\n",
      "Train Epoch: 6 [50000/60000 (83.3%)]\tLoss: 1.868495\n",
      "Train Epoch: 6 [52500/60000 (87.5%)]\tLoss: 1.859372\n",
      "Train Epoch: 6 [55000/60000 (91.7%)]\tLoss: 1.890664\n",
      "Train Epoch: 6 [57500/60000 (95.8%)]\tLoss: 1.814378\n",
      "\n",
      "Test set: Average loss: 1.8672, Accuracy: 5839/10000 (58.4%)\n",
      "\n",
      "Train Epoch: 7 [0/60000 (0.0%)]\tLoss: 1.869016\n",
      "Train Epoch: 7 [2500/60000 (4.2%)]\tLoss: 1.949051\n",
      "Train Epoch: 7 [5000/60000 (8.3%)]\tLoss: 1.931876\n",
      "Train Epoch: 7 [7500/60000 (12.5%)]\tLoss: 1.830485\n",
      "Train Epoch: 7 [10000/60000 (16.7%)]\tLoss: 1.838026\n",
      "Train Epoch: 7 [12500/60000 (20.8%)]\tLoss: 1.948817\n",
      "Train Epoch: 7 [15000/60000 (25.0%)]\tLoss: 1.906435\n",
      "Train Epoch: 7 [17500/60000 (29.2%)]\tLoss: 1.834761\n",
      "Train Epoch: 7 [20000/60000 (33.3%)]\tLoss: 1.837529\n",
      "Train Epoch: 7 [22500/60000 (37.5%)]\tLoss: 1.995440\n",
      "Train Epoch: 7 [25000/60000 (41.7%)]\tLoss: 1.968805\n",
      "Train Epoch: 7 [27500/60000 (45.8%)]\tLoss: 1.946711\n",
      "Train Epoch: 7 [30000/60000 (50.0%)]\tLoss: 1.841751\n",
      "Train Epoch: 7 [32500/60000 (54.2%)]\tLoss: 1.883056\n",
      "Train Epoch: 7 [35000/60000 (58.3%)]\tLoss: 1.688603\n",
      "Train Epoch: 7 [37500/60000 (62.5%)]\tLoss: 1.877328\n",
      "Train Epoch: 7 [40000/60000 (66.7%)]\tLoss: 1.867987\n",
      "Train Epoch: 7 [42500/60000 (70.8%)]\tLoss: 1.733967\n",
      "Train Epoch: 7 [45000/60000 (75.0%)]\tLoss: 1.836740\n",
      "Train Epoch: 7 [47500/60000 (79.2%)]\tLoss: 1.888751\n",
      "Train Epoch: 7 [50000/60000 (83.3%)]\tLoss: 1.882442\n",
      "Train Epoch: 7 [52500/60000 (87.5%)]\tLoss: 1.775920\n",
      "Train Epoch: 7 [55000/60000 (91.7%)]\tLoss: 1.747196\n",
      "Train Epoch: 7 [57500/60000 (95.8%)]\tLoss: 1.821448\n",
      "\n",
      "Test set: Average loss: 1.8656, Accuracy: 5852/10000 (58.5%)\n",
      "\n",
      "Train Epoch: 8 [0/60000 (0.0%)]\tLoss: 1.894422\n",
      "Train Epoch: 8 [2500/60000 (4.2%)]\tLoss: 1.870072\n",
      "Train Epoch: 8 [5000/60000 (8.3%)]\tLoss: 1.867554\n",
      "Train Epoch: 8 [7500/60000 (12.5%)]\tLoss: 1.866117\n",
      "Train Epoch: 8 [10000/60000 (16.7%)]\tLoss: 1.824277\n",
      "Train Epoch: 8 [12500/60000 (20.8%)]\tLoss: 1.843459\n",
      "Train Epoch: 8 [15000/60000 (25.0%)]\tLoss: 1.826010\n",
      "Train Epoch: 8 [17500/60000 (29.2%)]\tLoss: 1.851149\n",
      "Train Epoch: 8 [20000/60000 (33.3%)]\tLoss: 1.831872\n",
      "Train Epoch: 8 [22500/60000 (37.5%)]\tLoss: 1.963546\n",
      "Train Epoch: 8 [25000/60000 (41.7%)]\tLoss: 1.812162\n",
      "Train Epoch: 8 [27500/60000 (45.8%)]\tLoss: 1.902047\n",
      "Train Epoch: 8 [30000/60000 (50.0%)]\tLoss: 1.908387\n",
      "Train Epoch: 8 [32500/60000 (54.2%)]\tLoss: 1.848403\n",
      "Train Epoch: 8 [35000/60000 (58.3%)]\tLoss: 1.829428\n",
      "Train Epoch: 8 [37500/60000 (62.5%)]\tLoss: 1.930043\n",
      "Train Epoch: 8 [40000/60000 (66.7%)]\tLoss: 1.873189\n",
      "Train Epoch: 8 [42500/60000 (70.8%)]\tLoss: 1.759058\n",
      "Train Epoch: 8 [45000/60000 (75.0%)]\tLoss: 1.776551\n",
      "Train Epoch: 8 [47500/60000 (79.2%)]\tLoss: 1.896437\n",
      "Train Epoch: 8 [50000/60000 (83.3%)]\tLoss: 1.929019\n",
      "Train Epoch: 8 [52500/60000 (87.5%)]\tLoss: 1.742590\n",
      "Train Epoch: 8 [55000/60000 (91.7%)]\tLoss: 1.880450\n",
      "Train Epoch: 8 [57500/60000 (95.8%)]\tLoss: 1.891188\n",
      "\n",
      "Test set: Average loss: 1.8643, Accuracy: 5865/10000 (58.7%)\n",
      "\n",
      "Train Epoch: 9 [0/60000 (0.0%)]\tLoss: 1.861073\n",
      "Train Epoch: 9 [2500/60000 (4.2%)]\tLoss: 1.913368\n",
      "Train Epoch: 9 [5000/60000 (8.3%)]\tLoss: 1.851027\n",
      "Train Epoch: 9 [7500/60000 (12.5%)]\tLoss: 1.840051\n",
      "Train Epoch: 9 [10000/60000 (16.7%)]\tLoss: 1.945197\n",
      "Train Epoch: 9 [12500/60000 (20.8%)]\tLoss: 1.927231\n",
      "Train Epoch: 9 [15000/60000 (25.0%)]\tLoss: 1.820852\n",
      "Train Epoch: 9 [17500/60000 (29.2%)]\tLoss: 1.914411\n",
      "Train Epoch: 9 [20000/60000 (33.3%)]\tLoss: 1.814868\n",
      "Train Epoch: 9 [22500/60000 (37.5%)]\tLoss: 1.772971\n",
      "Train Epoch: 9 [25000/60000 (41.7%)]\tLoss: 1.965388\n",
      "Train Epoch: 9 [27500/60000 (45.8%)]\tLoss: 1.834247\n",
      "Train Epoch: 9 [30000/60000 (50.0%)]\tLoss: 1.786501\n",
      "Train Epoch: 9 [32500/60000 (54.2%)]\tLoss: 1.838120\n",
      "Train Epoch: 9 [35000/60000 (58.3%)]\tLoss: 1.815961\n",
      "Train Epoch: 9 [37500/60000 (62.5%)]\tLoss: 1.859795\n",
      "Train Epoch: 9 [40000/60000 (66.7%)]\tLoss: 1.888601\n",
      "Train Epoch: 9 [42500/60000 (70.8%)]\tLoss: 1.951812\n",
      "Train Epoch: 9 [45000/60000 (75.0%)]\tLoss: 1.775973\n",
      "Train Epoch: 9 [47500/60000 (79.2%)]\tLoss: 1.814440\n",
      "Train Epoch: 9 [50000/60000 (83.3%)]\tLoss: 1.852867\n",
      "Train Epoch: 9 [52500/60000 (87.5%)]\tLoss: 1.988963\n",
      "Train Epoch: 9 [55000/60000 (91.7%)]\tLoss: 1.874276\n",
      "Train Epoch: 9 [57500/60000 (95.8%)]\tLoss: 1.838511\n",
      "\n",
      "Test set: Average loss: 1.8634, Accuracy: 5870/10000 (58.7%)\n",
      "\n",
      "Train Epoch: 10 [0/60000 (0.0%)]\tLoss: 1.835929\n",
      "Train Epoch: 10 [2500/60000 (4.2%)]\tLoss: 1.822199\n",
      "Train Epoch: 10 [5000/60000 (8.3%)]\tLoss: 1.787106\n",
      "Train Epoch: 10 [7500/60000 (12.5%)]\tLoss: 1.838686\n",
      "Train Epoch: 10 [10000/60000 (16.7%)]\tLoss: 1.844088\n",
      "Train Epoch: 10 [12500/60000 (20.8%)]\tLoss: 1.862321\n",
      "Train Epoch: 10 [15000/60000 (25.0%)]\tLoss: 1.840468\n",
      "Train Epoch: 10 [17500/60000 (29.2%)]\tLoss: 1.803982\n",
      "Train Epoch: 10 [20000/60000 (33.3%)]\tLoss: 1.761366\n",
      "Train Epoch: 10 [22500/60000 (37.5%)]\tLoss: 1.837113\n",
      "Train Epoch: 10 [25000/60000 (41.7%)]\tLoss: 1.953970\n",
      "Train Epoch: 10 [27500/60000 (45.8%)]\tLoss: 1.855224\n",
      "Train Epoch: 10 [30000/60000 (50.0%)]\tLoss: 1.782624\n",
      "Train Epoch: 10 [32500/60000 (54.2%)]\tLoss: 1.795102\n",
      "Train Epoch: 10 [35000/60000 (58.3%)]\tLoss: 1.850275\n",
      "Train Epoch: 10 [37500/60000 (62.5%)]\tLoss: 1.791826\n",
      "Train Epoch: 10 [40000/60000 (66.7%)]\tLoss: 1.792201\n",
      "Train Epoch: 10 [42500/60000 (70.8%)]\tLoss: 1.911857\n",
      "Train Epoch: 10 [45000/60000 (75.0%)]\tLoss: 1.834611\n",
      "Train Epoch: 10 [47500/60000 (79.2%)]\tLoss: 1.879191\n",
      "Train Epoch: 10 [50000/60000 (83.3%)]\tLoss: 1.773668\n",
      "Train Epoch: 10 [52500/60000 (87.5%)]\tLoss: 1.918698\n",
      "Train Epoch: 10 [55000/60000 (91.7%)]\tLoss: 1.780501\n",
      "Train Epoch: 10 [57500/60000 (95.8%)]\tLoss: 1.820397\n",
      "\n",
      "Test set: Average loss: 1.8631, Accuracy: 5873/10000 (58.7%)\n",
      "\n"
     ]
    }
   ],
   "source": [
    "losses = []\n",
    "error_rates = []\n",
    "\n",
    "for epoch in range(1, epochs + 1):\n",
    "    train(model, device, train_loader, optimizer, epoch, log_interval)\n",
    "    (loss, accuracy) = test(model, device, test_loader)\n",
    "    losses.append(loss)\n",
    "    error_rates.append(1 - accuracy)\n",
    "    scheduler.step()"
   ],
   "metadata": {
    "collapsed": false,
    "pycharm": {
     "name": "#%%\n"
    }
   }
  },
  {
   "cell_type": "markdown",
   "source": [
    "Снова построим графики изменения перекрёстной энтропии и error rate с каждой последующей эпохой."
   ],
   "metadata": {
    "collapsed": false,
    "pycharm": {
     "name": "#%% md\n"
    }
   }
  },
  {
   "cell_type": "code",
   "source": [
    "plt.figure(figsize=(9, 10))\n",
    "plt.subplot(211)\n",
    "plt.title('Cross entropy per epoch')\n",
    "plt.xlabel('Epochs')\n",
    "plt.xticks(range(1, epochs + 1))\n",
    "plt.ylabel('Cross entropy')\n",
    "plt.grid(True)\n",
    "plt.plot(range(1, epochs + 1), losses)\n",
    "\n",
    "plt.subplot(212)\n",
    "plt.title('Error rate per epoch')\n",
    "plt.xlabel('Epochs')\n",
    "plt.xticks(range(1, epochs + 1))\n",
    "plt.ylabel('Error rate')\n",
    "plt.grid(True)\n",
    "plt.plot(range(1, epochs + 1), error_rates)\n",
    "\n",
    "plt.show()"
   ],
   "metadata": {
    "collapsed": false,
    "pycharm": {
     "name": "#%%\n"
    }
   },
   "execution_count": 15,
   "outputs": [
    {
     "data": {
      "text/plain": "<Figure size 648x720 with 2 Axes>",
      "image/png": "[encoded data removed]"
     },
     "metadata": {},
     "output_type": "display_data"
    }
   ]
  },
  {
   "cell_type": "markdown",
   "source": [
    "Получаем немного грустный результат: наша архитектура, хорошо работающая на MNIST, средне отрабатывает на Fashion MNIST."
   ],
   "metadata": {
    "collapsed": false,
    "pycharm": {
     "name": "#%% md\n"
    }
   }
  }
 ],
 "metadata": {
  "kernelspec": {
   "display_name": "Python 3",
   "language": "python",
   "name": "python3"
  },
  "language_info": {
   "codemirror_mode": {
    "name": "ipython",
    "version": 2
   },
   "file_extension": ".py",
   "mimetype": "text/x-python",
   "name": "python",
   "nbconvert_exporter": "python",
   "pygments_lexer": "ipython2",
   "version": "2.7.6"
  }
 },
 "nbformat": 4,
 "nbformat_minor": 0
}