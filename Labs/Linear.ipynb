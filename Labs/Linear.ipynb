{
 "cells": [
  {
   "cell_type": "markdown",
   "source": [
    "# ЛР 2. Линейная регрессия\n",
    "\n",
    "## Подготовка\n",
    "\n",
    "Импортируем все необходимые для лабораторной библиотеки и определим функцию SMAPE."
   ],
   "metadata": {
    "collapsed": false,
    "pycharm": {
     "name": "#%% md\n"
    }
   }
  },
  {
   "cell_type": "code",
   "execution_count": 1,
   "outputs": [],
   "source": [
    "import pandas as pd\n",
    "import numpy as np\n",
    "from sklearn.preprocessing import MinMaxScaler\n",
    "from sklearn.model_selection import GridSearchCV\n",
    "from sklearn.linear_model import SGDRegressor, Ridge, RANSACRegressor\n",
    "from sklearn.metrics import make_scorer\n",
    "import matplotlib.pyplot as plt\n",
    "\n",
    "import warnings  \n",
    "warnings.filterwarnings('ignore')\n",
    "plt.style.use('ggplot')"
   ],
   "metadata": {
    "collapsed": false,
    "pycharm": {
     "name": "#%%\n",
     "is_executing": false
    }
   }
  },
  {
   "cell_type": "code",
   "execution_count": 2,
   "outputs": [],
   "source": [
    "EPSILON = 1e-10\n",
    "def loss(actual: np.ndarray, predicted: np.ndarray):\n",
    "    return np.mean(2.0 * np.abs(actual - predicted) / ((np.abs(actual) + np.abs(predicted)) + EPSILON))\n",
    "\n",
    "scorer = make_scorer(loss, greater_is_better=False)"
   ],
   "metadata": {
    "collapsed": false,
    "pycharm": {
     "name": "#%%\n",
     "is_executing": false
    }
   }
  },
  {
   "cell_type": "markdown",
   "source": [
    "Загрузим тренировочную и тестовую выборки из файла."
   ],
   "metadata": {
    "collapsed": false,
    "pycharm": {
     "name": "#%% md\n"
    }
   }
  },
  {
   "cell_type": "code",
   "execution_count": 3,
   "outputs": [],
   "source": [
    "with open('7.txt', 'r') as data:\n",
    "    features = int(data.readline())\n",
    "    \n",
    "    train_count = int(data.readline())\n",
    "    train = []\n",
    "    for i in range(train_count):\n",
    "        train.append([int(x) for x in data.readline().split()])\n",
    "    \n",
    "    test_count = int(data.readline())\n",
    "    test = []\n",
    "    for i in range(test_count):\n",
    "        test.append([int(x) for x in data.readline().split()])\n",
    "\n",
    "train = pd.DataFrame(train)\n",
    "test = pd.DataFrame(test)"
   ],
   "metadata": {
    "collapsed": false,
    "pycharm": {
     "name": "#%%\n",
     "is_executing": false
    }
   }
  },
  {
   "cell_type": "markdown",
   "source": [
    "Отделим признаки от классов в обеих выборках."
   ],
   "metadata": {
    "collapsed": false,
    "pycharm": {
     "name": "#%% md\n"
    }
   }
  },
  {
   "cell_type": "code",
   "execution_count": 4,
   "outputs": [],
   "source": [
    "train_X, train_y = train.drop(features, axis=1), train[features]\n",
    "test_X, test_y = test.drop(features, axis=1), test[features]\n",
    "\n",
    "train_X = train_X.to_numpy()\n",
    "train_y = train_y.to_numpy().reshape(-1, 1)\n",
    "test_X = test_X.to_numpy()\n",
    "test_y = test_y.to_numpy().reshape(-1, 1)"
   ],
   "metadata": {
    "collapsed": false,
    "pycharm": {
     "name": "#%%\n",
     "is_executing": false
    }
   }
  },
  {
   "cell_type": "markdown",
   "source": [
    "Нормализуем полученные данные."
   ],
   "metadata": {
    "collapsed": false,
    "pycharm": {
     "name": "#%% md\n"
    }
   }
  },
  {
   "cell_type": "code",
   "execution_count": 5,
   "outputs": [],
   "source": [
    "scaler_X = MinMaxScaler()\n",
    "scaler_y = MinMaxScaler()\n",
    "\n",
    "train_X, train_y = scaler_X.fit_transform(train_X), scaler_y.fit_transform(train_y)\n",
    "test_X, test_y = scaler_X.transform(test_X), scaler_y.transform(test_y)\n",
    "train_y, test_y = train_y.reshape(-1), test_y.reshape(-1)"
   ],
   "metadata": {
    "collapsed": false,
    "pycharm": {
     "name": "#%%\n",
     "is_executing": false
    }
   }
  },
  {
   "cell_type": "markdown",
   "source": [
    "## 1. Метод наименьших квадратов"
   ],
   "metadata": {
    "collapsed": false,
    "pycharm": {
     "name": "#%% md\n"
    }
   }
  },
  {
   "cell_type": "code",
   "execution_count": 6,
   "outputs": [
    {
     "name": "stdout",
     "text": [
      "Лучшие параметры для SGD:  {'alpha': 0.1, 'solver': 'svd'}\n"
     ],
     "output_type": "stream"
    }
   ],
   "source": [
    "parameters = {\n",
    "    \"alpha\": np.arange(0.1, 20, 0.1),\n",
    "    \"solver\": ['svd']\n",
    "}\n",
    "\n",
    "linear_model = Ridge()\n",
    "grid = GridSearchCV(linear_model, parameters, scoring=scorer)\n",
    "grid.fit(train_X, train_y)\n",
    "best_params = grid.best_params_\n",
    "linear_loss_train, linear_loss_test = [], []\n",
    "print('Лучшие параметры для SGD: ', best_params)"
   ],
   "metadata": {
    "collapsed": false,
    "pycharm": {
     "name": "#%%\n",
     "is_executing": false
    }
   }
  },
  {
   "cell_type": "code",
   "execution_count": 7,
   "outputs": [
    {
     "name": "stdout",
     "text": [
      "Ошибка на тренировочных данных: 1.76%\n",
      "Ошибка на тестовых данных:      0.85%\n"
     ],
     "output_type": "stream"
    }
   ],
   "source": [
    "max_iter_range = np.arange(11, 41, 2)\n",
    "for max_iter in max_iter_range:\n",
    "    best_params['max_iter'] = max_iter\n",
    "    linear_model = Ridge()\n",
    "    linear_model.set_params(**best_params)\n",
    "    linear_model.fit(train_X, train_y)\n",
    "    linear_loss_train.append(loss(train_y, linear_model.predict(train_X)))\n",
    "    linear_loss_test.append(loss(test_y, linear_model.predict(test_X)))\n",
    "\n",
    "print(f'Ошибка на тренировочных данных: {min(linear_loss_train):.2%}')\n",
    "print(f'Ошибка на тестовых данных:      {min(linear_loss_test):.2%}')"
   ],
   "metadata": {
    "collapsed": false,
    "pycharm": {
     "name": "#%%\n",
     "is_executing": false
    }
   }
  },
  {
   "cell_type": "markdown",
   "source": [
    "Построим график зависимости функции потерь от максимального количества итераций."
   ],
   "metadata": {
    "collapsed": false
   }
  },
  {
   "cell_type": "code",
   "execution_count": 8,
   "outputs": [
    {
     "data": {
      "text/plain": "<Figure size 432x288 with 1 Axes>",
      "image/png": "[encoded data removed]"
     },
     "metadata": {},
     "output_type": "display_data"
    }
   ],
   "source": [
    "plt.title(\"Ошибка для Ridge\")\n",
    "plt.xlabel(\"Максимальное количество итераций\")\n",
    "plt.ylabel(\"Ошибка\")\n",
    "plt.plot(max_iter_range, linear_loss_train, label='Обучение')\n",
    "plt.plot(max_iter_range, linear_loss_test, label='Тестирование')\n",
    "plt.legend(loc='center left', frameon=False)\n",
    "plt.show()"
   ],
   "metadata": {
    "collapsed": false,
    "pycharm": {
     "name": "#%%\n",
     "is_executing": false
    }
   }
  },
  {
   "cell_type": "markdown",
   "source": [
    "## 2. Градиентный спуск\n",
    "\n",
    "Подберём наилучшие параметры для стохастического градиентного спуска."
   ],
   "metadata": {
    "collapsed": false,
    "pycharm": {
     "name": "#%% md\n"
    }
   }
  },
  {
   "cell_type": "code",
   "execution_count": 9,
   "outputs": [
    {
     "name": "stdout",
     "text": [
      "Лучшие параметры для SGD:  {'alpha': 0.000151, 'eta0': 0.025099999999999997, 'learning_rate': 'adaptive', 'penalty': 'elasticnet'}\n"
     ],
     "output_type": "stream"
    }
   ],
   "source": [
    "parameters = {\n",
    "    'penalty': ('l1', 'l2', 'elasticnet'), \n",
    "    'alpha': np.linspace(0.000001, 0.000201, 5), \n",
    "    'learning_rate': ['adaptive'],\n",
    "    'eta0': np.linspace(0.0001, 0.1001, 5)\n",
    "}\n",
    "\n",
    "sgd_model = SGDRegressor()\n",
    "grid = GridSearchCV(sgd_model, parameters, scoring=scorer)\n",
    "grid.fit(train_X, train_y)\n",
    "best_params = grid.best_params_\n",
    "sgd_loss_train, sgd_loss_test = [], []\n",
    "print('Лучшие параметры для SGD: ', best_params)"
   ],
   "metadata": {
    "collapsed": false,
    "pycharm": {
     "name": "#%%\n",
     "is_executing": false
    }
   }
  },
  {
   "cell_type": "markdown",
   "source": [
    "Теперь посмотрим, как функция потерь будет зависеть от максимального количества итераций спуска."
   ],
   "metadata": {
    "collapsed": false,
    "pycharm": {
     "name": "#%% md\n"
    }
   }
  },
  {
   "cell_type": "code",
   "execution_count": 10,
   "outputs": [
    {
     "name": "stdout",
     "text": [
      "Ошибка на тренировочных данных: 2.29%\n",
      "Ошибка на тестовых данных:      1.82%\n"
     ],
     "output_type": "stream"
    }
   ],
   "source": [
    "max_iter_range = np.arange(11, 41, 2)\n",
    "for max_iter in max_iter_range:\n",
    "    best_params['max_iter'] = max_iter\n",
    "    sgd = SGDRegressor()\n",
    "    sgd.set_params(**best_params)\n",
    "    sgd.fit(train_X, train_y)\n",
    "    sgd_loss_train.append(loss(train_y, sgd.predict(train_X)))\n",
    "    sgd_loss_test.append(loss(test_y, sgd.predict(test_X)))\n",
    "    \n",
    "print(f'Ошибка на тренировочных данных: {min(sgd_loss_train):.2%}')\n",
    "print(f'Ошибка на тестовых данных:      {min(sgd_loss_test):.2%}')"
   ],
   "metadata": {
    "collapsed": false,
    "pycharm": {
     "name": "#%%\n",
     "is_executing": false
    }
   }
  },
  {
   "cell_type": "markdown",
   "source": [
    "Построим график зависимости функции потерь от максимального количества итераций."
   ],
   "metadata": {
    "collapsed": false,
    "pycharm": {
     "name": "#%% md\n",
     "is_executing": false
    }
   }
  },
  {
   "cell_type": "code",
   "execution_count": 11,
   "outputs": [
    {
     "data": {
      "text/plain": "<Figure size 432x288 with 1 Axes>",
      "image/png": "[encoded data removed]"
     },
     "metadata": {},
     "output_type": "display_data"
    }
   ],
   "source": [
    "plt.title(\"Ошибка для SGD\")\n",
    "plt.xlabel(\"Максимальное количество итераций\")\n",
    "plt.ylabel(\"Ошибка\")\n",
    "plt.plot(max_iter_range, sgd_loss_train, label='Обучение')\n",
    "plt.plot(max_iter_range, sgd_loss_test, label='Тестирование')\n",
    "plt.legend(loc='center left', frameon=False)\n",
    "plt.show()"
   ],
   "metadata": {
    "collapsed": false,
    "pycharm": {
     "name": "#%%\n",
     "is_executing": false
    }
   }
  },
  {
   "cell_type": "markdown",
   "source": [
    "## 3. RANSAC"
   ],
   "metadata": {
    "collapsed": false,
    "pycharm": {
     "name": "#%% md\n"
    }
   }
  },
  {
   "cell_type": "code",
   "execution_count": 12,
   "outputs": [
    {
     "name": "stdout",
     "text": [
      "Лучшие параметры для RANSAC:  {'max_trials': 61, 'min_samples': 0.2}\n"
     ],
     "output_type": "stream"
    }
   ],
   "source": [
    "parameters = {\n",
    "    'max_trials': np.arange(1, 201, 10),\n",
    "    'min_samples': np.arange(0.1, 1, 0.1)\n",
    "}\n",
    "\n",
    "ransac_model = RANSACRegressor()\n",
    "grid = GridSearchCV(ransac_model, parameters, scoring=scorer)\n",
    "grid.fit(train_X, train_y)\n",
    "best_params = grid.best_params_\n",
    "ransac_loss_train, ransac_loss_test = [], []\n",
    "print('Лучшие параметры для RANSAC: ', best_params)"
   ],
   "metadata": {
    "collapsed": false,
    "pycharm": {
     "name": "#%%\n",
     "is_executing": false
    }
   }
  },
  {
   "cell_type": "code",
   "execution_count": 13,
   "outputs": [
    {
     "name": "stdout",
     "text": [
      "Ошибка на тренировочных данных: 1.76%\n",
      "Ошибка на тестовых данных:      0.86%\n"
     ],
     "output_type": "stream"
    }
   ],
   "source": [
    "max_iter_range = np.arange(1, 201, 2)\n",
    "for max_iter in max_iter_range:\n",
    "    best_params['max_trials'] = max_iter\n",
    "    ransac = RANSACRegressor()\n",
    "    ransac.set_params(**best_params)\n",
    "    ransac.fit(train_X, train_y)\n",
    "    ransac_loss_train.append(loss(train_y, ransac.predict(train_X)))\n",
    "    ransac_loss_test.append(loss(test_y, ransac.predict(test_X)))\n",
    "    \n",
    "print(f'Ошибка на тренировочных данных: {min(ransac_loss_train):.2%}')\n",
    "print(f'Ошибка на тестовых данных:      {min(ransac_loss_test):.2%}')"
   ],
   "metadata": {
    "collapsed": false,
    "pycharm": {
     "name": "#%%\n",
     "is_executing": false
    }
   }
  },
  {
   "cell_type": "code",
   "execution_count": 14,
   "outputs": [
    {
     "data": {
      "text/plain": "<Figure size 432x288 with 1 Axes>",
      "image/png": "[encoded data removed]"
     },
     "metadata": {},
     "output_type": "display_data"
    }
   ],
   "source": [
    "plt.title(\"Ошибка для RANSAC\")\n",
    "plt.xlabel(\"Максимальное количество итераций\")\n",
    "plt.ylabel(\"Ошибка\")\n",
    "plt.plot(max_iter_range, ransac_loss_train, label='Обучение')\n",
    "plt.plot(max_iter_range, ransac_loss_test, label='Тестирование')\n",
    "plt.legend(loc='center left', frameon=False)\n",
    "plt.show()"
   ],
   "metadata": {
    "collapsed": false,
    "pycharm": {
     "name": "#%%\n",
     "is_executing": false
    }
   }
  }
 ],
 "metadata": {
  "kernelspec": {
   "display_name": "Python 3",
   "language": "python",
   "name": "python3"
  },
  "language_info": {
   "codemirror_mode": {
    "name": "ipython",
    "version": 2
   },
   "file_extension": ".py",
   "mimetype": "text/x-python",
   "name": "python",
   "nbconvert_exporter": "python",
   "pygments_lexer": "ipython2",
   "version": "2.7.6"
  },
  "pycharm": {
   "stem_cell": {
    "cell_type": "raw",
    "source": [],
    "metadata": {
     "collapsed": false
    }
   }
  }
 },
 "nbformat": 4,
 "nbformat_minor": 0
}