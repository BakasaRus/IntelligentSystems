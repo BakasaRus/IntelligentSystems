{
 "cells": [
  {
   "cell_type": "markdown",
   "source": [
    "# ЛР 1. Линейная регрессия\n",
    "\n",
    "## Подготовка\n",
    "\n",
    "Импортируем все необходимые для лабораторной библиотеки и определим функцию SMAPE."
   ],
   "metadata": {
    "collapsed": false,
    "pycharm": {
     "name": "#%% md\n"
    }
   }
  },
  {
   "cell_type": "code",
   "execution_count": 9,
   "outputs": [],
   "source": [
    "import pandas as pd\n",
    "import numpy as np\n",
    "from sklearn.preprocessing import MinMaxScaler\n",
    "from sklearn.model_selection import GridSearchCV\n",
    "from sklearn.linear_model import LinearRegression, SGDRegressor\n",
    "from sklearn.metrics import make_scorer\n",
    "from genetic_selection import GeneticSelectionCV\n",
    "import matplotlib.pyplot as plt\n",
    "\n",
    "import warnings  \n",
    "warnings.filterwarnings('ignore')"
   ],
   "metadata": {
    "collapsed": false,
    "pycharm": {
     "name": "#%%\n",
     "is_executing": false
    }
   }
  },
  {
   "cell_type": "code",
   "execution_count": 10,
   "outputs": [],
   "source": [
    "def smape(f, a):\n",
    "    return 100 / len(a) * np.sum(2 * np.abs(f - a) / (np.abs(a) + np.abs(f)))\n",
    "\n",
    "smape_scorer = make_scorer(smape, greater_is_better=False)"
   ],
   "metadata": {
    "collapsed": false,
    "pycharm": {
     "name": "#%%\n",
     "is_executing": false
    }
   }
  },
  {
   "cell_type": "markdown",
   "source": [
    "Загрузим тренировочную и тестовую выборки из файла."
   ],
   "metadata": {
    "collapsed": false,
    "pycharm": {
     "name": "#%% md\n"
    }
   }
  },
  {
   "cell_type": "code",
   "execution_count": 11,
   "outputs": [],
   "source": [
    "with open('7.txt', 'r') as data:\n",
    "    features = int(data.readline())\n",
    "    \n",
    "    train_count = int(data.readline())\n",
    "    train = []\n",
    "    for i in range(train_count):\n",
    "        train.append([int(x) for x in data.readline().split()])\n",
    "    \n",
    "    test_count = int(data.readline())\n",
    "    test = []\n",
    "    for i in range(test_count):\n",
    "        test.append([int(x) for x in data.readline().split()])\n",
    "\n",
    "train = pd.DataFrame(train)\n",
    "test = pd.DataFrame(test)"
   ],
   "metadata": {
    "collapsed": false,
    "pycharm": {
     "name": "#%%\n",
     "is_executing": false
    }
   }
  },
  {
   "cell_type": "markdown",
   "source": [
    "Отделим признаки от классов в обеих выборках."
   ],
   "metadata": {
    "collapsed": false,
    "pycharm": {
     "name": "#%% md\n"
    }
   }
  },
  {
   "cell_type": "code",
   "execution_count": 12,
   "outputs": [],
   "source": [
    "train_X, train_y = train.drop(features, axis=1), train[features]\n",
    "test_X, test_y = test.drop(features, axis=1), test[features]\n",
    "\n",
    "train_X = train_X.to_numpy()\n",
    "train_y = train_y.to_numpy().reshape(-1, 1)\n",
    "test_X = test_X.to_numpy()\n",
    "test_y = test_y.to_numpy().reshape(-1, 1)"
   ],
   "metadata": {
    "collapsed": false,
    "pycharm": {
     "name": "#%%\n",
     "is_executing": false
    }
   }
  },
  {
   "cell_type": "code",
   "execution_count": 13,
   "outputs": [],
   "source": [
    "scaler_X = MinMaxScaler()\n",
    "scaler_y = MinMaxScaler()\n",
    "\n",
    "train_X, train_y = scaler_X.fit_transform(train_X), scaler_y.fit_transform(train_y)\n",
    "test_X, test_y = scaler_X.transform(test_X), scaler_y.transform(test_y)\n",
    "train_y, test_y = train_y.reshape(-1), test_y.reshape(-1)"
   ],
   "metadata": {
    "collapsed": false,
    "pycharm": {
     "name": "#%%\n",
     "is_executing": false
    }
   }
  },
  {
   "cell_type": "markdown",
   "source": [
    "## 1. Метод наименьших квадратов"
   ],
   "metadata": {
    "collapsed": false,
    "pycharm": {
     "name": "#%% md\n"
    }
   }
  },
  {
   "cell_type": "code",
   "execution_count": 14,
   "outputs": [
    {
     "name": "stdout",
     "text": [
      "SMAPE на тренировочных данных:  1.77%\n",
      "SMAPE на тестовых данных:       0.87%\n"
     ],
     "output_type": "stream"
    }
   ],
   "source": [
    "linear_model = LinearRegression()\n",
    "linear_model.fit(train_X, train_y)\n",
    "\n",
    "smape_train_linear = smape(linear_model.predict(train_X), train_y)\n",
    "smape_test_linear = smape(linear_model.predict(test_X), test_y)\n",
    "\n",
    "print(f'SMAPE на тренировочных данных: {smape_train_linear:5.2f}%')\n",
    "print(f'SMAPE на тестовых данных:      {smape_test_linear:5.2f}%')"
   ],
   "metadata": {
    "collapsed": false,
    "pycharm": {
     "name": "#%%\n",
     "is_executing": false
    }
   }
  },
  {
   "cell_type": "markdown",
   "source": [
    "## 2. Градиентный спуск"
   ],
   "metadata": {
    "collapsed": false,
    "pycharm": {
     "name": "#%% md\n"
    }
   }
  },
  {
   "cell_type": "code",
   "execution_count": 15,
   "outputs": [
    {
     "name": "stdout",
     "text": [
      "Лучшие параметры для SGD:  {'alpha': 5.1e-05, 'eta0': 0.025099999999999997, 'learning_rate': 'adaptive', 'penalty': 'l1'}\n",
      "SMAPE на тренировочных данных:  2.56%\n",
      "SMAPE на тестовых данных:       2.25%\n"
     ],
     "output_type": "stream"
    }
   ],
   "source": [
    "parameters = {\n",
    "    'penalty': ('l1', 'l2'), \n",
    "    'alpha': np.linspace(0.000001, 0.000201, 5), \n",
    "    'learning_rate': ['adaptive'],\n",
    "    'eta0': np.linspace(0.0001, 0.1001, 5)\n",
    "}\n",
    "\n",
    "sgd_model = SGDRegressor()\n",
    "grid = GridSearchCV(sgd_model, parameters, scoring=smape_scorer)\n",
    "grid.fit(train_X, train_y)\n",
    "best_params = grid.best_params_\n",
    "sgd_smape_train, sgd_smape_test = [], []\n",
    "print('Лучшие параметры для SGD:       ', best_params)\n",
    "\n",
    "max_iter_range = np.arange(20, 310, 20)\n",
    "for max_iter in max_iter_range:\n",
    "    best_params['max_iter'] = max_iter\n",
    "    sgd = SGDRegressor()\n",
    "    sgd.set_params(**best_params)\n",
    "    sgd.fit(train_X, train_y)\n",
    "    sgd_smape_train.append(smape(sgd.predict(train_X), train_y))\n",
    "    sgd_smape_test.append(smape(sgd.predict(test_X), test_y))\n",
    "    \n",
    "print(f'SMAPE на тренировочных данных: {min(sgd_smape_train):5.2f}%')\n",
    "print(f'SMAPE на тестовых данных:      {min(sgd_smape_test):5.2f}%')"
   ],
   "metadata": {
    "collapsed": false,
    "pycharm": {
     "name": "#%%\n",
     "is_executing": false
    }
   }
  },
  {
   "cell_type": "code",
   "execution_count": 16,
   "outputs": [
    {
     "data": {
      "text/plain": "<Figure size 432x288 with 1 Axes>",
      "image/png": "[encoded data removed]"
     },
     "metadata": {
      "needs_background": "light"
     },
     "output_type": "display_data"
    }
   ],
   "source": [
    "plt.title(\"SMAPE для SGD\")\n",
    "plt.xlabel(\"Максимальное количество итераций\")\n",
    "plt.ylabel(\"SMAPE\")\n",
    "plt.plot(max_iter_range, sgd_smape_train, label='Обучение')\n",
    "plt.plot(max_iter_range, sgd_smape_test, label='Тестирование')\n",
    "plt.legend(loc='center left', frameon=False)\n",
    "plt.show()"
   ],
   "metadata": {
    "collapsed": false,
    "pycharm": {
     "name": "#%%\n",
     "is_executing": false
    }
   }
  }
 ],
 "metadata": {
  "kernelspec": {
   "display_name": "Python 3",
   "language": "python",
   "name": "python3"
  },
  "language_info": {
   "codemirror_mode": {
    "name": "ipython",
    "version": 2
   },
   "file_extension": ".py",
   "mimetype": "text/x-python",
   "name": "python",
   "nbconvert_exporter": "python",
   "pygments_lexer": "ipython2",
   "version": "2.7.6"
  },
  "pycharm": {
   "stem_cell": {
    "cell_type": "raw",
    "source": [],
    "metadata": {
     "collapsed": false
    }
   }
  }
 },
 "nbformat": 4,
 "nbformat_minor": 0
}