{
 "cells": [
  {
   "cell_type": "markdown",
   "metadata": {
    "pycharm": {
     "name": "#%% md\n"
    }
   },
   "source": [
    "# ЛР 1. Непараметрическая регрессия\n",
    "\n",
    "## Подготовка\n",
    "\n",
    "Импортируем нужные нам модули."
   ]
  },
  {
   "cell_type": "code",
   "execution_count": 1,
   "metadata": {
    "pycharm": {
     "is_executing": false
    }
   },
   "outputs": [],
   "source": [
    "from sklearn.base import BaseEstimator\n",
    "from sklearn.preprocessing import OneHotEncoder, LabelEncoder\n",
    "\n",
    "from sklearn import model_selection\n",
    "from sklearn.metrics import f1_score, make_scorer\n",
    "from sklearn.model_selection import LeaveOneOut\n",
    "\n",
    "import matplotlib.pyplot as plt\n",
    "import pandas as pd\n",
    "import numpy as np\n",
    "import warnings\n",
    "from math import pi\n",
    "\n",
    "warnings.filterwarnings('ignore')\n",
    "plt.style.use('ggplot')\n",
    "%matplotlib inline"
   ]
  },
  {
   "cell_type": "markdown",
   "metadata": {
    "pycharm": {
     "name": "#%% md\n"
    }
   },
   "source": [
    "Зададим функции ядра и функции расстояния."
   ]
  },
  {
   "cell_type": "code",
   "execution_count": 2,
   "metadata": {
    "pycharm": {
     "is_executing": false
    }
   },
   "outputs": [],
   "source": [
    "scorer = make_scorer(f1_score, average='macro')\n",
    "\n",
    "def group_kernels(func_name: str):\n",
    "    kernels = {\n",
    "        'uniform': lambda u: np.where(np.abs(u) <= 1, 0.5, 0),\n",
    "        'triangular': lambda u: np.where(np.abs(u) <= 1, 1 - np.abs(u), 0),\n",
    "        'epanechnikov': lambda u: np.where(np.abs(u) <= 1, 0.75 * (1 - u ** 2), 0),\n",
    "        'quartic': lambda u: np.where(np.abs(u) <= 1, 15/16 * (1 - u ** 2) ** 2, 0),\n",
    "        'triweight': lambda u: np.where(np.abs(u) <= 1, 35/32 * (1 - u ** 2) ** 3, 0),\n",
    "        'tricube': lambda u: np.where(np.abs(u) <= 1, 70/81 * (1 - np.abs(u) ** 3) ** 3, 0),\n",
    "        'gaussian': lambda u: 1/np.sqrt(2 * pi) * np.exp(-0.5 * u ** 2),\n",
    "        'cosine': lambda u: np.where(np.abs(u) <= 1, pi / 4 * np.cos(pi / 2 * u), 0),\n",
    "        'logistic': lambda u: 1 / (np.exp(u) + 2 + np.exp(-u)),\n",
    "        'sigmoid': lambda u: 2 / (pi * (np.exp(u) + np.exp(-u))),\n",
    "    }\n",
    "    \n",
    "    return kernels[func_name]\n",
    "\n",
    "\n",
    "def group_distances(func_name: str):\n",
    "    distances = {\n",
    "        'manhattan': lambda x1, x2: np.abs(x1[:, None] - x2).sum(-1),\n",
    "        'euclidean': lambda x1, x2: np.sqrt(np.sum((x1[:, None] - x2)**2, axis=-1)),\n",
    "        'chebyshev': lambda x1, x2: np.abs(x1[:, None] - x2).max(-1)\n",
    "    }\n",
    "    return distances[func_name]"
   ]
  },
  {
   "cell_type": "markdown",
   "metadata": {
    "pycharm": {
     "name": "#%% md\n"
    }
   },
   "source": [
    "Напишем свой оценщик KNN. Он умеет работать с различными ядрами, функциями расстояния, окнами и кодированием классов."
   ]
  },
  {
   "cell_type": "code",
   "execution_count": 3,
   "metadata": {
    "pycharm": {
     "is_executing": false
    }
   },
   "outputs": [],
   "source": [
    "class MyKnn(BaseEstimator):\n",
    "    def __init__(self, n_neighbors=5, kernel_name='cosine', distance_name='euclidean', \n",
    "                 encoding=\"label\", win_type=\"fixed\"):\n",
    "        self.n_neighbors = n_neighbors\n",
    "        self.distance_name = distance_name\n",
    "        self.kernel_name = kernel_name\n",
    "        self.encoding = encoding\n",
    "        self.win_type = win_type\n",
    "        self.points_ = None\n",
    "        self.labels_ = None\n",
    "\n",
    "    def fit(self, X, y):\n",
    "        self.points_ = X\n",
    "        self.labels_ = y\n",
    "        return self\n",
    "\n",
    "    def predict(self, X):        \n",
    "        if self.encoding == \"label\":\n",
    "            encoder = LabelEncoder()\n",
    "            transform_labels = encoder.fit_transform(self.labels_)\n",
    "            predict = self.get_predict(X, transform_labels)\n",
    "            predict = np.clip(np.round(predict), 0, len(encoder.classes_) - 1).ravel().astype(int)\n",
    "        else:\n",
    "            encoder = OneHotEncoder()\n",
    "            transform_labels = encoder.fit_transform(self.labels_[:, None]).toarray()\n",
    "            predict = self.get_predict(X, transform_labels)\n",
    "            predict = (predict == predict.max(axis=1)[:, None]).astype(int)\n",
    "        return encoder.inverse_transform(predict).ravel()\n",
    "\n",
    "    def get_predict(self, X_test, labels):\n",
    "        distances = group_distances(self.distance_name)(X_test, self.points_)\n",
    "        if self.win_type == \"fixed\":\n",
    "            h = np.full((len(distances),), self.n_neighbors)\n",
    "        else:\n",
    "            h = np.sort(distances, axis=1)[:, self.n_neighbors - 1]\n",
    "\n",
    "        result = np.zeros((len(X_test), 1 if labels.ndim == 1 else labels.shape[1]))\n",
    "\n",
    "        if (h != 0).any():\n",
    "            weights = group_kernels(self.kernel_name)(distances[h != 0] / h[h != 0, None])\n",
    "            labels = labels[:, None] if labels.ndim == 1 else labels\n",
    "            num = (weights[:, :, None] * labels).sum(1)\n",
    "            den = weights.sum(1)\n",
    "\n",
    "            idx_0 = (h != 0)\n",
    "            idx_0[idx_0 > 0] = (den == 0)\n",
    "            result[idx_0] = labels.mean(axis=0)\n",
    "            idx = (h != 0)\n",
    "            idx[idx > 0] = (den != 0)\n",
    "            result[idx] = num/den[:, None]\n",
    "\n",
    "        return result"
   ]
  },
  {
   "cell_type": "markdown",
   "metadata": {},
   "source": [
    "## Чтение и предобработка данных\n",
    "\n",
    "Прочитаем данные из файла. Здесь мы читаем всего лишь 1% данных, так как полный датасет состоит из 70000 записей."
   ]
  },
  {
   "cell_type": "code",
   "execution_count": 4,
   "metadata": {
    "pycharm": {
     "is_executing": false
    }
   },
   "outputs": [],
   "source": [
    "df = pd.read_csv('mnist_784.csv', header=0, sep=',')\n",
    "df = df[:700]\n",
    "Y = df['class']\n",
    "X = df.drop(['class'], axis=1)"
   ]
  },
  {
   "cell_type": "markdown",
   "metadata": {
    "pycharm": {
     "name": "#%% md\n"
    }
   },
   "source": [
    "Посмотрим, сколько имеется классов, каков размер данных и есть ли отсутствующие значения."
   ]
  },
  {
   "cell_type": "code",
   "execution_count": 5,
   "metadata": {
    "pycharm": {
     "is_executing": false
    }
   },
   "outputs": [
    {
     "name": "stdout",
     "text": [
      "Количество классов:     [1 3 5 6 2 0 7 8 9 4]\n",
      "Размерность:            (700, 785)\n",
      "Отсутствующие значения: False\n"
     ],
     "output_type": "stream"
    }
   ],
   "source": [
    "print(\"Количество классов:    \", df['class'].unique().argsort())\n",
    "print(\"Размерность:           \", df.shape)\n",
    "print(\"Отсутствующие значения:\", df.isnull().values.any())"
   ]
  },
  {
   "cell_type": "markdown",
   "metadata": {
    "pycharm": {
     "name": "#%% md\n"
    }
   },
   "source": [
    "Получим сами значения для дальнейшей обработки."
   ]
  },
  {
   "cell_type": "code",
   "execution_count": 6,
   "metadata": {
    "pycharm": {
     "is_executing": false
    }
   },
   "outputs": [],
   "source": [
    "X = X.values\n",
    "Y = Y.values"
   ]
  },
  {
   "cell_type": "markdown",
   "metadata": {},
   "source": [
    "## 1. Наивный способ\n",
    "\n",
    "Посмотрим, какие результаты даст наивный способ, где классы заменяются одним числом."
   ]
  },
  {
   "cell_type": "markdown",
   "metadata": {},
   "source": [
    "### 1.1. От числа соседей"
   ]
  },
  {
   "cell_type": "code",
   "execution_count": 7,
   "metadata": {
    "pycharm": {
     "is_executing": false
    }
   },
   "outputs": [],
   "source": [
    "grid_param = {\n",
    "    \"n_neighbors\": [1, 3, 5, 7, 9],\n",
    "    \"distance_name\": [\"euclidean\", \"manhattan\", \"chebyshev\"],\n",
    "    \"kernel_name\": [\"uniform\", \"triangular\", \"epanechnikov\", \"quartic\", \"triweight\",\n",
    "                    \"tricube\", \"gaussian\", \"cosine\", \"logistic\", \"sigmoid\"],\n",
    "    \"encoding\": [\"label\"],\n",
    "    \"win_type\": [\"variable\"]\n",
    "}"
   ]
  },
  {
   "cell_type": "code",
   "execution_count": 8,
   "metadata": {
    "pycharm": {
     "is_executing": false
    }
   },
   "outputs": [],
   "source": [
    "grid_cv = model_selection.GridSearchCV(\n",
    "    MyKnn(),\n",
    "    grid_param,\n",
    "    scoring=scorer,\n",
    "    cv=LeaveOneOut()\n",
    ")"
   ]
  },
  {
   "cell_type": "code",
   "execution_count": 9,
   "metadata": {
    "pycharm": {
     "is_executing": false
    }
   },
   "outputs": [
    {
     "name": "stdout",
     "text": [
      "CPU times: user 5min 36s, sys: 455 ms, total: 5min 37s\n",
      "Wall time: 5min 37s\n"
     ],
     "output_type": "stream"
    },
    {
     "data": {
      "text/plain": "GridSearchCV(cv=LeaveOneOut(), error_score=nan,\n             estimator=MyKnn(distance_name='euclidean', encoding='label',\n                             kernel_name='cosine', n_neighbors=5,\n                             win_type='fixed'),\n             iid='deprecated', n_jobs=None,\n             param_grid={'distance_name': ['euclidean', 'manhattan',\n                                           'chebyshev'],\n                         'encoding': ['label'],\n                         'kernel_name': ['uniform', 'triangular',\n                                         'epanechnikov', 'quartic', 'triweight',\n                                         'tricube', 'gaussian', 'cosine',\n                                         'logistic', 'sigmoid'],\n                         'n_neighbors': [1, 3, 5, 7, 9],\n                         'win_type': ['variable']},\n             pre_dispatch='2*n_jobs', refit=True, return_train_score=False,\n             scoring=make_scorer(f1_score, average=macro), verbose=0)"
     },
     "metadata": {},
     "output_type": "execute_result",
     "execution_count": 9
    }
   ],
   "source": [
    "%time grid_cv.fit(X, Y)"
   ]
  },
  {
   "cell_type": "code",
   "execution_count": 10,
   "metadata": {
    "pycharm": {
     "is_executing": false,
     "name": "#%%\n"
    }
   },
   "outputs": [
    {
     "name": "stdout",
     "text": [
      "Лучшие параметры для наивного способа от числа соседей: {'distance_name': 'euclidean', 'encoding': 'label', 'kernel_name': 'uniform', 'n_neighbors': 1, 'win_type': 'variable'}\n",
      "F1-мера с лучшими параметрами:                          86.57%\n"
     ],
     "output_type": "stream"
    }
   ],
   "source": [
    "variable_params = grid_cv.best_params_\n",
    "variable_score = grid_cv.best_score_ \n",
    "print(f'Лучшие параметры для наивного способа от числа соседей: {variable_params}')\n",
    "print(f'F1-мера с лучшими параметрами:                          {variable_score:.2%}')"
   ]
  },
  {
   "cell_type": "markdown",
   "metadata": {},
   "source": [
    "### 1.2. От ширины окна"
   ]
  },
  {
   "cell_type": "code",
   "execution_count": 11,
   "metadata": {
    "pycharm": {
     "is_executing": false
    }
   },
   "outputs": [],
   "source": [
    "grid_param = {\n",
    "    \"n_neighbors\": np.arange(0.05, 0.5, 0.05),\n",
    "    \"distance_name\": [\"euclidean\", \"manhattan\", \"chebyshev\"],\n",
    "    \"kernel_name\": [\"uniform\", \"triangular\", \"epanechnikov\", \"quartic\", \"triweight\",\n",
    "                    \"tricube\", \"gaussian\", \"cosine\", \"logistic\", \"sigmoid\"],\n",
    "    \"encoding\": [\"label\"],\n",
    "    \"win_type\": [\"fixed\"]\n",
    "}"
   ]
  },
  {
   "cell_type": "code",
   "execution_count": 12,
   "metadata": {
    "pycharm": {
     "is_executing": false
    }
   },
   "outputs": [],
   "source": [
    "grid_cv = model_selection.GridSearchCV(\n",
    "    MyKnn(),\n",
    "    grid_param,\n",
    "    scoring=scorer,\n",
    "    cv=LeaveOneOut()\n",
    ")"
   ]
  },
  {
   "cell_type": "code",
   "execution_count": 13,
   "metadata": {
    "pycharm": {
     "is_executing": false
    }
   },
   "outputs": [
    {
     "name": "stdout",
     "text": [
      "CPU times: user 10min 4s, sys: 680 ms, total: 10min 5s\n",
      "Wall time: 10min 5s\n"
     ],
     "output_type": "stream"
    },
    {
     "data": {
      "text/plain": "GridSearchCV(cv=LeaveOneOut(), error_score=nan,\n             estimator=MyKnn(distance_name='euclidean', encoding='label',\n                             kernel_name='cosine', n_neighbors=5,\n                             win_type='fixed'),\n             iid='deprecated', n_jobs=None,\n             param_grid={'distance_name': ['euclidean', 'manhattan',\n                                           'chebyshev'],\n                         'encoding': ['label'],\n                         'kernel_name': ['uniform', 'triangular',\n                                         'epanechnikov', 'quartic', 'triweight',\n                                         'tricube', 'gaussian', 'cosine',\n                                         'logistic', 'sigmoid'],\n                         'n_neighbors': array([0.05, 0.1 , 0.15, 0.2 , 0.25, 0.3 , 0.35, 0.4 , 0.45]),\n                         'win_type': ['fixed']},\n             pre_dispatch='2*n_jobs', refit=True, return_train_score=False,\n             scoring=make_scorer(f1_score, average=macro), verbose=0)"
     },
     "metadata": {},
     "output_type": "execute_result",
     "execution_count": 13
    }
   ],
   "source": [
    "%time grid_cv.fit(X, Y)"
   ]
  },
  {
   "cell_type": "code",
   "execution_count": 14,
   "metadata": {
    "pycharm": {
     "is_executing": false,
     "name": "#%%\n"
    }
   },
   "outputs": [
    {
     "name": "stdout",
     "text": [
      "Лучшие параметры для наивного способа от ширины окна: {'distance_name': 'chebyshev', 'encoding': 'label', 'kernel_name': 'logistic', 'n_neighbors': 0.4, 'win_type': 'fixed'}\n",
      "F1-мера с лучшими параметрами:                        31.86%\n"
     ],
     "output_type": "stream"
    }
   ],
   "source": [
    "fixed_params = grid_cv.best_params_\n",
    "fixed_score = grid_cv.best_score_\n",
    "print(f'Лучшие параметры для наивного способа от ширины окна: {fixed_params}')\n",
    "print(f'F1-мера с лучшими параметрами:                        {fixed_score:.2%}')"
   ]
  },
  {
   "cell_type": "markdown",
   "metadata": {},
   "source": [
    "### 1.3. Лучшие параметры"
   ]
  },
  {
   "cell_type": "code",
   "execution_count": 15,
   "metadata": {
    "pycharm": {
     "is_executing": false
    }
   },
   "outputs": [],
   "source": [
    "knn = MyKnn()\n",
    "\n",
    "if variable_score > fixed_score:\n",
    "    knn.set_params(**variable_params)\n",
    "    grid_param = {'n_neighbors': np.arange(1, 50, 2)}\n",
    "else:\n",
    "    knn.set_params(**fixed_params)\n",
    "    grid_param = {'n_neighbors': np.arange(0.02, 0.98, 0.02)}"
   ]
  },
  {
   "cell_type": "code",
   "execution_count": 16,
   "metadata": {
    "pycharm": {
     "is_executing": false
    }
   },
   "outputs": [],
   "source": [
    "grid_cv = model_selection.GridSearchCV(\n",
    "    knn,\n",
    "    grid_param,\n",
    "    scoring=scorer,\n",
    "    cv=LeaveOneOut()\n",
    ")"
   ]
  },
  {
   "cell_type": "code",
   "execution_count": 17,
   "metadata": {
    "pycharm": {
     "is_executing": false
    }
   },
   "outputs": [
    {
     "name": "stdout",
     "text": [
      "CPU times: user 55 s, sys: 44 ms, total: 55 s\n",
      "Wall time: 55 s\n"
     ],
     "output_type": "stream"
    },
    {
     "data": {
      "text/plain": "GridSearchCV(cv=LeaveOneOut(), error_score=nan,\n             estimator=MyKnn(distance_name='euclidean', encoding='label',\n                             kernel_name='uniform', n_neighbors=1,\n                             win_type='variable'),\n             iid='deprecated', n_jobs=None,\n             param_grid={'n_neighbors': array([ 1,  3,  5,  7,  9, 11, 13, 15, 17, 19, 21, 23, 25, 27, 29, 31, 33,\n       35, 37, 39, 41, 43, 45, 47, 49])},\n             pre_dispatch='2*n_jobs', refit=True, return_train_score=False,\n             scoring=make_scorer(f1_score, average=macro), verbose=0)"
     },
     "metadata": {},
     "output_type": "execute_result",
     "execution_count": 17
    }
   ],
   "source": [
    "%time grid_cv.fit(X, Y)"
   ]
  },
  {
   "cell_type": "code",
   "execution_count": 18,
   "metadata": {
    "pycharm": {
     "is_executing": false,
     "name": "#%%\n"
    }
   },
   "outputs": [
    {
     "name": "stdout",
     "text": [
      "Лучшие параметры для наивного способа: {'n_neighbors': 1}\n",
      "F1-мера с лучшими параметрами:         86.57%\n"
     ],
     "output_type": "stream"
    }
   ],
   "source": [
    "best_params = grid_cv.best_params_\n",
    "best_score = grid_cv.best_score_\n",
    "print(f'Лучшие параметры для наивного способа: {best_params}')\n",
    "print(f'F1-мера с лучшими параметрами:         {best_score:.2%}')"
   ]
  },
  {
   "cell_type": "code",
   "execution_count": 19,
   "metadata": {
    "pycharm": {
     "is_executing": false
    }
   },
   "outputs": [
    {
     "data": {
      "text/plain": "[<matplotlib.lines.Line2D at 0x7faf02eef4f0>]"
     },
     "metadata": {},
     "output_type": "execute_result",
     "execution_count": 19
    },
    {
     "data": {
      "text/plain": "<Figure size 432x288 with 1 Axes>",
      "image/png": "[encoded data removed]"
     },
     "metadata": {
      "needs_background": "light"
     },
     "output_type": "display_data"
    }
   ],
   "source": [
    "plt.title('Зависимость F-меры от количества соседей / ширины окна')\n",
    "plt.plot(list(grid_cv.cv_results_['param_n_neighbors']), grid_cv.cv_results_['mean_test_score'])"
   ]
  },
  {
   "cell_type": "markdown",
   "metadata": {},
   "source": [
    "## 2. OneHot-преобразование\n",
    "\n",
    "Посмотрим, какие результаты даст OneHot-преобразование, где каждый класс заменяется на массив элементов."
   ]
  },
  {
   "cell_type": "markdown",
   "metadata": {},
   "source": [
    "### 2.1. От числа соседей"
   ]
  },
  {
   "cell_type": "code",
   "execution_count": 20,
   "metadata": {
    "pycharm": {
     "is_executing": false
    }
   },
   "outputs": [],
   "source": [
    "grid_param = {\n",
    "    \"n_neighbors\": [1, 3, 5, 7, 9],\n",
    "    \"distance_name\": [\"euclidean\", \"manhattan\", \"chebyshev\"],\n",
    "    \"kernel_name\": [\"uniform\", \"triangular\", \"epanechnikov\", \"quartic\", \"triweight\",\n",
    "                    \"tricube\", \"gaussian\", \"cosine\", \"logistic\", \"sigmoid\"],\n",
    "    \"encoding\": [\"hot\"],\n",
    "    \"win_type\": [\"variable\"]\n",
    "}"
   ]
  },
  {
   "cell_type": "code",
   "execution_count": 21,
   "metadata": {
    "pycharm": {
     "is_executing": false
    }
   },
   "outputs": [],
   "source": [
    "grid_cv = model_selection.GridSearchCV(\n",
    "    MyKnn(),\n",
    "    grid_param,\n",
    "    scoring=scorer,\n",
    "    cv=LeaveOneOut()\n",
    ")"
   ]
  },
  {
   "cell_type": "code",
   "execution_count": 22,
   "metadata": {
    "pycharm": {
     "is_executing": false
    }
   },
   "outputs": [
    {
     "name": "stdout",
     "text": [
      "CPU times: user 6min 13s, sys: 308 ms, total: 6min 13s\n",
      "Wall time: 6min 13s\n"
     ],
     "output_type": "stream"
    },
    {
     "data": {
      "text/plain": "GridSearchCV(cv=LeaveOneOut(), error_score=nan,\n             estimator=MyKnn(distance_name='euclidean', encoding='label',\n                             kernel_name='cosine', n_neighbors=5,\n                             win_type='fixed'),\n             iid='deprecated', n_jobs=None,\n             param_grid={'distance_name': ['euclidean', 'manhattan',\n                                           'chebyshev'],\n                         'encoding': ['hot'],\n                         'kernel_name': ['uniform', 'triangular',\n                                         'epanechnikov', 'quartic', 'triweight',\n                                         'tricube', 'gaussian', 'cosine',\n                                         'logistic', 'sigmoid'],\n                         'n_neighbors': [1, 3, 5, 7, 9],\n                         'win_type': ['variable']},\n             pre_dispatch='2*n_jobs', refit=True, return_train_score=False,\n             scoring=make_scorer(f1_score, average=macro), verbose=0)"
     },
     "metadata": {},
     "output_type": "execute_result",
     "execution_count": 22
    }
   ],
   "source": [
    "%time grid_cv.fit(X, Y)"
   ]
  },
  {
   "cell_type": "code",
   "execution_count": 23,
   "metadata": {
    "pycharm": {
     "is_executing": false,
     "name": "#%%\n"
    }
   },
   "outputs": [
    {
     "name": "stdout",
     "text": [
      "Лучшие параметры для OneHot от числа соседей: {'distance_name': 'euclidean', 'encoding': 'hot', 'kernel_name': 'triangular', 'n_neighbors': 7, 'win_type': 'variable'}\n",
      "F1-мера с лучшими параметрами:                87.57%\n"
     ],
     "output_type": "stream"
    }
   ],
   "source": [
    "variable_params = grid_cv.best_params_\n",
    "variable_score = grid_cv.best_score_ \n",
    "print(f'Лучшие параметры для OneHot от числа соседей: {variable_params}')\n",
    "print(f'F1-мера с лучшими параметрами:                {variable_score:.2%}')"
   ]
  },
  {
   "cell_type": "markdown",
   "metadata": {},
   "source": [
    "### 2.2. От ширины окна"
   ]
  },
  {
   "cell_type": "code",
   "execution_count": 24,
   "metadata": {
    "pycharm": {
     "is_executing": false
    }
   },
   "outputs": [],
   "source": [
    "grid_param = {\n",
    "    \"n_neighbors\": np.arange(0.05, 0.5, 0.05),\n",
    "    \"distance_name\": [\"euclidean\", \"manhattan\", \"chebyshev\"],\n",
    "    \"kernel_name\": [\"uniform\", \"triangular\", \"epanechnikov\", \"quartic\", \"triweight\",\n",
    "                    \"tricube\", \"gaussian\", \"cosine\", \"logistic\", \"sigmoid\"],\n",
    "    \"encoding\": [\"hot\"],\n",
    "    \"win_type\": [\"fixed\"]\n",
    "}"
   ]
  },
  {
   "cell_type": "code",
   "execution_count": 25,
   "metadata": {
    "pycharm": {
     "is_executing": false
    }
   },
   "outputs": [],
   "source": [
    "grid_cv = model_selection.GridSearchCV(\n",
    "    MyKnn(),\n",
    "    grid_param,\n",
    "    scoring=scorer,\n",
    "    cv=LeaveOneOut()\n",
    ")"
   ]
  },
  {
   "cell_type": "code",
   "execution_count": 26,
   "metadata": {
    "pycharm": {
     "is_executing": false
    }
   },
   "outputs": [
    {
     "name": "stdout",
     "text": [
      "CPU times: user 11min 11s, sys: 692 ms, total: 11min 12s\n",
      "Wall time: 11min 12s\n"
     ],
     "output_type": "stream"
    },
    {
     "data": {
      "text/plain": "GridSearchCV(cv=LeaveOneOut(), error_score=nan,\n             estimator=MyKnn(distance_name='euclidean', encoding='label',\n                             kernel_name='cosine', n_neighbors=5,\n                             win_type='fixed'),\n             iid='deprecated', n_jobs=None,\n             param_grid={'distance_name': ['euclidean', 'manhattan',\n                                           'chebyshev'],\n                         'encoding': ['hot'],\n                         'kernel_name': ['uniform', 'triangular',\n                                         'epanechnikov', 'quartic', 'triweight',\n                                         'tricube', 'gaussian', 'cosine',\n                                         'logistic', 'sigmoid'],\n                         'n_neighbors': array([0.05, 0.1 , 0.15, 0.2 , 0.25, 0.3 , 0.35, 0.4 , 0.45]),\n                         'win_type': ['fixed']},\n             pre_dispatch='2*n_jobs', refit=True, return_train_score=False,\n             scoring=make_scorer(f1_score, average=macro), verbose=0)"
     },
     "metadata": {},
     "output_type": "execute_result",
     "execution_count": 26
    }
   ],
   "source": [
    "%time grid_cv.fit(X, Y)"
   ]
  },
  {
   "cell_type": "code",
   "execution_count": 27,
   "metadata": {
    "pycharm": {
     "is_executing": false,
     "name": "#%%\n"
    }
   },
   "outputs": [
    {
     "name": "stdout",
     "text": [
      "Лучшие параметры для OneHot от ширины окна: {'distance_name': 'chebyshev', 'encoding': 'hot', 'kernel_name': 'logistic', 'n_neighbors': 0.4, 'win_type': 'fixed'}\n",
      "F1-мера с лучшими параметрами:              63.14%\n"
     ],
     "output_type": "stream"
    }
   ],
   "source": [
    "fixed_params = grid_cv.best_params_\n",
    "fixed_score = grid_cv.best_score_\n",
    "print(f'Лучшие параметры для OneHot от ширины окна: {fixed_params}')\n",
    "print(f'F1-мера с лучшими параметрами:              {fixed_score:.2%}')"
   ]
  },
  {
   "cell_type": "markdown",
   "metadata": {},
   "source": [
    "### 2.3. Лучшие параметры"
   ]
  },
  {
   "cell_type": "code",
   "execution_count": 28,
   "metadata": {
    "pycharm": {
     "is_executing": false
    }
   },
   "outputs": [],
   "source": [
    "knn = MyKnn()\n",
    "\n",
    "if variable_score > fixed_score:\n",
    "    knn.set_params(**variable_params)\n",
    "    grid_param = {'n_neighbors': np.arange(1, 50, 2)}\n",
    "else:\n",
    "    knn.set_params(**fixed_params)\n",
    "    grid_param = {'n_neighbors': np.arange(0.02, 0.98, 0.02)}"
   ]
  },
  {
   "cell_type": "code",
   "execution_count": 29,
   "metadata": {
    "pycharm": {
     "is_executing": false
    }
   },
   "outputs": [],
   "source": [
    "grid_cv = model_selection.GridSearchCV(\n",
    "    knn,\n",
    "    grid_param,\n",
    "    scoring=scorer,\n",
    "    cv=LeaveOneOut()\n",
    ")"
   ]
  },
  {
   "cell_type": "code",
   "execution_count": 30,
   "metadata": {
    "pycharm": {
     "is_executing": false
    }
   },
   "outputs": [
    {
     "name": "stdout",
     "text": [
      "CPU times: user 1min 1s, sys: 51.9 ms, total: 1min 1s\n",
      "Wall time: 1min 1s\n"
     ],
     "output_type": "stream"
    },
    {
     "data": {
      "text/plain": "GridSearchCV(cv=LeaveOneOut(), error_score=nan,\n             estimator=MyKnn(distance_name='euclidean', encoding='hot',\n                             kernel_name='triangular', n_neighbors=7,\n                             win_type='variable'),\n             iid='deprecated', n_jobs=None,\n             param_grid={'n_neighbors': array([ 1,  3,  5,  7,  9, 11, 13, 15, 17, 19, 21, 23, 25, 27, 29, 31, 33,\n       35, 37, 39, 41, 43, 45, 47, 49])},\n             pre_dispatch='2*n_jobs', refit=True, return_train_score=False,\n             scoring=make_scorer(f1_score, average=macro), verbose=0)"
     },
     "metadata": {},
     "output_type": "execute_result",
     "execution_count": 30
    }
   ],
   "source": [
    "%time grid_cv.fit(X, Y)"
   ]
  },
  {
   "cell_type": "code",
   "execution_count": 31,
   "metadata": {
    "pycharm": {
     "is_executing": false,
     "name": "#%%\n"
    }
   },
   "outputs": [
    {
     "name": "stdout",
     "text": [
      "Лучшие параметры для OneHot:   {'n_neighbors': 7}\n",
      "F1-мера с лучшими параметрами: 87.57%\n"
     ],
     "output_type": "stream"
    }
   ],
   "source": [
    "best_params = grid_cv.best_params_\n",
    "best_score = grid_cv.best_score_\n",
    "print(f'Лучшие параметры для OneHot:   {best_params}')\n",
    "print(f'F1-мера с лучшими параметрами: {best_score:.2%}')"
   ]
  },
  {
   "cell_type": "code",
   "execution_count": 32,
   "metadata": {
    "pycharm": {
     "is_executing": false,
     "name": "#%%\n"
    }
   },
   "outputs": [
    {
     "data": {
      "text/plain": "[<matplotlib.lines.Line2D at 0x7faf03283ca0>]"
     },
     "metadata": {},
     "output_type": "execute_result",
     "execution_count": 32
    },
    {
     "data": {
      "text/plain": "<Figure size 432x288 with 1 Axes>",
      "image/png": "[encoded data removed]"
     },
     "metadata": {
      "needs_background": "light"
     },
     "output_type": "display_data"
    }
   ],
   "source": [
    "plt.title('Зависимость F-меры от количества соседей / ширины окна')\n",
    "plt.plot(list(grid_cv.cv_results_['param_n_neighbors']), grid_cv.cv_results_['mean_test_score'])"
   ]
  }
 ],
 "metadata": {
  "celltoolbar": "Raw Cell Format",
  "kernelspec": {
   "display_name": "Python 3",
   "language": "python",
   "name": "python3"
  },
  "language_info": {
   "codemirror_mode": {
    "name": "ipython",
    "version": 3
   },
   "file_extension": ".py",
   "mimetype": "text/x-python",
   "name": "python",
   "nbconvert_exporter": "python",
   "pygments_lexer": "ipython3",
   "version": "3.8.0"
  },
  "pycharm": {
   "stem_cell": {
    "cell_type": "raw",
    "metadata": {
     "collapsed": false
    },
    "source": []
   }
  }
 },
 "nbformat": 4,
 "nbformat_minor": 4
}